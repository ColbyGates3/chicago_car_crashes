{
 "cells": [
  {
   "cell_type": "code",
   "execution_count": 1,
   "metadata": {},
   "outputs": [
    {
     "name": "stderr",
     "output_type": "stream",
     "text": [
      "/Users/nechamaborisute/anaconda3/envs/learn-env/lib/python3.8/site-packages/IPython/core/interactiveshell.py:3145: DtypeWarning: Columns (19,23,24,25,28) have mixed types.Specify dtype option on import or set low_memory=False.\n",
      "  has_raised = await self.run_ast_nodes(code_ast.body, cell_name,\n",
      "/Users/nechamaborisute/anaconda3/envs/learn-env/lib/python3.8/site-packages/IPython/core/interactiveshell.py:3145: DtypeWarning: Columns (18,20,39,40,41,43,47,48,49,52,54,57,58,60,70) have mixed types.Specify dtype option on import or set low_memory=False.\n",
      "  has_raised = await self.run_ast_nodes(code_ast.body, cell_name,\n"
     ]
    }
   ],
   "source": [
    "import pandas as pd\n",
    "\n",
    "crashes = pd.read_csv('../data/crashes_crashes.csv')\n",
    "\n",
    "people = pd.read_csv('../data/crashes_people.csv')\n",
    "\n",
    "vehicles = pd.read_csv('../data/crashes_vehicles.csv')\n",
    "\n",
    "\n"
   ]
  },
  {
   "cell_type": "code",
   "execution_count": 2,
   "metadata": {},
   "outputs": [
    {
     "name": "stderr",
     "output_type": "stream",
     "text": [
      "<ipython-input-2-5cf993a9d78a>:20: SettingWithCopyWarning: \n",
      "A value is trying to be set on a copy of a slice from a DataFrame.\n",
      "Try using .loc[row_indexer,col_indexer] = value instead\n",
      "\n",
      "See the caveats in the documentation: https://pandas.pydata.org/pandas-docs/stable/user_guide/indexing.html#returning-a-view-versus-a-copy\n",
      "  crashes_prime_cause_filleddrop['GEO_KMEANS_Cluster'] = cluster_labels\n"
     ]
    },
    {
     "name": "stdout",
     "output_type": "stream",
     "text": [
      "<class 'pandas.core.frame.DataFrame'>\n",
      "Int64Index: 442382 entries, 2 to 798905\n",
      "Data columns (total 24 columns):\n",
      " #   Column                   Non-Null Count   Dtype  \n",
      "---  ------                   --------------   -----  \n",
      " 0   CRASH_RECORD_ID          442382 non-null  object \n",
      " 1   POSTED_SPEED_LIMIT       442382 non-null  int64  \n",
      " 2   WEATHER_CONDITION        442382 non-null  object \n",
      " 3   LIGHTING_CONDITION       442382 non-null  object \n",
      " 4   FIRST_CRASH_TYPE         442382 non-null  object \n",
      " 5   TRAFFICWAY_TYPE          442382 non-null  object \n",
      " 6   ALIGNMENT                442382 non-null  object \n",
      " 7   ROADWAY_SURFACE_COND     442382 non-null  object \n",
      " 8   ROAD_DEFECT              442382 non-null  object \n",
      " 9   CRASH_TYPE               442382 non-null  object \n",
      " 10  INTERSECTION_RELATED_I   442382 non-null  object \n",
      " 11  NOT_RIGHT_OF_WAY_I       442382 non-null  object \n",
      " 12  HIT_AND_RUN_I            442382 non-null  object \n",
      " 13  DAMAGE                   442382 non-null  object \n",
      " 14  PRIM_CONTRIBUTORY_CAUSE  442382 non-null  object \n",
      " 15  SEC_CONTRIBUTORY_CAUSE   442382 non-null  object \n",
      " 16  NUM_UNITS                442382 non-null  int64  \n",
      " 17  MOST_SEVERE_INJURY       442382 non-null  object \n",
      " 18  CRASH_HOUR               442382 non-null  int64  \n",
      " 19  CRASH_DAY_OF_WEEK        442382 non-null  int64  \n",
      " 20  CRASH_MONTH              442382 non-null  int64  \n",
      " 21  LATITUDE                 442382 non-null  float64\n",
      " 22  LONGITUDE                442382 non-null  float64\n",
      " 23  GEO_KMEANS_Cluster       442382 non-null  int32  \n",
      "dtypes: float64(2), int32(1), int64(5), object(16)\n",
      "memory usage: 82.7+ MB\n"
     ]
    }
   ],
   "source": [
    "crashes_prime_cause = crashes[(crashes['PRIM_CONTRIBUTORY_CAUSE'] != 'UNABLE TO DETERMINE') & (crashes['PRIM_CONTRIBUTORY_CAUSE'] != 'NOT APPLICABLE')]\n",
    "\n",
    "crashes_prime_cause_filled = crashes_prime_cause.fillna({'INTERSECTION_RELATED_I': 'N', 'NOT_RIGHT_OF_WAY_I': \n",
    "                                                         'N', 'HIT_AND_RUN_I':'N'})\n",
    "\n",
    "crashes_prime_cause_filleddrop = crashes_prime_cause_filled.dropna(subset=['LATITUDE', 'LONGITUDE', 'INJURIES_TOTAL', 'INJURIES_FATAL', 'MOST_SEVERE_INJURY'])\n",
    "\n",
    "\n",
    "from sklearn.cluster import KMeans\n",
    "\n",
    "n_clusters = 30  # Number of clusters to create\n",
    "X = crashes_prime_cause_filleddrop[['LONGITUDE', 'LATITUDE']]\n",
    "\n",
    "# Create a K-Means clustering model\n",
    "kmeans = KMeans(n_clusters=n_clusters, random_state=0)\n",
    "kmeans.fit(X)\n",
    "\n",
    "# Add cluster labels to your data\n",
    "cluster_labels = kmeans.labels_\n",
    "crashes_prime_cause_filleddrop['GEO_KMEANS_Cluster'] = cluster_labels\n",
    "\n",
    "\n",
    "\n",
    "\n",
    "\n",
    "crashes_prime_cause_filleddrop = crashes_prime_cause_filleddrop.drop(columns = ['CRASH_DATE_EST_I', 'DEVICE_CONDITION', 'REPORT_TYPE', 'DATE_POLICE_NOTIFIED',\n",
    "                                                          'STREET_NO', 'STREET_DIRECTION', 'STREET_NAME','BEAT_OF_OCCURRENCE', 'PHOTOS_TAKEN_I', \n",
    "                                                          'STATEMENTS_TAKEN_I', 'DOORING_I', 'WORK_ZONE_I', 'WORK_ZONE_TYPE', 'WORKERS_PRESENT_I', \n",
    "                                                          'INJURIES_INCAPACITATING', 'INJURIES_NON_INCAPACITATING', 'INJURIES_NO_INDICATION', \n",
    "                                                          'INJURIES_UNKNOWN', 'LOCATION', 'LANE_CNT', 'CRASH_DATE', \n",
    "                                                          'INJURIES_REPORTED_NOT_EVIDENT', 'TRAFFIC_CONTROL_DEVICE', 'INJURIES_TOTAL', \n",
    "                                                          'INJURIES_FATAL'])\n",
    "crashes_prime_cause_filleddrop.info()\n"
   ]
  },
  {
   "cell_type": "code",
   "execution_count": 3,
   "metadata": {},
   "outputs": [
    {
     "name": "stdout",
     "output_type": "stream",
     "text": [
      "<class 'pandas.core.frame.DataFrame'>\n",
      "Int64Index: 442382 entries, 2 to 798905\n",
      "Columns: 127 entries, CRASH_RECORD_ID to MOST_SEVERE_INJURY_REPORTED, NOT EVIDENT\n",
      "dtypes: float64(2), int32(1), int64(122), object(2)\n",
      "memory usage: 430.3+ MB\n"
     ]
    }
   ],
   "source": [
    "#Transforming to numerical data\n",
    "\n",
    "crashes_prime_cause_filleddrop_dummy = pd.get_dummies(crashes_prime_cause_filleddrop, columns = ['WEATHER_CONDITION', 'LIGHTING_CONDITION',\n",
    "                                                                                                 'FIRST_CRASH_TYPE', 'TRAFFICWAY_TYPE', \n",
    "                                                                                                 'ALIGNMENT', 'ROADWAY_SURFACE_COND', \n",
    "                                                                                                 'SEC_CONTRIBUTORY_CAUSE', 'ROAD_DEFECT',\n",
    "                                                                                                 'MOST_SEVERE_INJURY'], drop_first=True, \n",
    "                                                                                                  dtype=int)\n",
    "                                                                                                 \n",
    "\n",
    "\n",
    "\n",
    "\n",
    "#binary/tertiary\n",
    "from sklearn.preprocessing import LabelEncoder\n",
    "\n",
    "le = LabelEncoder()\n",
    "\n",
    "for col in ['CRASH_TYPE','INTERSECTION_RELATED_I', 'NOT_RIGHT_OF_WAY_I', 'HIT_AND_RUN_I', 'DAMAGE']:\n",
    "    crashes_prime_cause_filleddrop_dummy[col] = le.fit_transform(crashes_prime_cause_filleddrop_dummy[col])\n",
    "\n",
    "\n",
    "crashes_cleaned = crashes_prime_cause_filleddrop_dummy\n",
    "\n",
    "\n",
    "crashes_cleaned.info()\n"
   ]
  },
  {
   "cell_type": "code",
   "execution_count": 4,
   "metadata": {},
   "outputs": [
    {
     "data": {
      "text/plain": [
       "FAILING TO YIELD RIGHT-OF-WAY                                                       87034\n",
       "FOLLOWING TOO CLOSELY                                                               77351\n",
       "IMPROPER OVERTAKING/PASSING                                                         39012\n",
       "FAILING TO REDUCE SPEED TO AVOID CRASH                                              33568\n",
       "IMPROPER BACKING                                                                    31286\n",
       "IMPROPER LANE USAGE                                                                 28331\n",
       "DRIVING SKILLS/KNOWLEDGE/EXPERIENCE                                                 26380\n",
       "IMPROPER TURNING/NO SIGNAL                                                          26339\n",
       "DISREGARDING TRAFFIC SIGNALS                                                        15440\n",
       "WEATHER                                                                             11870\n",
       "OPERATING VEHICLE IN ERRATIC, RECKLESS, CARELESS, NEGLIGENT OR AGGRESSIVE MANNER    10097\n",
       "DISREGARDING STOP SIGN                                                               8655\n",
       "DISTRACTION - FROM INSIDE VEHICLE                                                    5459\n",
       "EQUIPMENT - VEHICLE CONDITION                                                        4897\n",
       "PHYSICAL CONDITION OF DRIVER                                                         4724\n",
       "VISION OBSCURED (SIGNS, TREE LIMBS, BUILDINGS, ETC.)                                 4516\n",
       "DRIVING ON WRONG SIDE/WRONG WAY                                                      4219\n",
       "UNDER THE INFLUENCE OF ALCOHOL/DRUGS (USE WHEN ARREST IS EFFECTED)                   3757\n",
       "DISTRACTION - FROM OUTSIDE VEHICLE                                                   3267\n",
       "EXCEEDING AUTHORIZED SPEED LIMIT                                                     1956\n",
       "ROAD ENGINEERING/SURFACE/MARKING DEFECTS                                             1950\n",
       "ROAD CONSTRUCTION/MAINTENANCE                                                        1712\n",
       "DISREGARDING OTHER TRAFFIC SIGNS                                                     1706\n",
       "EXCEEDING SAFE SPEED FOR CONDITIONS                                                  1671\n",
       "EVASIVE ACTION DUE TO ANIMAL, OBJECT, NONMOTORIST                                    1455\n",
       "CELL PHONE USE OTHER THAN TEXTING                                                    1066\n",
       "DISREGARDING ROAD MARKINGS                                                            964\n",
       "HAD BEEN DRINKING (USE WHEN ARREST IS NOT MADE)                                       818\n",
       "ANIMAL                                                                                677\n",
       "TURNING RIGHT ON RED                                                                  597\n",
       "RELATED TO BUS STOP                                                                   377\n",
       "DISTRACTION - OTHER ELECTRONIC DEVICE (NAVIGATION DEVICE, DVD PLAYER, ETC.)           375\n",
       "TEXTING                                                                               311\n",
       "DISREGARDING YIELD SIGN                                                               266\n",
       "PASSING STOPPED SCHOOL BUS                                                             95\n",
       "OBSTRUCTED CROSSWALKS                                                                  85\n",
       "BICYCLE ADVANCING LEGALLY ON RED LIGHT                                                 77\n",
       "MOTORCYCLE ADVANCING LEGALLY ON RED LIGHT                                              22\n",
       "Name: PRIM_CONTRIBUTORY_CAUSE, dtype: int64"
      ]
     },
     "execution_count": 4,
     "metadata": {},
     "output_type": "execute_result"
    }
   ],
   "source": [
    "crashes_cleaned['PRIM_CONTRIBUTORY_CAUSE'].value_counts()"
   ]
  },
  {
   "cell_type": "code",
   "execution_count": 5,
   "metadata": {},
   "outputs": [],
   "source": [
    "crashes_cleaned.to_csv('../data/crashes_cleaned.csv', index=True)"
   ]
  },
  {
   "cell_type": "code",
   "execution_count": null,
   "metadata": {},
   "outputs": [],
   "source": []
  }
 ],
 "metadata": {
  "kernelspec": {
   "display_name": "Python 3",
   "language": "python",
   "name": "python3"
  },
  "language_info": {
   "codemirror_mode": {
    "name": "ipython",
    "version": 3
   },
   "file_extension": ".py",
   "mimetype": "text/x-python",
   "name": "python",
   "nbconvert_exporter": "python",
   "pygments_lexer": "ipython3",
   "version": "3.8.5"
  }
 },
 "nbformat": 4,
 "nbformat_minor": 5
}
