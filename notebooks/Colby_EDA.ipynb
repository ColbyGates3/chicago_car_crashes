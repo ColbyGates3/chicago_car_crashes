{
 "cells": [
  {
   "cell_type": "code",
   "execution_count": 3,
   "id": "4f5f55ac-b0a7-4789-b718-a08ac36b6920",
   "metadata": {},
   "outputs": [
    {
     "name": "stderr",
     "output_type": "stream",
     "text": [
      "/var/folders/bt/mf607s9n0xs6sr08g8c44w9c0000gn/T/ipykernel_15393/3920235.py:5: DtypeWarning: Columns (19,23,24,25,28) have mixed types. Specify dtype option on import or set low_memory=False.\n",
      "  people = pd.read_csv('../data/crashes_people.csv')\n",
      "/var/folders/bt/mf607s9n0xs6sr08g8c44w9c0000gn/T/ipykernel_15393/3920235.py:7: DtypeWarning: Columns (18,20,39,40,41,43,47,48,49,52,54,57,58,60,70) have mixed types. Specify dtype option on import or set low_memory=False.\n",
      "  vehicles = pd.read_csv('../data/crashes_vehicles.csv')\n"
     ]
    }
   ],
   "source": [
    "import pandas as pd\n",
    "\n",
    "crashes = pd.read_csv('../data/crashes_crashes.csv')\n",
    "\n",
    "people = pd.read_csv('../data/crashes_people.csv')\n",
    "\n",
    "vehicles = pd.read_csv('../data/crashes_vehicles.csv')\n",
    "\n",
    "\n"
   ]
  },
  {
   "cell_type": "code",
   "execution_count": 4,
   "id": "6cc0a76c-9687-46a7-8411-610fd4673d03",
   "metadata": {},
   "outputs": [
    {
     "name": "stderr",
     "output_type": "stream",
     "text": [
      "/Library/Frameworks/Python.framework/Versions/3.11/lib/python3.11/site-packages/sklearn/cluster/_kmeans.py:1416: FutureWarning: The default value of `n_init` will change from 10 to 'auto' in 1.4. Set the value of `n_init` explicitly to suppress the warning\n",
      "  super()._check_params_vs_input(X, default_n_init=10)\n",
      "/var/folders/bt/mf607s9n0xs6sr08g8c44w9c0000gn/T/ipykernel_15393/3962835711.py:20: SettingWithCopyWarning: \n",
      "A value is trying to be set on a copy of a slice from a DataFrame.\n",
      "Try using .loc[row_indexer,col_indexer] = value instead\n",
      "\n",
      "See the caveats in the documentation: https://pandas.pydata.org/pandas-docs/stable/user_guide/indexing.html#returning-a-view-versus-a-copy\n",
      "  crashes_prime_cause_filleddrop['GEO_KMEANS_Cluster'] = cluster_labels\n"
     ]
    },
    {
     "name": "stdout",
     "output_type": "stream",
     "text": [
      "<class 'pandas.core.frame.DataFrame'>\n",
      "Index: 484057 entries, 2 to 798905\n",
      "Data columns (total 22 columns):\n",
      " #   Column                   Non-Null Count   Dtype \n",
      "---  ------                   --------------   ----- \n",
      " 0   CRASH_RECORD_ID          484057 non-null  object\n",
      " 1   POSTED_SPEED_LIMIT       484057 non-null  int64 \n",
      " 2   WEATHER_CONDITION        484057 non-null  object\n",
      " 3   LIGHTING_CONDITION       484057 non-null  object\n",
      " 4   FIRST_CRASH_TYPE         484057 non-null  object\n",
      " 5   TRAFFICWAY_TYPE          484057 non-null  object\n",
      " 6   ALIGNMENT                484057 non-null  object\n",
      " 7   ROADWAY_SURFACE_COND     484057 non-null  object\n",
      " 8   ROAD_DEFECT              484057 non-null  object\n",
      " 9   CRASH_TYPE               484057 non-null  object\n",
      " 10  INTERSECTION_RELATED_I   484057 non-null  object\n",
      " 11  NOT_RIGHT_OF_WAY_I       484057 non-null  object\n",
      " 12  HIT_AND_RUN_I            484057 non-null  object\n",
      " 13  DAMAGE                   484057 non-null  object\n",
      " 14  PRIM_CONTRIBUTORY_CAUSE  484057 non-null  object\n",
      " 15  SEC_CONTRIBUTORY_CAUSE   484057 non-null  object\n",
      " 16  NUM_UNITS                484057 non-null  int64 \n",
      " 17  MOST_SEVERE_INJURY       484057 non-null  object\n",
      " 18  CRASH_HOUR               484057 non-null  int64 \n",
      " 19  CRASH_DAY_OF_WEEK        484057 non-null  int64 \n",
      " 20  CRASH_MONTH              484057 non-null  int64 \n",
      " 21  GEO_KMEANS_Cluster       484057 non-null  int32 \n",
      "dtypes: int32(1), int64(5), object(16)\n",
      "memory usage: 83.1+ MB\n"
     ]
    }
   ],
   "source": [
    "crashes_prime_cause = crashes[crashes['PRIM_CONTRIBUTORY_CAUSE'] != 'UNABLE TO DETERMINE']\n",
    "\n",
    "crashes_prime_cause_filled = crashes_prime_cause.fillna({'INTERSECTION_RELATED_I': 'N', 'NOT_RIGHT_OF_WAY_I': \n",
    "                                                         'N', 'HIT_AND_RUN_I':'N'})\n",
    "\n",
    "crashes_prime_cause_filleddrop = crashes_prime_cause_filled.dropna(subset=['LATITUDE', 'LONGITUDE', 'INJURIES_TOTAL', 'INJURIES_FATAL', 'MOST_SEVERE_INJURY'])\n",
    "\n",
    "\n",
    "from sklearn.cluster import KMeans\n",
    "\n",
    "n_clusters = 30  # Number of clusters to create\n",
    "X = crashes_prime_cause_filleddrop[['LONGITUDE', 'LATITUDE']]\n",
    "\n",
    "# Create a K-Means clustering model\n",
    "kmeans = KMeans(n_clusters=n_clusters, random_state=0)\n",
    "kmeans.fit(X)\n",
    "\n",
    "# Add cluster labels to your data\n",
    "cluster_labels = kmeans.labels_\n",
    "crashes_prime_cause_filleddrop['GEO_KMEANS_Cluster'] = cluster_labels\n",
    "\n",
    "\n",
    "\n",
    "\n",
    "\n",
    "crashes_prime_cause_filleddrop = crashes_prime_cause_filleddrop.drop(columns = ['CRASH_DATE_EST_I', 'DEVICE_CONDITION', 'REPORT_TYPE', 'DATE_POLICE_NOTIFIED',\n",
    "                                                          'STREET_NO', 'STREET_DIRECTION', 'STREET_NAME','BEAT_OF_OCCURRENCE', 'PHOTOS_TAKEN_I', \n",
    "                                                          'STATEMENTS_TAKEN_I', 'DOORING_I', 'WORK_ZONE_I', 'WORK_ZONE_TYPE', 'WORKERS_PRESENT_I', \n",
    "                                                          'INJURIES_INCAPACITATING', 'INJURIES_NON_INCAPACITATING', 'INJURIES_NO_INDICATION', \n",
    "                                                          'INJURIES_UNKNOWN', 'LOCATION', 'LATITUDE', 'LONGITUDE', 'LANE_CNT', 'CRASH_DATE', \n",
    "                                                          'INJURIES_REPORTED_NOT_EVIDENT', 'TRAFFIC_CONTROL_DEVICE', 'INJURIES_TOTAL', \n",
    "                                                          'INJURIES_FATAL'])\n",
    "crashes_prime_cause_filleddrop.info()\n"
   ]
  },
  {
   "cell_type": "code",
   "execution_count": 5,
   "id": "b2fa4880-4204-41cb-ac43-1e6d92ff787c",
   "metadata": {},
   "outputs": [
    {
     "data": {
      "text/plain": [
       "MOST_SEVERE_INJURY\n",
       "NO INDICATION OF INJURY     406574\n",
       "NONINCAPACITATING INJURY     44287\n",
       "REPORTED, NOT EVIDENT        23056\n",
       "INCAPACITATING INJURY         9571\n",
       "FATAL                          569\n",
       "Name: count, dtype: int64"
      ]
     },
     "execution_count": 5,
     "metadata": {},
     "output_type": "execute_result"
    }
   ],
   "source": [
    "\n",
    "#decide which injuiry column to drop\n",
    "crashes_prime_cause_filleddrop['MOST_SEVERE_INJURY'].value_counts()\n",
    "#crashes_prime_cause_filleddrop['INJURIES_TOTAL'].value_counts()\n",
    "#crashes_prime_cause_filleddrop['INJURIES_FATAL'].value_counts()\n"
   ]
  },
  {
   "cell_type": "code",
   "execution_count": 7,
   "id": "f58f815b-48d8-47ba-8ece-3bc1f122026a",
   "metadata": {},
   "outputs": [
    {
     "name": "stdout",
     "output_type": "stream",
     "text": [
      "<class 'pandas.core.frame.DataFrame'>\n",
      "Index: 484057 entries, 2 to 798905\n",
      "Columns: 125 entries, CRASH_RECORD_ID to MOST_SEVERE_INJURY_REPORTED, NOT EVIDENT\n",
      "dtypes: int32(1), int64(122), object(2)\n",
      "memory usage: 463.5+ MB\n"
     ]
    }
   ],
   "source": [
    "#Transforming to numerical data\n",
    "\n",
    "crashes_prime_cause_filleddrop_dummy = pd.get_dummies(crashes_prime_cause_filleddrop, columns = ['WEATHER_CONDITION', 'LIGHTING_CONDITION',\n",
    "                                                                                                 'FIRST_CRASH_TYPE', 'TRAFFICWAY_TYPE', \n",
    "                                                                                                 'ALIGNMENT', 'ROADWAY_SURFACE_COND', \n",
    "                                                                                                 'SEC_CONTRIBUTORY_CAUSE', 'ROAD_DEFECT',\n",
    "                                                                                                 'MOST_SEVERE_INJURY'], drop_first=True, \n",
    "                                                                                                  dtype=int)\n",
    "                                                                                                 \n",
    "\n",
    "\n",
    "\n",
    "\n",
    "#binary/tertiary\n",
    "from sklearn.preprocessing import LabelEncoder\n",
    "\n",
    "le = LabelEncoder()\n",
    "\n",
    "for col in ['CRASH_TYPE','INTERSECTION_RELATED_I', 'NOT_RIGHT_OF_WAY_I', 'HIT_AND_RUN_I', 'DAMAGE']:\n",
    "    crashes_prime_cause_filleddrop_dummy[col] = le.fit_transform(crashes_prime_cause_filleddrop_dummy[col])\n",
    "\n",
    "\n",
    "crashes_cleaned = crashes_prime_cause_filleddrop_dummy\n",
    "\n",
    "\n",
    "crashes_cleaned.info()\n"
   ]
  },
  {
   "cell_type": "code",
   "execution_count": null,
   "id": "fc2d9055-752f-44f8-8e8e-f93a6cd5a4d9",
   "metadata": {},
   "outputs": [],
   "source": []
  }
 ],
 "metadata": {
  "kernelspec": {
   "display_name": "Python 3 (ipykernel)",
   "language": "python",
   "name": "python3"
  },
  "language_info": {
   "codemirror_mode": {
    "name": "ipython",
    "version": 3
   },
   "file_extension": ".py",
   "mimetype": "text/x-python",
   "name": "python",
   "nbconvert_exporter": "python",
   "pygments_lexer": "ipython3",
   "version": "3.11.4"
  }
 },
 "nbformat": 4,
 "nbformat_minor": 5
}
