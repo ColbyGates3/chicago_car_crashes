{
 "cells": [
  {
   "cell_type": "markdown",
   "id": "882c53bb-4b0d-4e1e-b7be-7974c4974c7a",
   "metadata": {},
   "source": [
    "# Data Cleaning"
   ]
  },
  {
   "cell_type": "markdown",
   "id": "b7e71e0c-f999-4699-b435-ffdc08368f3f",
   "metadata": {},
   "source": [
    "## Crashes Dataset"
   ]
  },
  {
   "cell_type": "code",
   "execution_count": 3,
   "id": "9ac08c07-6d71-45fd-aba0-eb5604a8ee20",
   "metadata": {},
   "outputs": [
    {
     "data": {
      "text/plain": [
       "40"
      ]
     },
     "execution_count": 3,
     "metadata": {},
     "output_type": "execute_result"
    }
   ],
   "source": [
    "import pandas as pd\n",
    "import numpy as np\n",
    "\n",
    "crashes = pd.read_csv('../data/crashes_crashes.csv')"
   ]
  },
  {
   "cell_type": "code",
   "execution_count": 4,
   "id": "4e36743e-fa33-4556-83b2-067d0a979912",
   "metadata": {},
   "outputs": [
    {
     "data": {
      "text/plain": [
       "PRIM_CONTRIBUTORY_CAUSE\n",
       "UNABLE TO DETERMINE                                                                 310493\n",
       "FAILING TO YIELD RIGHT-OF-WAY                                                        87668\n",
       "FOLLOWING TOO CLOSELY                                                                77957\n",
       "NOT APPLICABLE                                                                       42294\n",
       "IMPROPER OVERTAKING/PASSING                                                          39303\n",
       "FAILING TO REDUCE SPEED TO AVOID CRASH                                               33776\n",
       "IMPROPER BACKING                                                                     31565\n",
       "IMPROPER LANE USAGE                                                                  28699\n",
       "DRIVING SKILLS/KNOWLEDGE/EXPERIENCE                                                  26639\n",
       "IMPROPER TURNING/NO SIGNAL                                                           26520\n",
       "DISREGARDING TRAFFIC SIGNALS                                                         15553\n",
       "WEATHER                                                                              12120\n",
       "OPERATING VEHICLE IN ERRATIC, RECKLESS, CARELESS, NEGLIGENT OR AGGRESSIVE MANNER     10191\n",
       "DISREGARDING STOP SIGN                                                                8678\n",
       "DISTRACTION - FROM INSIDE VEHICLE                                                     5499\n",
       "EQUIPMENT - VEHICLE CONDITION                                                         4997\n",
       "PHYSICAL CONDITION OF DRIVER                                                          4755\n",
       "VISION OBSCURED (SIGNS, TREE LIMBS, BUILDINGS, ETC.)                                  4553\n",
       "DRIVING ON WRONG SIDE/WRONG WAY                                                       4252\n",
       "UNDER THE INFLUENCE OF ALCOHOL/DRUGS (USE WHEN ARREST IS EFFECTED)                    3778\n",
       "DISTRACTION - FROM OUTSIDE VEHICLE                                                    3298\n",
       "EXCEEDING AUTHORIZED SPEED LIMIT                                                      1982\n",
       "ROAD ENGINEERING/SURFACE/MARKING DEFECTS                                              1966\n",
       "ROAD CONSTRUCTION/MAINTENANCE                                                         1723\n",
       "DISREGARDING OTHER TRAFFIC SIGNS                                                      1719\n",
       "EXCEEDING SAFE SPEED FOR CONDITIONS                                                   1684\n",
       "EVASIVE ACTION DUE TO ANIMAL, OBJECT, NONMOTORIST                                     1468\n",
       "CELL PHONE USE OTHER THAN TEXTING                                                     1072\n",
       "DISREGARDING ROAD MARKINGS                                                             974\n",
       "HAD BEEN DRINKING (USE WHEN ARREST IS NOT MADE)                                        828\n",
       "ANIMAL                                                                                 679\n",
       "TURNING RIGHT ON RED                                                                   603\n",
       "RELATED TO BUS STOP                                                                    380\n",
       "DISTRACTION - OTHER ELECTRONIC DEVICE (NAVIGATION DEVICE, DVD PLAYER, ETC.)            378\n",
       "TEXTING                                                                                312\n",
       "DISREGARDING YIELD SIGN                                                                268\n",
       "PASSING STOPPED SCHOOL BUS                                                              95\n",
       "OBSTRUCTED CROSSWALKS                                                                   86\n",
       "BICYCLE ADVANCING LEGALLY ON RED LIGHT                                                  79\n",
       "MOTORCYCLE ADVANCING LEGALLY ON RED LIGHT                                               22\n",
       "Name: count, dtype: int64"
      ]
     },
     "execution_count": 4,
     "metadata": {},
     "output_type": "execute_result"
    }
   ],
   "source": [
    "crashes['PRIM_CONTRIBUTORY_CAUSE'].value_counts()"
   ]
  },
  {
   "cell_type": "markdown",
   "id": "cffe1a96-6364-4a77-97af-3c6cb4e8234d",
   "metadata": {},
   "source": [
    "### Getting rid of rows without target variable"
   ]
  },
  {
   "cell_type": "code",
   "execution_count": 104,
   "id": "0d460eea-ebd5-465e-b3a3-90759ce58c3b",
   "metadata": {},
   "outputs": [],
   "source": [
    "crashes_prime_cause = crashes[(crashes['PRIM_CONTRIBUTORY_CAUSE'] != 'UNABLE TO DETERMINE') & (crashes['PRIM_CONTRIBUTORY_CAUSE'] != 'NOT APPLICABLE')]"
   ]
  },
  {
   "cell_type": "markdown",
   "id": "1c616885-03e4-419e-ad59-851d10cbd45a",
   "metadata": {},
   "source": [
    "### Binning Target Variable"
   ]
  },
  {
   "cell_type": "code",
   "execution_count": 106,
   "id": "29e8b8db-cdaf-4837-8576-172959169507",
   "metadata": {},
   "outputs": [
    {
     "name": "stderr",
     "output_type": "stream",
     "text": [
      "/var/folders/bt/mf607s9n0xs6sr08g8c44w9c0000gn/T/ipykernel_24473/325155699.py:28: SettingWithCopyWarning: \n",
      "A value is trying to be set on a copy of a slice from a DataFrame.\n",
      "Try using .loc[row_indexer,col_indexer] = value instead\n",
      "\n",
      "See the caveats in the documentation: https://pandas.pydata.org/pandas-docs/stable/user_guide/indexing.html#returning-a-view-versus-a-copy\n",
      "  crashes_prime_cause['PRIM_CONTRIBUTORY_CAUSE'] = crashes_prime_cause['PRIM_CONTRIBUTORY_CAUSE'].replace(to_replace = group, value = value)\n"
     ]
    },
    {
     "data": {
      "text/plain": [
       "PRIM_CONTRIBUTORY_CAUSE\n",
       "BAD DRIVING                   277735\n",
       "BREAKING LAW                  114860\n",
       "OUTSIDE FACTORS                28657\n",
       "DRINKING/DRUGS                 14797\n",
       "DISTRACTION INSIDE VEHICLE      7261\n",
       "OTHER                           2809\n",
       "Name: count, dtype: int64"
      ]
     },
     "execution_count": 106,
     "metadata": {},
     "output_type": "execute_result"
    }
   ],
   "source": [
    "breaking_laws_list = ['DISREGARDING TRAFFIC SIGNALS', 'DISREGARDING STOP SIGN', 'DISREGARDING ROAD MARKINGS', \n",
    "                  'DISREGARDING OTHER TRAFFIC SIGNS', 'DISREGARDING YIELD SIGN', 'FAILING TO YIELD RIGHT-OF-WAY'] \n",
    "\n",
    "bad_driving_list = ['DRIVING ON WRONG SIDE/WRONG WAY', 'FOLLOWING TOO CLOSELY', 'IMPROPER OVERTAKING/PASSING', \n",
    "                    'FAILING TO REDUCE SPEED TO AVOID CRASH', 'TURNING RIGHT ON RED','EXCEEDING SAFE SPEED FOR CONDITIONS',\n",
    "                    'EXCEEDING AUTHORIZED SPEED LIMIT', 'IMPROPER LANE USAGE', 'PHYSICAL CONDITION OF DRIVER', \n",
    "                  'DRIVING SKILLS/KNOWLEDGE/EXPERIENCE','IMPROPER BACKING', 'IMPROPER TURNING/NO SIGNAL']\n",
    "\n",
    "distraction_list = ['TEXTING', 'DISTRACTION - OTHER ELECTRONIC DEVICE (NAVIGATION DEVICE, DVD PLAYER, ETC.)', \n",
    "                    'DISTRACTION - FROM INSIDE VEHICLE','CELL PHONE USE OTHER THAN TEXTING']\n",
    "\n",
    "drinking_list = ['OPERATING VEHICLE IN ERRATIC, RECKLESS, CARELESS, NEGLIGENT OR AGGRESSIVE MANNER', \n",
    "                 'HAD BEEN DRINKING (USE WHEN ARREST IS NOT MADE)', 'UNDER THE INFLUENCE OF ALCOHOL/DRUGS (USE WHEN ARREST IS EFFECTED)']\n",
    "\n",
    "road_list = ['DISTRACTION - FROM OUTSIDE VEHICLE', 'ROAD ENGINEERING/SURFACE/MARKING DEFECTS', 'ROAD CONSTRUCTION/MAINTENANCE', 'EQUIPMENT - VEHICLE CONDITION', \n",
    "             'VISION OBSCURED (SIGNS, TREE LIMBS, BUILDINGS, ETC.)', 'WEATHER']\n",
    "\n",
    "other_list= ['PASSING STOPPED SCHOOL BUS', 'OBSTRUCTED CROSSWALKS', 'BICYCLE ADVANCING LEGALLY ON RED LIGHT', \n",
    "             'MOTORCYCLE ADVANCING LEGALLY ON RED LIGHT', 'EVASIVE ACTION DUE TO ANIMAL, OBJECT, NONMOTORIST', 'ANIMAL', 'TURNING RIGHT ON RED', \n",
    "             'RELATED TO BUS STOP'] \n",
    "\n",
    "binning_list = [breaking_laws_list, bad_driving_list, distraction_list, drinking_list, road_list, other_list]\n",
    "value_list = ['BREAKING LAW', 'BAD DRIVING', 'DISTRACTION INSIDE VEHICLE', 'DRINKING/DRUGS', 'OUTSIDE FACTORS', 'OTHER']\n",
    "\n",
    "\n",
    "\n",
    "for group, value in zip(binning_list, value_list):\n",
    "    crashes_prime_cause['PRIM_CONTRIBUTORY_CAUSE'] = crashes_prime_cause['PRIM_CONTRIBUTORY_CAUSE'].replace(to_replace = group, value = value)\n",
    "\n",
    "crashes_prime_cause['PRIM_CONTRIBUTORY_CAUSE'].value_counts()"
   ]
  },
  {
   "cell_type": "markdown",
   "id": "a87add88-af01-4456-b499-5d2957fbb93d",
   "metadata": {},
   "source": [
    "### Cleaning NANs"
   ]
  },
  {
   "cell_type": "code",
   "execution_count": 107,
   "id": "d9010865-e681-4efb-a5e5-4838bdb48db0",
   "metadata": {},
   "outputs": [],
   "source": [
    "crashes_prime_cause_filled = crashes_prime_cause.fillna({'INTERSECTION_RELATED_I': 'N', 'NOT_RIGHT_OF_WAY_I': \n",
    "                                                         'N', 'HIT_AND_RUN_I':'N'})\n",
    "\n",
    "crashes_prime_cause_filled = crashes_prime_cause_filled.dropna(subset=['LATITUDE', 'LONGITUDE', 'INJURIES_TOTAL', 'INJURIES_FATAL', \n",
    "                                                                           'MOST_SEVERE_INJURY'])\n"
   ]
  },
  {
   "cell_type": "markdown",
   "id": "519f69a5-7194-42f2-9a13-af99defae063",
   "metadata": {},
   "source": [
    "### Creating 30 'neighborhoods' by KNN"
   ]
  },
  {
   "cell_type": "code",
   "execution_count": 108,
   "id": "62167e7e-e886-43a2-bd7d-da16280ca22f",
   "metadata": {},
   "outputs": [
    {
     "name": "stderr",
     "output_type": "stream",
     "text": [
      "/Library/Frameworks/Python.framework/Versions/3.11/lib/python3.11/site-packages/sklearn/cluster/_kmeans.py:1416: FutureWarning: The default value of `n_init` will change from 10 to 'auto' in 1.4. Set the value of `n_init` explicitly to suppress the warning\n",
      "  super()._check_params_vs_input(X, default_n_init=10)\n"
     ]
    }
   ],
   "source": [
    "from sklearn.cluster import KMeans\n",
    "\n",
    "n_clusters = 30  # Number of clusters to create\n",
    "X = crashes_prime_cause_filled[['LONGITUDE', 'LATITUDE']]\n",
    "\n",
    "# Create a K-Means clustering model\n",
    "kmeans = KMeans(n_clusters=n_clusters, random_state=0)\n",
    "kmeans.fit(X)\n",
    "\n",
    "# Add cluster labels to your data\n",
    "cluster_labels = kmeans.labels_\n",
    "crashes_prime_cause_filled['GEO_KMEANS_Cluster'] = cluster_labels\n"
   ]
  },
  {
   "cell_type": "markdown",
   "id": "223cb1f3-ce3a-4ad9-8a98-ab9204a089eb",
   "metadata": {},
   "source": [
    "### Dropping Useless Columns"
   ]
  },
  {
   "cell_type": "code",
   "execution_count": 109,
   "id": "81a0bee9-6021-4b9d-9f9b-550fce1141b2",
   "metadata": {},
   "outputs": [],
   "source": [
    "crashes_prime_cause_filled = crashes_prime_cause_filled.drop(columns = ['CRASH_DATE_EST_I', 'DEVICE_CONDITION', 'REPORT_TYPE', 'DATE_POLICE_NOTIFIED',\n",
    "                                                          'STREET_NO', 'STREET_DIRECTION', 'STREET_NAME','BEAT_OF_OCCURRENCE', 'PHOTOS_TAKEN_I', \n",
    "                                                          'STATEMENTS_TAKEN_I', 'DOORING_I', 'WORK_ZONE_I', 'WORK_ZONE_TYPE', 'WORKERS_PRESENT_I', \n",
    "                                                          'INJURIES_INCAPACITATING', 'INJURIES_NON_INCAPACITATING', 'INJURIES_NO_INDICATION', \n",
    "                                                          'INJURIES_UNKNOWN', 'LOCATION', 'LANE_CNT', 'CRASH_DATE', \n",
    "                                                          'INJURIES_REPORTED_NOT_EVIDENT', 'TRAFFIC_CONTROL_DEVICE', 'INJURIES_TOTAL', \n",
    "                                                          'INJURIES_FATAL'])"
   ]
  },
  {
   "cell_type": "markdown",
   "id": "d9f7f570-83a1-4291-9506-afbed26a76e6",
   "metadata": {},
   "source": [
    "### Transforming Categorical Data to Numerical Data"
   ]
  },
  {
   "cell_type": "code",
   "execution_count": null,
   "id": "61709045-e897-46e3-8203-1ece764ce76a",
   "metadata": {},
   "outputs": [],
   "source": [
    "crashes_cleaned = pd.get_dummies(crashes_prime_cause_filleddrop, columns = ['WEATHER_CONDITION', 'LIGHTING_CONDITION','FIRST_CRASH_TYPE',\n",
    "                                                                            'TRAFFICWAY_TYPE', 'ALIGNMENT', 'ROADWAY_SURFACE_COND', \n",
    "                                                                            'SEC_CONTRIBUTORY_CAUSE', 'ROAD_DEFECT','MOST_SEVERE_INJURY'],\n",
    "                                                                             drop_first=True, dtype=int)\n",
    "                                                                                                 \n",
    "\n",
    "\n",
    "\n",
    "\n",
    "#binary\n",
    "from sklearn.preprocessing import LabelEncoder\n",
    "\n",
    "le = LabelEncoder()\n",
    "\n",
    "for col in ['CRASH_TYPE','INTERSECTION_RELATED_I', 'NOT_RIGHT_OF_WAY_I', 'HIT_AND_RUN_I', 'DAMAGE']:\n",
    "    crashes_cleaned[col] = le.fit_transform(crashes_cleaned[col])\n"
   ]
  },
  {
   "cell_type": "markdown",
   "id": "a6bb704a-2ae6-496a-8355-e7a503c2c777",
   "metadata": {},
   "source": [
    "## People Dataset"
   ]
  },
  {
   "cell_type": "code",
   "execution_count": null,
   "id": "f71b93b5-a890-48dd-a0a0-d2df2b08999d",
   "metadata": {},
   "outputs": [],
   "source": [
    "people = pd.read_csv('../data/crashes_people.csv', low_memory = False)"
   ]
  },
  {
   "cell_type": "markdown",
   "id": "366e3507-68b4-4789-a85e-7971cf2bf738",
   "metadata": {},
   "source": [
    "### Limiting down people to just drivers and keeping relevant columns"
   ]
  },
  {
   "cell_type": "code",
   "execution_count": null,
   "id": "763c0140-ff5a-4022-b9df-bcbff5b8e1ea",
   "metadata": {},
   "outputs": [],
   "source": [
    "people.drop(people[people['PERSON_TYPE'] != 'DRIVER'].index, inplace=True)\n",
    "\n",
    "people = people[['CRASH_RECORD_ID', 'SEX', 'AGE', 'PHYSICAL_CONDITION','DRIVER_ACTION', 'DRIVER_VISION']]"
   ]
  },
  {
   "cell_type": "markdown",
   "id": "0519d92a-9915-4a57-a763-39f24e03de86",
   "metadata": {},
   "source": [
    "### Dealing with weird values/NANS"
   ]
  },
  {
   "cell_type": "code",
   "execution_count": null,
   "id": "f96a1d17-728b-4476-91bb-efc5aa81df9f",
   "metadata": {},
   "outputs": [],
   "source": [
    "people.drop(people[people['AGE'] < 0].index, inplace=True)\n",
    "\n",
    "people.SEX.fillna('X', inplace=True)"
   ]
  },
  {
   "cell_type": "markdown",
   "id": "5c6f8b54-08c2-4acf-925f-aa3526b5b5c8",
   "metadata": {},
   "source": [
    "### Categorical -> Numeric"
   ]
  },
  {
   "cell_type": "code",
   "execution_count": 1,
   "id": "13125c95-92ac-45b3-b9f1-e189c6d6e8f4",
   "metadata": {},
   "outputs": [
    {
     "ename": "NameError",
     "evalue": "name 'pd' is not defined",
     "output_type": "error",
     "traceback": [
      "\u001b[0;31m---------------------------------------------------------------------------\u001b[0m",
      "\u001b[0;31mNameError\u001b[0m                                 Traceback (most recent call last)",
      "Cell \u001b[0;32mIn[1], line 8\u001b[0m\n\u001b[1;32m      5\u001b[0m \u001b[38;5;28;01mfrom\u001b[39;00m \u001b[38;5;21;01msklearn\u001b[39;00m\u001b[38;5;21;01m.\u001b[39;00m\u001b[38;5;21;01mpreprocessing\u001b[39;00m \u001b[38;5;28;01mimport\u001b[39;00m OneHotEncoder\n\u001b[1;32m      6\u001b[0m ohe \u001b[38;5;241m=\u001b[39m OneHotEncoder(drop \u001b[38;5;241m=\u001b[39m \u001b[38;5;124m'\u001b[39m\u001b[38;5;124mfirst\u001b[39m\u001b[38;5;124m'\u001b[39m, sparse \u001b[38;5;241m=\u001b[39m \u001b[38;5;28;01mFalse\u001b[39;00m)\n\u001b[0;32m----> 8\u001b[0m encoded_df \u001b[38;5;241m=\u001b[39m \u001b[43mpd\u001b[49m\u001b[38;5;241m.\u001b[39mDataFrame(ohe\u001b[38;5;241m.\u001b[39mfit_transform(people[cat]), columns\u001b[38;5;241m=\u001b[39mohe\u001b[38;5;241m.\u001b[39mget_feature_names(cat))\n\u001b[1;32m     10\u001b[0m \u001b[38;5;66;03m# Reset the index of both DataFrames\u001b[39;00m\n\u001b[1;32m     11\u001b[0m people\u001b[38;5;241m.\u001b[39mreset_index(drop\u001b[38;5;241m=\u001b[39m\u001b[38;5;28;01mTrue\u001b[39;00m, inplace\u001b[38;5;241m=\u001b[39m\u001b[38;5;28;01mTrue\u001b[39;00m)\n",
      "\u001b[0;31mNameError\u001b[0m: name 'pd' is not defined"
     ]
    }
   ],
   "source": [
    "# Get numerical values for categorical columns using OneHotEncoder\n",
    "cat = ['SEX', 'PHYSICAL_CONDITION', 'DRIVER_ACTION', 'DRIVER_VISION']\n",
    "\n",
    "# Import OneHotEncoder from Scikit Learn Preprocessing\n",
    "from sklearn.preprocessing import OneHotEncoder\n",
    "ohe = OneHotEncoder(drop = 'first', sparse = False)\n",
    "\n",
    "encoded_df = pd.DataFrame(ohe.fit_transform(people[cat]), columns=ohe.get_feature_names(cat))\n",
    "\n",
    "# Reset the index of both DataFrames\n",
    "people.reset_index(drop=True, inplace=True)\n",
    "encoded_df.reset_index(drop=True, inplace=True)\n",
    "\n",
    "# Concatenate the encoded DataFrame with the original DataFrame\n",
    "people_cleaned = pd.concat([people, encoded_df], axis=1)\n",
    "people_cleaned.drop(cat, axis = 1, inplace = True)\n",
    "people_cleaned"
   ]
  },
  {
   "cell_type": "markdown",
   "id": "57f6208f-5d36-4664-94a0-e26d7f6158a5",
   "metadata": {},
   "source": [
    "# Vehicle Dataset"
   ]
  },
  {
   "cell_type": "code",
   "execution_count": null,
   "id": "6c5a9870-dc34-40c5-9e36-0b90cdf1545a",
   "metadata": {},
   "outputs": [],
   "source": [
    "vehicles = pd.read_csv('../data/crashes_vehicles.csv')"
   ]
  },
  {
   "cell_type": "markdown",
   "id": "f87d8441-c4dc-4a45-8392-cf13984ec191",
   "metadata": {},
   "source": [
    "### Dealing with NANs"
   ]
  },
  {
   "cell_type": "code",
   "execution_count": null,
   "id": "49717fcc-6e7f-43f7-8c48-62cfa89f1214",
   "metadata": {},
   "outputs": [],
   "source": [
    "nan_count = vehicles.isna().sum()\n",
    "\n",
    "useful_columns = nan_count[nan_count < 1_000_000].index\n",
    "\n",
    "vehicles = vehicles[useful_columns]\n",
    "\n",
    "vehicles['VEHICLE_DEFECT'].replace({np.nan: 'UNKNOWN', }, inplace = True)\n",
    "\n",
    "vehicles['VEHICLE_TYPE'].replace({np.nan: 'UNKNOWN/NA'}, inplace = True)\n",
    "\n",
    "vehicles['VEHICLE_USE'].replace({np.nan: 'UNKNOWN/NA'}, inplace = True)\n",
    "\n",
    "vehicles['MANEUVER'].replace({np.nan: 'UNKNOWN/NA'}, inplace = True)\n",
    "\n",
    "vehicles['OCCUPANT_CNT'].replace({np.nan: 999}, inplace = True)\n",
    "\n",
    "vehicles['FIRST_CONTACT_POINT'].replace({np.nan: 'UNKOWN' }, inplace = True)\n",
    "\n"
   ]
  },
  {
   "cell_type": "markdown",
   "id": "5a0b7b3d-2bb1-4bb5-89ac-25b30d84b212",
   "metadata": {},
   "source": [
    "### Converting to datetime"
   ]
  },
  {
   "cell_type": "code",
   "execution_count": null,
   "id": "54879c38-beae-41f1-8d2f-60bc85de911b",
   "metadata": {},
   "outputs": [],
   "source": [
    "vehicles['CRASH_DATE'] = pd.to_datetime(vehicles['CRASH_DATE'])"
   ]
  },
  {
   "cell_type": "markdown",
   "id": "423593d8-2d65-4959-8a9e-6135e78717cb",
   "metadata": {},
   "source": [
    "### Categorical -> Numeric"
   ]
  },
  {
   "cell_type": "code",
   "execution_count": null,
   "id": "15709813-a24b-48a4-9356-6a8c87d2e790",
   "metadata": {},
   "outputs": [],
   "source": [
    "cat_columns = ['UNIT_TYPE', 'VEHICLE_DEFECT', 'VEHICLE_TYPE', 'VEHICLE_USE', 'MANEUVER',\\\n",
    "              'FIRST_CONTACT_POINT']\n",
    "\n",
    "vehicles_cleaned = pd.get_dummies(vehicles, columns = cat_columns, drop_first = True, dtype = int)"
   ]
  }
 ],
 "metadata": {
  "kernelspec": {
   "display_name": "Python 3 (ipykernel)",
   "language": "python",
   "name": "python3"
  },
  "language_info": {
   "codemirror_mode": {
    "name": "ipython",
    "version": 3
   },
   "file_extension": ".py",
   "mimetype": "text/x-python",
   "name": "python",
   "nbconvert_exporter": "python",
   "pygments_lexer": "ipython3",
   "version": "3.11.4"
  }
 },
 "nbformat": 4,
 "nbformat_minor": 5
}
