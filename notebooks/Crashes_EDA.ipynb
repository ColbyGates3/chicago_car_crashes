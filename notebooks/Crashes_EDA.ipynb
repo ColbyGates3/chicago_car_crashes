{
 "cells": [
  {
   "cell_type": "code",
   "execution_count": 4,
   "id": "af534d22",
   "metadata": {},
   "outputs": [],
   "source": [
    "import pandas as pd\n",
    "\n",
    "crashes = pd.read_csv('../data/crashes_crashes.csv')\n"
   ]
  },
  {
   "cell_type": "code",
   "execution_count": 5,
   "id": "f4f79bac",
   "metadata": {},
   "outputs": [
    {
     "name": "stderr",
     "output_type": "stream",
     "text": [
      "/Library/Frameworks/Python.framework/Versions/3.11/lib/python3.11/site-packages/sklearn/cluster/_kmeans.py:1416: FutureWarning: The default value of `n_init` will change from 10 to 'auto' in 1.4. Set the value of `n_init` explicitly to suppress the warning\n",
      "  super()._check_params_vs_input(X, default_n_init=10)\n"
     ]
    },
    {
     "name": "stdout",
     "output_type": "stream",
     "text": [
      "<class 'pandas.core.frame.DataFrame'>\n",
      "Int64Index: 442382 entries, 2 to 798905\n",
      "Data columns (total 24 columns):\n",
      " #   Column                   Non-Null Count   Dtype  \n",
      "---  ------                   --------------   -----  \n",
      " 0   CRASH_RECORD_ID          442382 non-null  object \n",
      " 1   POSTED_SPEED_LIMIT       442382 non-null  int64  \n",
      " 2   WEATHER_CONDITION        442382 non-null  object \n",
      " 3   LIGHTING_CONDITION       442382 non-null  object \n",
      " 4   FIRST_CRASH_TYPE         442382 non-null  object \n",
      " 5   TRAFFICWAY_TYPE          442382 non-null  object \n",
      " 6   ALIGNMENT                442382 non-null  object \n",
      " 7   ROADWAY_SURFACE_COND     442382 non-null  object \n",
      " 8   ROAD_DEFECT              442382 non-null  object \n",
      " 9   CRASH_TYPE               442382 non-null  object \n",
      " 10  INTERSECTION_RELATED_I   442382 non-null  object \n",
      " 11  NOT_RIGHT_OF_WAY_I       442382 non-null  object \n",
      " 12  HIT_AND_RUN_I            442382 non-null  object \n",
      " 13  DAMAGE                   442382 non-null  object \n",
      " 14  PRIM_CONTRIBUTORY_CAUSE  442382 non-null  object \n",
      " 15  SEC_CONTRIBUTORY_CAUSE   442382 non-null  object \n",
      " 16  NUM_UNITS                442382 non-null  int64  \n",
      " 17  MOST_SEVERE_INJURY       442382 non-null  object \n",
      " 18  CRASH_HOUR               442382 non-null  int64  \n",
      " 19  CRASH_DAY_OF_WEEK        442382 non-null  int64  \n",
      " 20  CRASH_MONTH              442382 non-null  int64  \n",
      " 21  LATITUDE                 442382 non-null  float64\n",
      " 22  LONGITUDE                442382 non-null  float64\n",
      " 23  GEO_KMEANS_Cluster       442382 non-null  int32  \n",
      "dtypes: float64(2), int32(1), int64(5), object(16)\n",
      "memory usage: 82.7+ MB\n"
     ]
    },
    {
     "name": "stderr",
     "output_type": "stream",
     "text": [
      "/var/folders/bt/mf607s9n0xs6sr08g8c44w9c0000gn/T/ipykernel_19463/3319199705.py:21: SettingWithCopyWarning: \n",
      "A value is trying to be set on a copy of a slice from a DataFrame.\n",
      "Try using .loc[row_indexer,col_indexer] = value instead\n",
      "\n",
      "See the caveats in the documentation: https://pandas.pydata.org/pandas-docs/stable/user_guide/indexing.html#returning-a-view-versus-a-copy\n",
      "  crashes_prime_cause_filleddrop['GEO_KMEANS_Cluster'] = cluster_labels\n"
     ]
    }
   ],
   "source": [
    "crashes_prime_cause = crashes[(crashes['PRIM_CONTRIBUTORY_CAUSE'] != 'UNABLE TO DETERMINE') & (crashes['PRIM_CONTRIBUTORY_CAUSE'] != 'NOT APPLICABLE')]\n",
    "\n",
    "crashes_prime_cause_filled = crashes_prime_cause.fillna({'INTERSECTION_RELATED_I': 'N', 'NOT_RIGHT_OF_WAY_I': \n",
    "                                                         'N', 'HIT_AND_RUN_I':'N'})\n",
    "\n",
    "crashes_prime_cause_filleddrop = crashes_prime_cause_filled.dropna(subset=['LATITUDE', 'LONGITUDE', 'INJURIES_TOTAL', 'INJURIES_FATAL', \n",
    "                                                                           'MOST_SEVERE_INJURY'])\n",
    "\n",
    "\n",
    "from sklearn.cluster import KMeans\n",
    "\n",
    "n_clusters = 30  # Number of clusters to create\n",
    "X = crashes_prime_cause_filleddrop[['LONGITUDE', 'LATITUDE']]\n",
    "\n",
    "# Create a K-Means clustering model\n",
    "kmeans = KMeans(n_clusters=n_clusters, random_state=0)\n",
    "kmeans.fit(X)\n",
    "\n",
    "# Add cluster labels to your data\n",
    "cluster_labels = kmeans.labels_\n",
    "crashes_prime_cause_filleddrop['GEO_KMEANS_Cluster'] = cluster_labels\n",
    "\n",
    "\n",
    "\n",
    "\n",
    "\n",
    "crashes_prime_cause_filleddrop = crashes_prime_cause_filleddrop.drop(columns = ['CRASH_DATE_EST_I', 'DEVICE_CONDITION', 'REPORT_TYPE', 'DATE_POLICE_NOTIFIED',\n",
    "                                                          'STREET_NO', 'STREET_DIRECTION', 'STREET_NAME','BEAT_OF_OCCURRENCE', 'PHOTOS_TAKEN_I', \n",
    "                                                          'STATEMENTS_TAKEN_I', 'DOORING_I', 'WORK_ZONE_I', 'WORK_ZONE_TYPE', 'WORKERS_PRESENT_I', \n",
    "                                                          'INJURIES_INCAPACITATING', 'INJURIES_NON_INCAPACITATING', 'INJURIES_NO_INDICATION', \n",
    "                                                          'INJURIES_UNKNOWN', 'LOCATION', 'LANE_CNT', 'CRASH_DATE', \n",
    "                                                          'INJURIES_REPORTED_NOT_EVIDENT', 'TRAFFIC_CONTROL_DEVICE', 'INJURIES_TOTAL', \n",
    "                                                          'INJURIES_FATAL'])\n",
    "crashes_prime_cause_filleddrop.info()\n"
   ]
  },
  {
   "cell_type": "code",
   "execution_count": 3,
   "id": "06ec3b79",
   "metadata": {},
   "outputs": [
    {
     "name": "stdout",
     "output_type": "stream",
     "text": [
      "<class 'pandas.core.frame.DataFrame'>\n",
      "Int64Index: 442382 entries, 2 to 798905\n",
      "Columns: 127 entries, CRASH_RECORD_ID to MOST_SEVERE_INJURY_REPORTED, NOT EVIDENT\n",
      "dtypes: float64(2), int32(1), int64(122), object(2)\n",
      "memory usage: 430.3+ MB\n"
     ]
    }
   ],
   "source": [
    "#Transforming to numerical data\n",
    "\n",
    "crashes_prime_cause_filleddrop_dummy = pd.get_dummies(crashes_prime_cause_filleddrop, columns = ['WEATHER_CONDITION', 'LIGHTING_CONDITION',\n",
    "                                                                                                 'FIRST_CRASH_TYPE', 'TRAFFICWAY_TYPE', \n",
    "                                                                                                 'ALIGNMENT', 'ROADWAY_SURFACE_COND', \n",
    "                                                                                                 'SEC_CONTRIBUTORY_CAUSE', 'ROAD_DEFECT',\n",
    "                                                                                                 'MOST_SEVERE_INJURY'], drop_first=True, \n",
    "                                                                                                  dtype=int)\n",
    "                                                                                                 \n",
    "\n",
    "\n",
    "\n",
    "\n",
    "#binary/tertiary\n",
    "from sklearn.preprocessing import LabelEncoder\n",
    "\n",
    "le = LabelEncoder()\n",
    "\n",
    "for col in ['CRASH_TYPE','INTERSECTION_RELATED_I', 'NOT_RIGHT_OF_WAY_I', 'HIT_AND_RUN_I', 'DAMAGE']:\n",
    "    crashes_prime_cause_filleddrop_dummy[col] = le.fit_transform(crashes_prime_cause_filleddrop_dummy[col])\n",
    "\n",
    "\n",
    "crashes_cleaned = crashes_prime_cause_filleddrop_dummy\n",
    "\n",
    "\n",
    "crashes_cleaned.info()\n"
   ]
  },
  {
   "cell_type": "code",
   "execution_count": 4,
   "id": "8808012a",
   "metadata": {},
   "outputs": [
    {
     "data": {
      "text/plain": [
       "FAILING TO YIELD RIGHT-OF-WAY                                                       87034\n",
       "FOLLOWING TOO CLOSELY                                                               77351\n",
       "IMPROPER OVERTAKING/PASSING                                                         39012\n",
       "FAILING TO REDUCE SPEED TO AVOID CRASH                                              33568\n",
       "IMPROPER BACKING                                                                    31286\n",
       "IMPROPER LANE USAGE                                                                 28331\n",
       "DRIVING SKILLS/KNOWLEDGE/EXPERIENCE                                                 26380\n",
       "IMPROPER TURNING/NO SIGNAL                                                          26339\n",
       "DISREGARDING TRAFFIC SIGNALS                                                        15440\n",
       "WEATHER                                                                             11870\n",
       "OPERATING VEHICLE IN ERRATIC, RECKLESS, CARELESS, NEGLIGENT OR AGGRESSIVE MANNER    10097\n",
       "DISREGARDING STOP SIGN                                                               8655\n",
       "DISTRACTION - FROM INSIDE VEHICLE                                                    5459\n",
       "EQUIPMENT - VEHICLE CONDITION                                                        4897\n",
       "PHYSICAL CONDITION OF DRIVER                                                         4724\n",
       "VISION OBSCURED (SIGNS, TREE LIMBS, BUILDINGS, ETC.)                                 4516\n",
       "DRIVING ON WRONG SIDE/WRONG WAY                                                      4219\n",
       "UNDER THE INFLUENCE OF ALCOHOL/DRUGS (USE WHEN ARREST IS EFFECTED)                   3757\n",
       "DISTRACTION - FROM OUTSIDE VEHICLE                                                   3267\n",
       "EXCEEDING AUTHORIZED SPEED LIMIT                                                     1956\n",
       "ROAD ENGINEERING/SURFACE/MARKING DEFECTS                                             1950\n",
       "ROAD CONSTRUCTION/MAINTENANCE                                                        1712\n",
       "DISREGARDING OTHER TRAFFIC SIGNS                                                     1706\n",
       "EXCEEDING SAFE SPEED FOR CONDITIONS                                                  1671\n",
       "EVASIVE ACTION DUE TO ANIMAL, OBJECT, NONMOTORIST                                    1455\n",
       "CELL PHONE USE OTHER THAN TEXTING                                                    1066\n",
       "DISREGARDING ROAD MARKINGS                                                            964\n",
       "HAD BEEN DRINKING (USE WHEN ARREST IS NOT MADE)                                       818\n",
       "ANIMAL                                                                                677\n",
       "TURNING RIGHT ON RED                                                                  597\n",
       "RELATED TO BUS STOP                                                                   377\n",
       "DISTRACTION - OTHER ELECTRONIC DEVICE (NAVIGATION DEVICE, DVD PLAYER, ETC.)           375\n",
       "TEXTING                                                                               311\n",
       "DISREGARDING YIELD SIGN                                                               266\n",
       "PASSING STOPPED SCHOOL BUS                                                             95\n",
       "OBSTRUCTED CROSSWALKS                                                                  85\n",
       "BICYCLE ADVANCING LEGALLY ON RED LIGHT                                                 77\n",
       "MOTORCYCLE ADVANCING LEGALLY ON RED LIGHT                                              22\n",
       "Name: PRIM_CONTRIBUTORY_CAUSE, dtype: int64"
      ]
     },
     "execution_count": 4,
     "metadata": {},
     "output_type": "execute_result"
    }
   ],
   "source": [
    "crashes_cleaned['PRIM_CONTRIBUTORY_CAUSE'].value_counts()"
   ]
  },
  {
   "cell_type": "code",
   "execution_count": 10,
   "id": "166e5810-0c8b-49f1-ada1-32d8331c67ce",
   "metadata": {},
   "outputs": [
    {
     "data": {
      "text/plain": [
       "PRIM_CONTRIBUTORY_CAUSE\n",
       "DRIVER ERROR                  0.880459\n",
       "OUTSIDE FACTORS               0.063773\n",
       "DRINKING/DRUGS                0.033166\n",
       "DISTRACTION INSIDE VEHICLE    0.016300\n",
       "OTHER                         0.006302\n",
       "Name: proportion, dtype: float64"
      ]
     },
     "execution_count": 10,
     "metadata": {},
     "output_type": "execute_result"
    }
   ],
   "source": [
    "disregard_list = ['DISREGARDING TRAFFIC SIGNALS', 'DISREGARDING STOP SIGN', 'DISREGARDING ROAD MARKINGS', \n",
    "                  'DISREGARDING OTHER TRAFFIC SIGNS', 'DISREGARDING YIELD SIGN', 'DRIVING ON WRONG SIDE/WRONG WAY', \n",
    "                  'FAILING TO YIELD RIGHT-OF-WAY','FOLLOWING TOO CLOSELY', 'IMPROPER OVERTAKING/PASSING', \n",
    "                  'FAILING TO REDUCE SPEED TO AVOID CRASH', 'TURNING RIGHT ON RED', 'EXCEEDING SAFE SPEED FOR CONDITIONS', \n",
    "                  'EXCEEDING AUTHORIZED SPEED LIMIT', 'IMPROPER LANE USAGE', 'PHYSICAL CONDITION OF DRIVER', \n",
    "                  'DRIVING SKILLS/KNOWLEDGE/EXPERIENCE','IMPROPER BACKING', 'IMPROPER TURNING/NO SIGNAL'] \n",
    "\n",
    "distraction_list = ['TEXTING', 'DISTRACTION - OTHER ELECTRONIC DEVICE (NAVIGATION DEVICE, DVD PLAYER, ETC.)', \n",
    "                    'DISTRACTION - FROM INSIDE VEHICLE','CELL PHONE USE OTHER THAN TEXTING']\n",
    "\n",
    "drinking_list = ['OPERATING VEHICLE IN ERRATIC, RECKLESS, CARELESS, NEGLIGENT OR AGGRESSIVE MANNER', \n",
    "                 'HAD BEEN DRINKING (USE WHEN ARREST IS NOT MADE)', 'UNDER THE INFLUENCE OF ALCOHOL/DRUGS (USE WHEN ARREST IS EFFECTED)']\n",
    "\n",
    "road_list = ['DISTRACTION - FROM OUTSIDE VEHICLE', 'ROAD ENGINEERING/SURFACE/MARKING DEFECTS', 'ROAD CONSTRUCTION/MAINTENANCE', 'EQUIPMENT - VEHICLE CONDITION', \n",
    "             'VISION OBSCURED (SIGNS, TREE LIMBS, BUILDINGS, ETC.)', 'WEATHER']\n",
    "\n",
    "other_list= ['PASSING STOPPED SCHOOL BUS', 'OBSTRUCTED CROSSWALKS', 'BICYCLE ADVANCING LEGALLY ON RED LIGHT', \n",
    "             'MOTORCYCLE ADVANCING LEGALLY ON RED LIGHT', 'EVASIVE ACTION DUE TO ANIMAL, OBJECT, NONMOTORIST', 'ANIMAL', 'TURNING RIGHT ON RED', \n",
    "             'RELATED TO BUS STOP'] \n",
    "\n",
    "binning_list = [disregard_list, distraction_list, drinking_list, road_list, other_list]\n",
    "value_list = ['DRIVER ERROR', 'DISTRACTION INSIDE VEHICLE', 'DRINKING/DRUGS', 'OUTSIDE FACTORS', 'OTHER']\n",
    "\n",
    "\n",
    "for group, value in zip(binning_list, value_list):\n",
    "    crashes_cleaned['PRIM_CONTRIBUTORY_CAUSE'] = crashes_cleaned['PRIM_CONTRIBUTORY_CAUSE'].replace(to_replace = group, value = value)\n",
    "\n",
    "crashes_cleaned['PRIM_CONTRIBUTORY_CAUSE'].value_counts(normalize = True)\n"
   ]
  },
  {
   "cell_type": "code",
   "execution_count": 6,
   "id": "1dd83482-08a8-4ac5-a6d1-4a9e83b72dc2",
   "metadata": {},
   "outputs": [],
   "source": [
    "\n",
    "#crashes_cleaned.plot('PRIM_CONTRIBUTORY_CAUSE', kind= 'barh')"
   ]
  },
  {
   "cell_type": "code",
   "execution_count": 7,
   "id": "93f78c86",
   "metadata": {},
   "outputs": [
    {
     "name": "stdout",
     "output_type": "stream",
     "text": [
      "Highly correlated columns:\n",
      "LATITUDE and LONGITUDE\n",
      "WEATHER_CONDITION_CLEAR and WEATHER_CONDITION_RAIN\n",
      "LIGHTING_CONDITION_DARKNESS, LIGHTED ROAD and LIGHTING_CONDITION_DAYLIGHT\n",
      "ALIGNMENT_STRAIGHT AND LEVEL and ALIGNMENT_STRAIGHT ON GRADE\n",
      "WEATHER_CONDITION_SNOW and ROADWAY_SURFACE_COND_SNOW OR SLUSH\n",
      "WEATHER_CONDITION_CLEAR and ROADWAY_SURFACE_COND_WET\n",
      "WEATHER_CONDITION_RAIN and ROADWAY_SURFACE_COND_WET\n",
      "ROAD_DEFECT_NO DEFECTS and ROAD_DEFECT_UNKNOWN\n",
      "CRASH_TYPE and MOST_SEVERE_INJURY_NO INDICATION OF INJURY\n",
      "MOST_SEVERE_INJURY_NO INDICATION OF INJURY and MOST_SEVERE_INJURY_NONINCAPACITATING INJURY\n"
     ]
    }
   ],
   "source": [
    "import numpy as np\n",
    "\n",
    "corr_matrix = crashes_cleaned.select_dtypes(include=np.number).corr()\n",
    "\n",
    "# Set a correlation threshold (e.g., 0.7 for highly correlated)\n",
    "threshold = 0.6\n",
    "\n",
    "# Get a list of highly correlated columns\n",
    "highly_correlated = []\n",
    "\n",
    "# Iterate through the correlation matrix and find highly correlated columns\n",
    "for i in range(len(corr_matrix.columns)):\n",
    "    for j in range(i):\n",
    "        if abs(corr_matrix.iloc[i, j]) > threshold:\n",
    "            colname = corr_matrix.columns[i]\n",
    "            highly_correlated.append((corr_matrix.columns[j], colname))\n",
    "\n",
    "print(\"Highly correlated columns:\")\n",
    "for col1, col2 in highly_correlated:\n",
    "    print(f\"{col1} and {col2}\")\n",
    "\n",
    "\n"
   ]
  },
  {
   "cell_type": "code",
   "execution_count": 8,
   "id": "5dc1d431-e90c-49f2-b3a6-5832beb0f5a8",
   "metadata": {},
   "outputs": [
    {
     "name": "stdout",
     "output_type": "stream",
     "text": [
      "                                        Variable            VIF\n",
      "0                                          const  166602.400596\n",
      "1                             POSTED_SPEED_LIMIT       1.431306\n",
      "2                                     CRASH_TYPE       2.150143\n",
      "3                         INTERSECTION_RELATED_I       1.390872\n",
      "4                             NOT_RIGHT_OF_WAY_I       1.422050\n",
      "..                                           ...            ...\n",
      "121                     ROAD_DEFECT_WORN SURFACE       6.070958\n",
      "122     MOST_SEVERE_INJURY_INCAPACITATING INJURY      18.623686\n",
      "123   MOST_SEVERE_INJURY_NO INDICATION OF INJURY     123.809263\n",
      "124  MOST_SEVERE_INJURY_NONINCAPACITATING INJURY      76.624255\n",
      "125     MOST_SEVERE_INJURY_REPORTED, NOT EVIDENT      43.091202\n",
      "\n",
      "[126 rows x 2 columns]\n"
     ]
    }
   ],
   "source": [
    "import statsmodels.api as sm\n",
    "from statsmodels.stats.outliers_influence import variance_inflation_factor\n",
    "\n",
    "# Separate the target variable 'Y' from predictor variables\n",
    "X = crashes_cleaned.select_dtypes(include=np.number)\n",
    "\n",
    "# Add a constant term (intercept) to the predictor variables\n",
    "X = sm.add_constant(X)\n",
    "\n",
    "# Calculate VIF for each predictor variable\n",
    "vif = pd.DataFrame()\n",
    "vif['Variable'] = X.columns\n",
    "vif['VIF'] = [variance_inflation_factor(X.values, i) for i in range(X.shape[1])]\n",
    "\n",
    "# Print the VIF values\n",
    "print(vif)\n"
   ]
  },
  {
   "cell_type": "code",
   "execution_count": 9,
   "id": "d45efd6b-c1c1-4d71-b383-33b3688d967b",
   "metadata": {},
   "outputs": [],
   "source": [
    "crashes_cleaned.to_csv('../data/crashes_cleaned.csv', index=True)"
   ]
  },
  {
   "cell_type": "code",
   "execution_count": null,
   "id": "e86ed605-b6f4-4be6-bdfd-eeee58a4ffc6",
   "metadata": {},
   "outputs": [],
   "source": []
  }
 ],
 "metadata": {
  "kernelspec": {
   "display_name": "Python 3 (ipykernel)",
   "language": "python",
   "name": "python3"
  },
  "language_info": {
   "codemirror_mode": {
    "name": "ipython",
    "version": 3
   },
   "file_extension": ".py",
   "mimetype": "text/x-python",
   "name": "python",
   "nbconvert_exporter": "python",
   "pygments_lexer": "ipython3",
   "version": "3.8.18"
  }
 },
 "nbformat": 4,
 "nbformat_minor": 5
}
