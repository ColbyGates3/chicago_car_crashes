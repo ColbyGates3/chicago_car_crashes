{
 "cells": [
  {
   "cell_type": "code",
   "execution_count": 3,
   "id": "11e16f9b",
   "metadata": {},
   "outputs": [
    {
     "name": "stdout",
     "output_type": "stream",
     "text": [
      "Intel MKL WARNING: Support of Intel(R) Streaming SIMD Extensions 4.2 (Intel(R) SSE4.2) enabled only processors has been deprecated. Intel oneAPI Math Kernel Library 2025.0 will require Intel(R) Advanced Vector Extensions (Intel(R) AVX) instructions.\n",
      "Intel MKL WARNING: Support of Intel(R) Streaming SIMD Extensions 4.2 (Intel(R) SSE4.2) enabled only processors has been deprecated. Intel oneAPI Math Kernel Library 2025.0 will require Intel(R) Advanced Vector Extensions (Intel(R) AVX) instructions.\n"
     ]
    }
   ],
   "source": [
    "import pandas as pd\n",
    "import numpy\n",
    "import requests\n",
    "from sklearn.cluster import KMeans\n",
    "from sklearn.preprocessing import LabelEncoder\n",
    "from sodapy import Socrata\n",
    "import warnings\n",
    "warnings.filterwarnings('ignore')"
   ]
  },
  {
   "cell_type": "markdown",
   "id": "4dfb34b3",
   "metadata": {},
   "source": [
    "## API Setup"
   ]
  },
  {
   "cell_type": "code",
   "execution_count": 4,
   "id": "29169a75",
   "metadata": {},
   "outputs": [
    {
     "name": "stderr",
     "output_type": "stream",
     "text": [
      "WARNING:root:Requests made without an app_token will be subject to strict throttling limits.\n"
     ]
    },
    {
     "data": {
      "text/html": [
       "<div>\n",
       "<style scoped>\n",
       "    .dataframe tbody tr th:only-of-type {\n",
       "        vertical-align: middle;\n",
       "    }\n",
       "\n",
       "    .dataframe tbody tr th {\n",
       "        vertical-align: top;\n",
       "    }\n",
       "\n",
       "    .dataframe thead th {\n",
       "        text-align: right;\n",
       "    }\n",
       "</style>\n",
       "<table border=\"1\" class=\"dataframe\">\n",
       "  <thead>\n",
       "    <tr style=\"text-align: right;\">\n",
       "      <th></th>\n",
       "      <th>CRASH_RECORD_ID</th>\n",
       "      <th>CRASH_DATE</th>\n",
       "      <th>POSTED_SPEED_LIMIT</th>\n",
       "      <th>TRAFFIC_CONTROL_DEVICE</th>\n",
       "      <th>DEVICE_CONDITION</th>\n",
       "      <th>WEATHER_CONDITION</th>\n",
       "      <th>LIGHTING_CONDITION</th>\n",
       "      <th>FIRST_CRASH_TYPE</th>\n",
       "      <th>TRAFFICWAY_TYPE</th>\n",
       "      <th>ALIGNMENT</th>\n",
       "      <th>...</th>\n",
       "      <th>HIT_AND_RUN_I</th>\n",
       "      <th>INTERSECTION_RELATED_I</th>\n",
       "      <th>PRIVATE_PROPERTY_I</th>\n",
       "      <th>CRASH_DATE_EST_I</th>\n",
       "      <th>PHOTOS_TAKEN_I</th>\n",
       "      <th>STATEMENTS_TAKEN_I</th>\n",
       "      <th>WORK_ZONE_I</th>\n",
       "      <th>WORK_ZONE_TYPE</th>\n",
       "      <th>WORKERS_PRESENT_I</th>\n",
       "      <th>DOORING_I</th>\n",
       "    </tr>\n",
       "  </thead>\n",
       "  <tbody>\n",
       "    <tr>\n",
       "      <th>0</th>\n",
       "      <td>a27db268a57869121993d68603580a669ddb3966076a53...</td>\n",
       "      <td>2024-01-26T01:14:00.000</td>\n",
       "      <td>30</td>\n",
       "      <td>TRAFFIC SIGNAL</td>\n",
       "      <td>FUNCTIONING PROPERLY</td>\n",
       "      <td>RAIN</td>\n",
       "      <td>DARKNESS, LIGHTED ROAD</td>\n",
       "      <td>SIDESWIPE SAME DIRECTION</td>\n",
       "      <td>ONE-WAY</td>\n",
       "      <td>STRAIGHT AND LEVEL</td>\n",
       "      <td>...</td>\n",
       "      <td>NaN</td>\n",
       "      <td>NaN</td>\n",
       "      <td>NaN</td>\n",
       "      <td>NaN</td>\n",
       "      <td>NaN</td>\n",
       "      <td>NaN</td>\n",
       "      <td>NaN</td>\n",
       "      <td>NaN</td>\n",
       "      <td>NaN</td>\n",
       "      <td>NaN</td>\n",
       "    </tr>\n",
       "    <tr>\n",
       "      <th>1</th>\n",
       "      <td>c20a8017cf9cf05492216aba01ba822ea7c62b7ecf21b0...</td>\n",
       "      <td>2024-01-26T01:10:00.000</td>\n",
       "      <td>30</td>\n",
       "      <td>NO CONTROLS</td>\n",
       "      <td>NO CONTROLS</td>\n",
       "      <td>RAIN</td>\n",
       "      <td>DARKNESS, LIGHTED ROAD</td>\n",
       "      <td>PARKED MOTOR VEHICLE</td>\n",
       "      <td>ONE-WAY</td>\n",
       "      <td>STRAIGHT AND LEVEL</td>\n",
       "      <td>...</td>\n",
       "      <td>NaN</td>\n",
       "      <td>NaN</td>\n",
       "      <td>NaN</td>\n",
       "      <td>NaN</td>\n",
       "      <td>NaN</td>\n",
       "      <td>NaN</td>\n",
       "      <td>NaN</td>\n",
       "      <td>NaN</td>\n",
       "      <td>NaN</td>\n",
       "      <td>NaN</td>\n",
       "    </tr>\n",
       "    <tr>\n",
       "      <th>2</th>\n",
       "      <td>22d43d89a98a8453861f97410961b73278d3a2ad4a652f...</td>\n",
       "      <td>2024-01-26T00:45:00.000</td>\n",
       "      <td>30</td>\n",
       "      <td>NO CONTROLS</td>\n",
       "      <td>NO CONTROLS</td>\n",
       "      <td>RAIN</td>\n",
       "      <td>DARKNESS, LIGHTED ROAD</td>\n",
       "      <td>FIXED OBJECT</td>\n",
       "      <td>OTHER</td>\n",
       "      <td>STRAIGHT AND LEVEL</td>\n",
       "      <td>...</td>\n",
       "      <td>NaN</td>\n",
       "      <td>NaN</td>\n",
       "      <td>NaN</td>\n",
       "      <td>NaN</td>\n",
       "      <td>NaN</td>\n",
       "      <td>NaN</td>\n",
       "      <td>NaN</td>\n",
       "      <td>NaN</td>\n",
       "      <td>NaN</td>\n",
       "      <td>NaN</td>\n",
       "    </tr>\n",
       "    <tr>\n",
       "      <th>3</th>\n",
       "      <td>48960d0da7aca84a9a8d199c8f3b5b3300d5cf4b1defd0...</td>\n",
       "      <td>2024-01-25T23:32:00.000</td>\n",
       "      <td>30</td>\n",
       "      <td>TRAFFIC SIGNAL</td>\n",
       "      <td>FUNCTIONING PROPERLY</td>\n",
       "      <td>RAIN</td>\n",
       "      <td>DARKNESS, LIGHTED ROAD</td>\n",
       "      <td>PEDESTRIAN</td>\n",
       "      <td>FOUR WAY</td>\n",
       "      <td>STRAIGHT AND LEVEL</td>\n",
       "      <td>...</td>\n",
       "      <td>Y</td>\n",
       "      <td>NaN</td>\n",
       "      <td>NaN</td>\n",
       "      <td>NaN</td>\n",
       "      <td>NaN</td>\n",
       "      <td>NaN</td>\n",
       "      <td>NaN</td>\n",
       "      <td>NaN</td>\n",
       "      <td>NaN</td>\n",
       "      <td>NaN</td>\n",
       "    </tr>\n",
       "    <tr>\n",
       "      <th>4</th>\n",
       "      <td>410bb8db543aec2a7a8f10d66c3f03540352b07b75efcd...</td>\n",
       "      <td>2024-01-25T22:20:00.000</td>\n",
       "      <td>25</td>\n",
       "      <td>TRAFFIC SIGNAL</td>\n",
       "      <td>FUNCTIONING PROPERLY</td>\n",
       "      <td>RAIN</td>\n",
       "      <td>DARKNESS</td>\n",
       "      <td>ANGLE</td>\n",
       "      <td>FOUR WAY</td>\n",
       "      <td>STRAIGHT AND LEVEL</td>\n",
       "      <td>...</td>\n",
       "      <td>NaN</td>\n",
       "      <td>Y</td>\n",
       "      <td>NaN</td>\n",
       "      <td>NaN</td>\n",
       "      <td>NaN</td>\n",
       "      <td>NaN</td>\n",
       "      <td>NaN</td>\n",
       "      <td>NaN</td>\n",
       "      <td>NaN</td>\n",
       "      <td>NaN</td>\n",
       "    </tr>\n",
       "  </tbody>\n",
       "</table>\n",
       "<p>5 rows × 47 columns</p>\n",
       "</div>"
      ],
      "text/plain": [
       "                                     CRASH_RECORD_ID               CRASH_DATE  \\\n",
       "0  a27db268a57869121993d68603580a669ddb3966076a53...  2024-01-26T01:14:00.000   \n",
       "1  c20a8017cf9cf05492216aba01ba822ea7c62b7ecf21b0...  2024-01-26T01:10:00.000   \n",
       "2  22d43d89a98a8453861f97410961b73278d3a2ad4a652f...  2024-01-26T00:45:00.000   \n",
       "3  48960d0da7aca84a9a8d199c8f3b5b3300d5cf4b1defd0...  2024-01-25T23:32:00.000   \n",
       "4  410bb8db543aec2a7a8f10d66c3f03540352b07b75efcd...  2024-01-25T22:20:00.000   \n",
       "\n",
       "  POSTED_SPEED_LIMIT TRAFFIC_CONTROL_DEVICE      DEVICE_CONDITION  \\\n",
       "0                 30         TRAFFIC SIGNAL  FUNCTIONING PROPERLY   \n",
       "1                 30            NO CONTROLS           NO CONTROLS   \n",
       "2                 30            NO CONTROLS           NO CONTROLS   \n",
       "3                 30         TRAFFIC SIGNAL  FUNCTIONING PROPERLY   \n",
       "4                 25         TRAFFIC SIGNAL  FUNCTIONING PROPERLY   \n",
       "\n",
       "  WEATHER_CONDITION      LIGHTING_CONDITION          FIRST_CRASH_TYPE  \\\n",
       "0              RAIN  DARKNESS, LIGHTED ROAD  SIDESWIPE SAME DIRECTION   \n",
       "1              RAIN  DARKNESS, LIGHTED ROAD      PARKED MOTOR VEHICLE   \n",
       "2              RAIN  DARKNESS, LIGHTED ROAD              FIXED OBJECT   \n",
       "3              RAIN  DARKNESS, LIGHTED ROAD                PEDESTRIAN   \n",
       "4              RAIN                DARKNESS                     ANGLE   \n",
       "\n",
       "  TRAFFICWAY_TYPE           ALIGNMENT  ... HIT_AND_RUN_I  \\\n",
       "0         ONE-WAY  STRAIGHT AND LEVEL  ...           NaN   \n",
       "1         ONE-WAY  STRAIGHT AND LEVEL  ...           NaN   \n",
       "2           OTHER  STRAIGHT AND LEVEL  ...           NaN   \n",
       "3        FOUR WAY  STRAIGHT AND LEVEL  ...             Y   \n",
       "4        FOUR WAY  STRAIGHT AND LEVEL  ...           NaN   \n",
       "\n",
       "  INTERSECTION_RELATED_I PRIVATE_PROPERTY_I CRASH_DATE_EST_I PHOTOS_TAKEN_I  \\\n",
       "0                    NaN                NaN              NaN            NaN   \n",
       "1                    NaN                NaN              NaN            NaN   \n",
       "2                    NaN                NaN              NaN            NaN   \n",
       "3                    NaN                NaN              NaN            NaN   \n",
       "4                      Y                NaN              NaN            NaN   \n",
       "\n",
       "  STATEMENTS_TAKEN_I WORK_ZONE_I WORK_ZONE_TYPE WORKERS_PRESENT_I DOORING_I  \n",
       "0                NaN         NaN            NaN               NaN       NaN  \n",
       "1                NaN         NaN            NaN               NaN       NaN  \n",
       "2                NaN         NaN            NaN               NaN       NaN  \n",
       "3                NaN         NaN            NaN               NaN       NaN  \n",
       "4                NaN         NaN            NaN               NaN       NaN  \n",
       "\n",
       "[5 rows x 47 columns]"
      ]
     },
     "execution_count": 4,
     "metadata": {},
     "output_type": "execute_result"
    }
   ],
   "source": [
    "crashes = pd.read_csv('../data/crashes_crashes.csv')\n",
    "\n",
    "conn = Socrata(\"data.cityofchicago.org\", None)\n",
    "\n",
    "results = conn.get(\"85ca-t3if\", limit=2000, where = \"crash_date > '2024-01-19T02:02:00.000'\")\n",
    "\n",
    "# Convert to pandas DataFrame\n",
    "api_df = pd.DataFrame.from_records(results)\n",
    "\n",
    "api_df.columns = api_df.columns.str.upper()\n",
    "\n",
    "api_df.head()"
   ]
  },
  {
   "cell_type": "code",
   "execution_count": 5,
   "id": "86ae33b2",
   "metadata": {
    "scrolled": true
   },
   "outputs": [
    {
     "name": "stdout",
     "output_type": "stream",
     "text": [
      "api_columns: 47, dataset_columns: 48\n"
     ]
    },
    {
     "data": {
      "text/plain": [
       "['LONGITUDE',\n",
       " 'LOCATION',\n",
       " 'ROAD_DEFECT',\n",
       " 'INJURIES_TOTAL',\n",
       " 'CRASH_RECORD_ID',\n",
       " 'HIT_AND_RUN_I',\n",
       " 'CRASH_DATE_EST_I',\n",
       " 'STREET_DIRECTION',\n",
       " 'DOORING_I',\n",
       " 'WORK_ZONE_I',\n",
       " 'INTERSECTION_RELATED_I',\n",
       " 'CRASH_TYPE',\n",
       " 'STREET_NAME',\n",
       " 'PRIM_CONTRIBUTORY_CAUSE',\n",
       " 'STATEMENTS_TAKEN_I',\n",
       " 'WORK_ZONE_TYPE',\n",
       " 'TRAFFIC_CONTROL_DEVICE',\n",
       " 'INJURIES_FATAL',\n",
       " 'CRASH_MONTH',\n",
       " 'NUM_UNITS',\n",
       " 'POSTED_SPEED_LIMIT',\n",
       " 'TRAFFICWAY_TYPE',\n",
       " 'CRASH_DAY_OF_WEEK',\n",
       " 'DEVICE_CONDITION',\n",
       " 'STREET_NO',\n",
       " 'INJURIES_REPORTED_NOT_EVIDENT',\n",
       " 'ROADWAY_SURFACE_COND',\n",
       " 'FIRST_CRASH_TYPE',\n",
       " 'WEATHER_CONDITION',\n",
       " 'BEAT_OF_OCCURRENCE',\n",
       " 'REPORT_TYPE',\n",
       " 'CRASH_HOUR',\n",
       " 'INJURIES_NON_INCAPACITATING',\n",
       " 'INJURIES_UNKNOWN',\n",
       " 'SEC_CONTRIBUTORY_CAUSE',\n",
       " 'MOST_SEVERE_INJURY',\n",
       " 'WORKERS_PRESENT_I',\n",
       " 'ALIGNMENT',\n",
       " 'INJURIES_INCAPACITATING',\n",
       " 'DAMAGE',\n",
       " 'PHOTOS_TAKEN_I',\n",
       " 'LIGHTING_CONDITION',\n",
       " 'LATITUDE',\n",
       " 'DATE_POLICE_NOTIFIED',\n",
       " 'INJURIES_NO_INDICATION',\n",
       " 'CRASH_DATE']"
      ]
     },
     "execution_count": 5,
     "metadata": {},
     "output_type": "execute_result"
    }
   ],
   "source": [
    "api_col_num = len(api_df.columns)\n",
    "dataset_col_num = len(crashes.columns)\n",
    "shared_cols = list(set(api_df.columns).intersection(set(crashes.columns)))\n",
    "\n",
    "print(f'api_columns: {api_col_num}, dataset_columns: {dataset_col_num}')\n",
    "shared_cols"
   ]
  },
  {
   "cell_type": "code",
   "execution_count": 8,
   "id": "0a53dec6",
   "metadata": {},
   "outputs": [
    {
     "name": "stdout",
     "output_type": "stream",
     "text": [
      "\n",
      "        In API, not in dataset: {'PRIVATE_PROPERTY_I'}\n",
      "        In dataset, not in API: {'NOT_RIGHT_OF_WAY_I', 'LANE_CNT'}\n",
      "    \n"
     ]
    }
   ],
   "source": [
    "api_cols = set(api_df.columns)\n",
    "dataset_cols = set(crashes.columns)\n",
    "\n",
    "print(f\"\"\"\n",
    "        In API, not in dataset: {api_cols - dataset_cols}\n",
    "        In dataset, not in API: {dataset_cols - api_cols}\n",
    "       \"\"\")"
   ]
  },
  {
   "cell_type": "code",
   "execution_count": 6,
   "id": "f479d586",
   "metadata": {},
   "outputs": [
    {
     "data": {
      "text/plain": [
       "Index(['CRASH_RECORD_ID', 'CRASH_DATE_EST_I', 'CRASH_DATE',\n",
       "       'POSTED_SPEED_LIMIT', 'TRAFFIC_CONTROL_DEVICE', 'DEVICE_CONDITION',\n",
       "       'WEATHER_CONDITION', 'LIGHTING_CONDITION', 'FIRST_CRASH_TYPE',\n",
       "       'TRAFFICWAY_TYPE', 'LANE_CNT', 'ALIGNMENT', 'ROADWAY_SURFACE_COND',\n",
       "       'ROAD_DEFECT', 'REPORT_TYPE', 'CRASH_TYPE', 'INTERSECTION_RELATED_I',\n",
       "       'NOT_RIGHT_OF_WAY_I', 'HIT_AND_RUN_I', 'DAMAGE', 'DATE_POLICE_NOTIFIED',\n",
       "       'PRIM_CONTRIBUTORY_CAUSE', 'SEC_CONTRIBUTORY_CAUSE', 'STREET_NO',\n",
       "       'STREET_DIRECTION', 'STREET_NAME', 'BEAT_OF_OCCURRENCE',\n",
       "       'PHOTOS_TAKEN_I', 'STATEMENTS_TAKEN_I', 'DOORING_I', 'WORK_ZONE_I',\n",
       "       'WORK_ZONE_TYPE', 'WORKERS_PRESENT_I', 'NUM_UNITS',\n",
       "       'MOST_SEVERE_INJURY', 'INJURIES_TOTAL', 'INJURIES_FATAL',\n",
       "       'INJURIES_INCAPACITATING', 'INJURIES_NON_INCAPACITATING',\n",
       "       'INJURIES_REPORTED_NOT_EVIDENT', 'INJURIES_NO_INDICATION',\n",
       "       'INJURIES_UNKNOWN', 'CRASH_HOUR', 'CRASH_DAY_OF_WEEK', 'CRASH_MONTH',\n",
       "       'LATITUDE', 'LONGITUDE', 'LOCATION'],\n",
       "      dtype='object')"
      ]
     },
     "execution_count": 6,
     "metadata": {},
     "output_type": "execute_result"
    }
   ],
   "source": [
    "crashes.columns"
   ]
  },
  {
   "cell_type": "code",
   "execution_count": 5,
   "id": "0d460eea-ebd5-465e-b3a3-90759ce58c3b",
   "metadata": {},
   "outputs": [
    {
     "data": {
      "text/plain": [
       "PRIM_CONTRIBUTORY_CAUSE\n",
       "BAD DRIVING                   589\n",
       "BREAKING LAW                  273\n",
       "OUTSIDE FACTORS               167\n",
       "DRINKING/DRUGS                 22\n",
       "DISTRACTION INSIDE VEHICLE     10\n",
       "OTHER                           8\n",
       "Name: count, dtype: int64"
      ]
     },
     "execution_count": 5,
     "metadata": {},
     "output_type": "execute_result"
    }
   ],
   "source": [
    " api_df = api_df.loc[:, shared_cols]\n",
    "\n",
    "crashes_prime_cause = api_df[(api_df['PRIM_CONTRIBUTORY_CAUSE'] != 'UNABLE TO DETERMINE')\\\n",
    "                              & (api_df['PRIM_CONTRIBUTORY_CAUSE'] != 'NOT APPLICABLE')]\n",
    "\n",
    "breaking_laws_list = ['DISREGARDING TRAFFIC SIGNALS', 'DISREGARDING STOP SIGN', 'DISREGARDING ROAD MARKINGS', \n",
    "                  'DISREGARDING OTHER TRAFFIC SIGNS', 'DISREGARDING YIELD SIGN', 'FAILING TO YIELD RIGHT-OF-WAY'] \n",
    "\n",
    "bad_driving_list = ['DRIVING ON WRONG SIDE/WRONG WAY', 'FOLLOWING TOO CLOSELY', 'IMPROPER OVERTAKING/PASSING', \n",
    "                    'FAILING TO REDUCE SPEED TO AVOID CRASH', 'TURNING RIGHT ON RED','EXCEEDING SAFE SPEED FOR CONDITIONS',\n",
    "                    'EXCEEDING AUTHORIZED SPEED LIMIT', 'IMPROPER LANE USAGE', 'PHYSICAL CONDITION OF DRIVER', \n",
    "                  'DRIVING SKILLS/KNOWLEDGE/EXPERIENCE','IMPROPER BACKING', 'IMPROPER TURNING/NO SIGNAL']\n",
    "\n",
    "distraction_list = ['TEXTING', 'DISTRACTION - OTHER ELECTRONIC DEVICE (NAVIGATION DEVICE, DVD PLAYER, ETC.)', \n",
    "                    'DISTRACTION - FROM INSIDE VEHICLE','CELL PHONE USE OTHER THAN TEXTING']\n",
    "\n",
    "drinking_list = ['OPERATING VEHICLE IN ERRATIC, RECKLESS, CARELESS, NEGLIGENT OR AGGRESSIVE MANNER', \n",
    "                 'HAD BEEN DRINKING (USE WHEN ARREST IS NOT MADE)', 'UNDER THE INFLUENCE OF ALCOHOL/DRUGS (USE WHEN ARREST IS EFFECTED)']\n",
    "\n",
    "road_list = ['DISTRACTION - FROM OUTSIDE VEHICLE', 'ROAD ENGINEERING/SURFACE/MARKING DEFECTS', 'ROAD CONSTRUCTION/MAINTENANCE', 'EQUIPMENT - VEHICLE CONDITION', \n",
    "             'VISION OBSCURED (SIGNS, TREE LIMBS, BUILDINGS, ETC.)', 'WEATHER']\n",
    "\n",
    "other_list= ['PASSING STOPPED SCHOOL BUS', 'OBSTRUCTED CROSSWALKS', 'BICYCLE ADVANCING LEGALLY ON RED LIGHT', \n",
    "             'MOTORCYCLE ADVANCING LEGALLY ON RED LIGHT', 'EVASIVE ACTION DUE TO ANIMAL, OBJECT, NONMOTORIST', 'ANIMAL', 'TURNING RIGHT ON RED', \n",
    "             'RELATED TO BUS STOP'] \n",
    "\n",
    "binning_list = [breaking_laws_list, bad_driving_list, distraction_list, drinking_list, road_list, other_list]\n",
    "value_list = ['BREAKING LAW', 'BAD DRIVING', 'DISTRACTION INSIDE VEHICLE', 'DRINKING/DRUGS', 'OUTSIDE FACTORS', 'OTHER']\n",
    "\n",
    "\n",
    "\n",
    "for group, value in zip(binning_list, value_list):\n",
    "    crashes_prime_cause['PRIM_CONTRIBUTORY_CAUSE'] = crashes_prime_cause['PRIM_CONTRIBUTORY_CAUSE'].replace(to_replace = group, value = value)\n",
    "\n",
    "crashes_prime_cause['PRIM_CONTRIBUTORY_CAUSE'].value_counts()"
   ]
  },
  {
   "cell_type": "code",
   "execution_count": 2,
   "id": "92475ded",
   "metadata": {},
   "outputs": [
    {
     "ename": "NameError",
     "evalue": "name 'crashes_prime_cause' is not defined",
     "output_type": "error",
     "traceback": [
      "\u001b[0;31m---------------------------------------------------------------------------\u001b[0m",
      "\u001b[0;31mNameError\u001b[0m                                 Traceback (most recent call last)",
      "Cell \u001b[0;32mIn[2], line 1\u001b[0m\n\u001b[0;32m----> 1\u001b[0m crashes_prime_cause_filled \u001b[38;5;241m=\u001b[39m crashes_prime_cause\u001b[38;5;241m.\u001b[39mfillna({\u001b[38;5;124m'\u001b[39m\u001b[38;5;124mINTERSECTION_RELATED_I\u001b[39m\u001b[38;5;124m'\u001b[39m: \u001b[38;5;124m'\u001b[39m\u001b[38;5;124mN\u001b[39m\u001b[38;5;124m'\u001b[39m, \u001b[38;5;124m'\u001b[39m\u001b[38;5;124mNOT_RIGHT_OF_WAY_I\u001b[39m\u001b[38;5;124m'\u001b[39m: \n\u001b[1;32m      2\u001b[0m                                                          \u001b[38;5;124m'\u001b[39m\u001b[38;5;124mN\u001b[39m\u001b[38;5;124m'\u001b[39m, \u001b[38;5;124m'\u001b[39m\u001b[38;5;124mHIT_AND_RUN_I\u001b[39m\u001b[38;5;124m'\u001b[39m:\u001b[38;5;124m'\u001b[39m\u001b[38;5;124mN\u001b[39m\u001b[38;5;124m'\u001b[39m})\n\u001b[1;32m      4\u001b[0m crashes_prime_cause_filled \u001b[38;5;241m=\u001b[39m crashes_prime_cause_filled\u001b[38;5;241m.\u001b[39mdropna(subset\u001b[38;5;241m=\u001b[39m[\u001b[38;5;124m'\u001b[39m\u001b[38;5;124mLATITUDE\u001b[39m\u001b[38;5;124m'\u001b[39m, \u001b[38;5;124m'\u001b[39m\u001b[38;5;124mLONGITUDE\u001b[39m\u001b[38;5;124m'\u001b[39m, \u001b[38;5;124m'\u001b[39m\u001b[38;5;124mINJURIES_TOTAL\u001b[39m\u001b[38;5;124m'\u001b[39m, \u001b[38;5;124m'\u001b[39m\u001b[38;5;124mINJURIES_FATAL\u001b[39m\u001b[38;5;124m'\u001b[39m, \n\u001b[1;32m      5\u001b[0m                                                                            \u001b[38;5;124m'\u001b[39m\u001b[38;5;124mMOST_SEVERE_INJURY\u001b[39m\u001b[38;5;124m'\u001b[39m])\n",
      "\u001b[0;31mNameError\u001b[0m: name 'crashes_prime_cause' is not defined"
     ]
    }
   ],
   "source": [
    "crashes_prime_cause_filled = crashes_prime_cause.fillna({'INTERSECTION_RELATED_I': 'N', 'NOT_RIGHT_OF_WAY_I': \n",
    "                                                         'N', 'HIT_AND_RUN_I':'N'})\n",
    "\n",
    "crashes_prime_cause_filled = crashes_prime_cause_filled.dropna(subset=['LATITUDE', 'LONGITUDE', 'INJURIES_TOTAL', 'INJURIES_FATAL', \n",
    "                                                                           'MOST_SEVERE_INJURY'])"
   ]
  },
  {
   "cell_type": "code",
   "execution_count": 1,
   "id": "3a318841",
   "metadata": {},
   "outputs": [
    {
     "ename": "NameError",
     "evalue": "name 'crashes_prime_cause_filled' is not defined",
     "output_type": "error",
     "traceback": [
      "\u001b[0;31m---------------------------------------------------------------------------\u001b[0m",
      "\u001b[0;31mNameError\u001b[0m                                 Traceback (most recent call last)",
      "Cell \u001b[0;32mIn[1], line 2\u001b[0m\n\u001b[1;32m      1\u001b[0m n_clusters \u001b[38;5;241m=\u001b[39m \u001b[38;5;241m30\u001b[39m  \u001b[38;5;66;03m# Number of clusters to create\u001b[39;00m\n\u001b[0;32m----> 2\u001b[0m X \u001b[38;5;241m=\u001b[39m crashes_prime_cause_filled[[\u001b[38;5;124m'\u001b[39m\u001b[38;5;124mLONGITUDE\u001b[39m\u001b[38;5;124m'\u001b[39m, \u001b[38;5;124m'\u001b[39m\u001b[38;5;124mLATITUDE\u001b[39m\u001b[38;5;124m'\u001b[39m]]\n\u001b[1;32m      4\u001b[0m \u001b[38;5;66;03m# Create a K-Means clustering model\u001b[39;00m\n\u001b[1;32m      5\u001b[0m kmeans \u001b[38;5;241m=\u001b[39m KMeans(n_clusters\u001b[38;5;241m=\u001b[39mn_clusters, random_state\u001b[38;5;241m=\u001b[39m\u001b[38;5;241m0\u001b[39m)\n",
      "\u001b[0;31mNameError\u001b[0m: name 'crashes_prime_cause_filled' is not defined"
     ]
    }
   ],
   "source": [
    "n_clusters = 30  # Number of clusters to create\n",
    "X = crashes_prime_cause_filled[['LONGITUDE', 'LATITUDE']]\n",
    "\n",
    "# Create a K-Means clustering model\n",
    "kmeans = KMeans(n_clusters=n_clusters, random_state=0)\n",
    "kmeans.fit(X)\n",
    "\n",
    "# Add cluster labels to your data\n",
    "cluster_labels = kmeans.labels_\n",
    "crashes_prime_cause_filled['GEO_KMEANS_Cluster'] = cluster_labels"
   ]
  },
  {
   "cell_type": "code",
   "execution_count": null,
   "id": "30da3920",
   "metadata": {},
   "outputs": [],
   "source": [
    "crashes_prime_cause_filled = crashes_prime_cause_filled.drop(columns = ['CRASH_DATE_EST_I', 'DEVICE_CONDITION', 'REPORT_TYPE', 'DATE_POLICE_NOTIFIED',\n",
    "                                                          'STREET_NO', 'STREET_DIRECTION', 'STREET_NAME','BEAT_OF_OCCURRENCE', 'PHOTOS_TAKEN_I', \n",
    "                                                          'STATEMENTS_TAKEN_I', 'DOORING_I', 'WORK_ZONE_I', 'WORK_ZONE_TYPE', 'WORKERS_PRESENT_I', \n",
    "                                                          'INJURIES_INCAPACITATING', 'INJURIES_NON_INCAPACITATING', 'INJURIES_NO_INDICATION', \n",
    "                                                          'INJURIES_UNKNOWN', 'LOCATION', 'LANE_CNT', 'CRASH_DATE', \n",
    "                                                          'INJURIES_REPORTED_NOT_EVIDENT', 'TRAFFIC_CONTROL_DEVICE', 'INJURIES_TOTAL', \n",
    "                                                          'INJURIES_FATAL'])"
   ]
  },
  {
   "cell_type": "code",
   "execution_count": null,
   "id": "56bb0867",
   "metadata": {},
   "outputs": [],
   "source": [
    "crashes_cleaned = pd.get_dummies(crashes_prime_cause_filled, columns = ['WEATHER_CONDITION', 'LIGHTING_CONDITION','FIRST_CRASH_TYPE',\n",
    "                                                                            'TRAFFICWAY_TYPE', 'ALIGNMENT', 'ROADWAY_SURFACE_COND', \n",
    "                                                                            'SEC_CONTRIBUTORY_CAUSE', 'ROAD_DEFECT','MOST_SEVERE_INJURY'],\n",
    "                                                                             drop_first=True, dtype=int)\n",
    "\n",
    "le = LabelEncoder()\n",
    "\n",
    "for col in ['CRASH_TYPE','INTERSECTION_RELATED_I', 'NOT_RIGHT_OF_WAY_I', 'HIT_AND_RUN_I', 'DAMAGE']:\n",
    "    crashes_cleaned[col] = le.fit_transform(crashes_cleaned[col])"
   ]
  },
  {
   "cell_type": "code",
   "execution_count": null,
   "id": "96f91d75",
   "metadata": {},
   "outputs": [],
   "source": [
    "# crashes_cleaned.to_csv('../data/latest_data.csv')"
   ]
  }
 ],
 "metadata": {
  "kernelspec": {
   "display_name": "learn-env",
   "language": "python",
   "name": "myenv"
  },
  "language_info": {
   "codemirror_mode": {
    "name": "ipython",
    "version": 3
   },
   "file_extension": ".py",
   "mimetype": "text/x-python",
   "name": "python",
   "nbconvert_exporter": "python",
   "pygments_lexer": "ipython3",
   "version": "3.11.7"
  }
 },
 "nbformat": 4,
 "nbformat_minor": 5
}
