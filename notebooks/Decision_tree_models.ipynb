{
 "cells": [
  {
   "cell_type": "markdown",
   "metadata": {
    "slideshow": {
     "slide_type": "slide"
    }
   },
   "source": [
    "## Decision Tree Baseline Model"
   ]
  },
  {
   "cell_type": "code",
   "execution_count": 11,
   "metadata": {
    "scrolled": true,
    "slideshow": {
     "slide_type": "subslide"
    }
   },
   "outputs": [
    {
     "data": {
      "text/html": [
       "<div>\n",
       "<style scoped>\n",
       "    .dataframe tbody tr th:only-of-type {\n",
       "        vertical-align: middle;\n",
       "    }\n",
       "\n",
       "    .dataframe tbody tr th {\n",
       "        vertical-align: top;\n",
       "    }\n",
       "\n",
       "    .dataframe thead th {\n",
       "        text-align: right;\n",
       "    }\n",
       "</style>\n",
       "<table border=\"1\" class=\"dataframe\">\n",
       "  <thead>\n",
       "    <tr style=\"text-align: right;\">\n",
       "      <th></th>\n",
       "      <th>CRASH_RECORD_ID</th>\n",
       "      <th>POSTED_SPEED_LIMIT</th>\n",
       "      <th>CRASH_TYPE</th>\n",
       "      <th>INTERSECTION_RELATED_I</th>\n",
       "      <th>NOT_RIGHT_OF_WAY_I</th>\n",
       "      <th>HIT_AND_RUN_I</th>\n",
       "      <th>DAMAGE</th>\n",
       "      <th>PRIM_CONTRIBUTORY_CAUSE</th>\n",
       "      <th>NUM_UNITS</th>\n",
       "      <th>CRASH_HOUR</th>\n",
       "      <th>...</th>\n",
       "      <th>ROAD_DEFECT_NO DEFECTS</th>\n",
       "      <th>ROAD_DEFECT_OTHER</th>\n",
       "      <th>ROAD_DEFECT_RUT, HOLES</th>\n",
       "      <th>ROAD_DEFECT_SHOULDER DEFECT</th>\n",
       "      <th>ROAD_DEFECT_UNKNOWN</th>\n",
       "      <th>ROAD_DEFECT_WORN SURFACE</th>\n",
       "      <th>MOST_SEVERE_INJURY_INCAPACITATING INJURY</th>\n",
       "      <th>MOST_SEVERE_INJURY_NO INDICATION OF INJURY</th>\n",
       "      <th>MOST_SEVERE_INJURY_NONINCAPACITATING INJURY</th>\n",
       "      <th>MOST_SEVERE_INJURY_REPORTED, NOT EVIDENT</th>\n",
       "    </tr>\n",
       "  </thead>\n",
       "  <tbody>\n",
       "    <tr>\n",
       "      <th>2</th>\n",
       "      <td>5f54a59fcb087b12ae5b1acff96a3caf4f2d37e79f8db4...</td>\n",
       "      <td>30</td>\n",
       "      <td>1</td>\n",
       "      <td>0</td>\n",
       "      <td>0</td>\n",
       "      <td>1</td>\n",
       "      <td>2</td>\n",
       "      <td>BAD DRIVING</td>\n",
       "      <td>4</td>\n",
       "      <td>14</td>\n",
       "      <td>...</td>\n",
       "      <td>1</td>\n",
       "      <td>0</td>\n",
       "      <td>0</td>\n",
       "      <td>0</td>\n",
       "      <td>0</td>\n",
       "      <td>0</td>\n",
       "      <td>0</td>\n",
       "      <td>1</td>\n",
       "      <td>0</td>\n",
       "      <td>0</td>\n",
       "    </tr>\n",
       "    <tr>\n",
       "      <th>46</th>\n",
       "      <td>c107aea0fb8320ca5e7676759af9399cffe67f3ac8e429...</td>\n",
       "      <td>30</td>\n",
       "      <td>1</td>\n",
       "      <td>0</td>\n",
       "      <td>0</td>\n",
       "      <td>1</td>\n",
       "      <td>2</td>\n",
       "      <td>BAD DRIVING</td>\n",
       "      <td>2</td>\n",
       "      <td>17</td>\n",
       "      <td>...</td>\n",
       "      <td>1</td>\n",
       "      <td>0</td>\n",
       "      <td>0</td>\n",
       "      <td>0</td>\n",
       "      <td>0</td>\n",
       "      <td>0</td>\n",
       "      <td>0</td>\n",
       "      <td>1</td>\n",
       "      <td>0</td>\n",
       "      <td>0</td>\n",
       "    </tr>\n",
       "    <tr>\n",
       "      <th>56</th>\n",
       "      <td>db61137bc4bb19b84665da12c4c367592e874c623f76a1...</td>\n",
       "      <td>30</td>\n",
       "      <td>0</td>\n",
       "      <td>0</td>\n",
       "      <td>0</td>\n",
       "      <td>0</td>\n",
       "      <td>2</td>\n",
       "      <td>BAD DRIVING</td>\n",
       "      <td>3</td>\n",
       "      <td>18</td>\n",
       "      <td>...</td>\n",
       "      <td>1</td>\n",
       "      <td>0</td>\n",
       "      <td>0</td>\n",
       "      <td>0</td>\n",
       "      <td>0</td>\n",
       "      <td>0</td>\n",
       "      <td>0</td>\n",
       "      <td>1</td>\n",
       "      <td>0</td>\n",
       "      <td>0</td>\n",
       "    </tr>\n",
       "    <tr>\n",
       "      <th>63</th>\n",
       "      <td>8640aa03a86f10df7a8c1dafc03d1551c4a4c0262397f3...</td>\n",
       "      <td>30</td>\n",
       "      <td>1</td>\n",
       "      <td>0</td>\n",
       "      <td>0</td>\n",
       "      <td>1</td>\n",
       "      <td>2</td>\n",
       "      <td>BAD DRIVING</td>\n",
       "      <td>2</td>\n",
       "      <td>11</td>\n",
       "      <td>...</td>\n",
       "      <td>1</td>\n",
       "      <td>0</td>\n",
       "      <td>0</td>\n",
       "      <td>0</td>\n",
       "      <td>0</td>\n",
       "      <td>0</td>\n",
       "      <td>0</td>\n",
       "      <td>1</td>\n",
       "      <td>0</td>\n",
       "      <td>0</td>\n",
       "    </tr>\n",
       "    <tr>\n",
       "      <th>74</th>\n",
       "      <td>f1779af8b006d956f29723ac415bd54b61ef9acf84e38e...</td>\n",
       "      <td>30</td>\n",
       "      <td>1</td>\n",
       "      <td>1</td>\n",
       "      <td>0</td>\n",
       "      <td>1</td>\n",
       "      <td>2</td>\n",
       "      <td>BREAKING LAW</td>\n",
       "      <td>2</td>\n",
       "      <td>15</td>\n",
       "      <td>...</td>\n",
       "      <td>0</td>\n",
       "      <td>0</td>\n",
       "      <td>0</td>\n",
       "      <td>0</td>\n",
       "      <td>1</td>\n",
       "      <td>0</td>\n",
       "      <td>0</td>\n",
       "      <td>1</td>\n",
       "      <td>0</td>\n",
       "      <td>0</td>\n",
       "    </tr>\n",
       "  </tbody>\n",
       "</table>\n",
       "<p>5 rows × 127 columns</p>\n",
       "</div>"
      ],
      "text/plain": [
       "                                      CRASH_RECORD_ID  POSTED_SPEED_LIMIT  \\\n",
       "2   5f54a59fcb087b12ae5b1acff96a3caf4f2d37e79f8db4...                  30   \n",
       "46  c107aea0fb8320ca5e7676759af9399cffe67f3ac8e429...                  30   \n",
       "56  db61137bc4bb19b84665da12c4c367592e874c623f76a1...                  30   \n",
       "63  8640aa03a86f10df7a8c1dafc03d1551c4a4c0262397f3...                  30   \n",
       "74  f1779af8b006d956f29723ac415bd54b61ef9acf84e38e...                  30   \n",
       "\n",
       "    CRASH_TYPE  INTERSECTION_RELATED_I  NOT_RIGHT_OF_WAY_I  HIT_AND_RUN_I  \\\n",
       "2            1                       0                   0              1   \n",
       "46           1                       0                   0              1   \n",
       "56           0                       0                   0              0   \n",
       "63           1                       0                   0              1   \n",
       "74           1                       1                   0              1   \n",
       "\n",
       "    DAMAGE PRIM_CONTRIBUTORY_CAUSE  NUM_UNITS  CRASH_HOUR  ...  \\\n",
       "2        2             BAD DRIVING          4          14  ...   \n",
       "46       2             BAD DRIVING          2          17  ...   \n",
       "56       2             BAD DRIVING          3          18  ...   \n",
       "63       2             BAD DRIVING          2          11  ...   \n",
       "74       2            BREAKING LAW          2          15  ...   \n",
       "\n",
       "    ROAD_DEFECT_NO DEFECTS  ROAD_DEFECT_OTHER  ROAD_DEFECT_RUT, HOLES  \\\n",
       "2                        1                  0                       0   \n",
       "46                       1                  0                       0   \n",
       "56                       1                  0                       0   \n",
       "63                       1                  0                       0   \n",
       "74                       0                  0                       0   \n",
       "\n",
       "    ROAD_DEFECT_SHOULDER DEFECT  ROAD_DEFECT_UNKNOWN  \\\n",
       "2                             0                    0   \n",
       "46                            0                    0   \n",
       "56                            0                    0   \n",
       "63                            0                    0   \n",
       "74                            0                    1   \n",
       "\n",
       "    ROAD_DEFECT_WORN SURFACE  MOST_SEVERE_INJURY_INCAPACITATING INJURY  \\\n",
       "2                          0                                         0   \n",
       "46                         0                                         0   \n",
       "56                         0                                         0   \n",
       "63                         0                                         0   \n",
       "74                         0                                         0   \n",
       "\n",
       "    MOST_SEVERE_INJURY_NO INDICATION OF INJURY  \\\n",
       "2                                            1   \n",
       "46                                           1   \n",
       "56                                           1   \n",
       "63                                           1   \n",
       "74                                           1   \n",
       "\n",
       "    MOST_SEVERE_INJURY_NONINCAPACITATING INJURY  \\\n",
       "2                                             0   \n",
       "46                                            0   \n",
       "56                                            0   \n",
       "63                                            0   \n",
       "74                                            0   \n",
       "\n",
       "    MOST_SEVERE_INJURY_REPORTED, NOT EVIDENT  \n",
       "2                                          0  \n",
       "46                                         0  \n",
       "56                                         0  \n",
       "63                                         0  \n",
       "74                                         0  \n",
       "\n",
       "[5 rows x 127 columns]"
      ]
     },
     "execution_count": 11,
     "metadata": {},
     "output_type": "execute_result"
    }
   ],
   "source": [
    "import pandas as pd\n",
    "from sklearn.metrics import classification_report, f1_score, precision_score, recall_score, accuracy_score\n",
    "\n",
    "crashes_cleaned = pd.read_csv('../data/crashes_cleaned.csv', index_col = 0)\n",
    "crashes_cleaned.head()"
   ]
  },
  {
   "cell_type": "markdown",
   "metadata": {},
   "source": [
    "### Primary Contributory Causes "
   ]
  },
  {
   "cell_type": "code",
   "execution_count": 12,
   "metadata": {
    "scrolled": true,
    "slideshow": {
     "slide_type": "slide"
    }
   },
   "outputs": [
    {
     "data": {
      "text/plain": [
       "BAD DRIVING                   0.622616\n",
       "BREAKING LAW                  0.257843\n",
       "OUTSIDE FACTORS               0.063773\n",
       "DRINKING/DRUGS                0.033166\n",
       "DISTRACTION INSIDE VEHICLE    0.016300\n",
       "OTHER                         0.006302\n",
       "Name: PRIM_CONTRIBUTORY_CAUSE, dtype: float64"
      ]
     },
     "execution_count": 12,
     "metadata": {},
     "output_type": "execute_result"
    }
   ],
   "source": [
    "crashes_cleaned['PRIM_CONTRIBUTORY_CAUSE'].value_counts(normalize=True)"
   ]
  },
  {
   "cell_type": "markdown",
   "metadata": {},
   "source": [
    "### Label Encoding Target Variable"
   ]
  },
  {
   "cell_type": "code",
   "execution_count": 13,
   "metadata": {},
   "outputs": [
    {
     "data": {
      "text/html": [
       "<div>\n",
       "<style scoped>\n",
       "    .dataframe tbody tr th:only-of-type {\n",
       "        vertical-align: middle;\n",
       "    }\n",
       "\n",
       "    .dataframe tbody tr th {\n",
       "        vertical-align: top;\n",
       "    }\n",
       "\n",
       "    .dataframe thead th {\n",
       "        text-align: right;\n",
       "    }\n",
       "</style>\n",
       "<table border=\"1\" class=\"dataframe\">\n",
       "  <thead>\n",
       "    <tr style=\"text-align: right;\">\n",
       "      <th></th>\n",
       "      <th>CRASH_RECORD_ID</th>\n",
       "      <th>POSTED_SPEED_LIMIT</th>\n",
       "      <th>CRASH_TYPE</th>\n",
       "      <th>INTERSECTION_RELATED_I</th>\n",
       "      <th>NOT_RIGHT_OF_WAY_I</th>\n",
       "      <th>HIT_AND_RUN_I</th>\n",
       "      <th>DAMAGE</th>\n",
       "      <th>PRIM_CONTRIBUTORY_CAUSE</th>\n",
       "      <th>NUM_UNITS</th>\n",
       "      <th>CRASH_HOUR</th>\n",
       "      <th>...</th>\n",
       "      <th>ROAD_DEFECT_NO DEFECTS</th>\n",
       "      <th>ROAD_DEFECT_OTHER</th>\n",
       "      <th>ROAD_DEFECT_RUT, HOLES</th>\n",
       "      <th>ROAD_DEFECT_SHOULDER DEFECT</th>\n",
       "      <th>ROAD_DEFECT_UNKNOWN</th>\n",
       "      <th>ROAD_DEFECT_WORN SURFACE</th>\n",
       "      <th>MOST_SEVERE_INJURY_INCAPACITATING INJURY</th>\n",
       "      <th>MOST_SEVERE_INJURY_NO INDICATION OF INJURY</th>\n",
       "      <th>MOST_SEVERE_INJURY_NONINCAPACITATING INJURY</th>\n",
       "      <th>MOST_SEVERE_INJURY_REPORTED, NOT EVIDENT</th>\n",
       "    </tr>\n",
       "  </thead>\n",
       "  <tbody>\n",
       "    <tr>\n",
       "      <th>2</th>\n",
       "      <td>5f54a59fcb087b12ae5b1acff96a3caf4f2d37e79f8db4...</td>\n",
       "      <td>30</td>\n",
       "      <td>1</td>\n",
       "      <td>0</td>\n",
       "      <td>0</td>\n",
       "      <td>1</td>\n",
       "      <td>2</td>\n",
       "      <td>0</td>\n",
       "      <td>4</td>\n",
       "      <td>14</td>\n",
       "      <td>...</td>\n",
       "      <td>1</td>\n",
       "      <td>0</td>\n",
       "      <td>0</td>\n",
       "      <td>0</td>\n",
       "      <td>0</td>\n",
       "      <td>0</td>\n",
       "      <td>0</td>\n",
       "      <td>1</td>\n",
       "      <td>0</td>\n",
       "      <td>0</td>\n",
       "    </tr>\n",
       "    <tr>\n",
       "      <th>46</th>\n",
       "      <td>c107aea0fb8320ca5e7676759af9399cffe67f3ac8e429...</td>\n",
       "      <td>30</td>\n",
       "      <td>1</td>\n",
       "      <td>0</td>\n",
       "      <td>0</td>\n",
       "      <td>1</td>\n",
       "      <td>2</td>\n",
       "      <td>0</td>\n",
       "      <td>2</td>\n",
       "      <td>17</td>\n",
       "      <td>...</td>\n",
       "      <td>1</td>\n",
       "      <td>0</td>\n",
       "      <td>0</td>\n",
       "      <td>0</td>\n",
       "      <td>0</td>\n",
       "      <td>0</td>\n",
       "      <td>0</td>\n",
       "      <td>1</td>\n",
       "      <td>0</td>\n",
       "      <td>0</td>\n",
       "    </tr>\n",
       "    <tr>\n",
       "      <th>56</th>\n",
       "      <td>db61137bc4bb19b84665da12c4c367592e874c623f76a1...</td>\n",
       "      <td>30</td>\n",
       "      <td>0</td>\n",
       "      <td>0</td>\n",
       "      <td>0</td>\n",
       "      <td>0</td>\n",
       "      <td>2</td>\n",
       "      <td>0</td>\n",
       "      <td>3</td>\n",
       "      <td>18</td>\n",
       "      <td>...</td>\n",
       "      <td>1</td>\n",
       "      <td>0</td>\n",
       "      <td>0</td>\n",
       "      <td>0</td>\n",
       "      <td>0</td>\n",
       "      <td>0</td>\n",
       "      <td>0</td>\n",
       "      <td>1</td>\n",
       "      <td>0</td>\n",
       "      <td>0</td>\n",
       "    </tr>\n",
       "    <tr>\n",
       "      <th>63</th>\n",
       "      <td>8640aa03a86f10df7a8c1dafc03d1551c4a4c0262397f3...</td>\n",
       "      <td>30</td>\n",
       "      <td>1</td>\n",
       "      <td>0</td>\n",
       "      <td>0</td>\n",
       "      <td>1</td>\n",
       "      <td>2</td>\n",
       "      <td>0</td>\n",
       "      <td>2</td>\n",
       "      <td>11</td>\n",
       "      <td>...</td>\n",
       "      <td>1</td>\n",
       "      <td>0</td>\n",
       "      <td>0</td>\n",
       "      <td>0</td>\n",
       "      <td>0</td>\n",
       "      <td>0</td>\n",
       "      <td>0</td>\n",
       "      <td>1</td>\n",
       "      <td>0</td>\n",
       "      <td>0</td>\n",
       "    </tr>\n",
       "    <tr>\n",
       "      <th>74</th>\n",
       "      <td>f1779af8b006d956f29723ac415bd54b61ef9acf84e38e...</td>\n",
       "      <td>30</td>\n",
       "      <td>1</td>\n",
       "      <td>1</td>\n",
       "      <td>0</td>\n",
       "      <td>1</td>\n",
       "      <td>2</td>\n",
       "      <td>1</td>\n",
       "      <td>2</td>\n",
       "      <td>15</td>\n",
       "      <td>...</td>\n",
       "      <td>0</td>\n",
       "      <td>0</td>\n",
       "      <td>0</td>\n",
       "      <td>0</td>\n",
       "      <td>1</td>\n",
       "      <td>0</td>\n",
       "      <td>0</td>\n",
       "      <td>1</td>\n",
       "      <td>0</td>\n",
       "      <td>0</td>\n",
       "    </tr>\n",
       "    <tr>\n",
       "      <th>...</th>\n",
       "      <td>...</td>\n",
       "      <td>...</td>\n",
       "      <td>...</td>\n",
       "      <td>...</td>\n",
       "      <td>...</td>\n",
       "      <td>...</td>\n",
       "      <td>...</td>\n",
       "      <td>...</td>\n",
       "      <td>...</td>\n",
       "      <td>...</td>\n",
       "      <td>...</td>\n",
       "      <td>...</td>\n",
       "      <td>...</td>\n",
       "      <td>...</td>\n",
       "      <td>...</td>\n",
       "      <td>...</td>\n",
       "      <td>...</td>\n",
       "      <td>...</td>\n",
       "      <td>...</td>\n",
       "      <td>...</td>\n",
       "      <td>...</td>\n",
       "    </tr>\n",
       "    <tr>\n",
       "      <th>798899</th>\n",
       "      <td>ffffc0eaf9bc22a04bf318b62e0e1c5ec59a4f3c0c3493...</td>\n",
       "      <td>30</td>\n",
       "      <td>1</td>\n",
       "      <td>0</td>\n",
       "      <td>0</td>\n",
       "      <td>1</td>\n",
       "      <td>0</td>\n",
       "      <td>0</td>\n",
       "      <td>2</td>\n",
       "      <td>12</td>\n",
       "      <td>...</td>\n",
       "      <td>1</td>\n",
       "      <td>0</td>\n",
       "      <td>0</td>\n",
       "      <td>0</td>\n",
       "      <td>0</td>\n",
       "      <td>0</td>\n",
       "      <td>0</td>\n",
       "      <td>1</td>\n",
       "      <td>0</td>\n",
       "      <td>0</td>\n",
       "    </tr>\n",
       "    <tr>\n",
       "      <th>798901</th>\n",
       "      <td>ffffc802346fd6f48f99117898fbc558237a3052c327b8...</td>\n",
       "      <td>30</td>\n",
       "      <td>0</td>\n",
       "      <td>0</td>\n",
       "      <td>0</td>\n",
       "      <td>0</td>\n",
       "      <td>2</td>\n",
       "      <td>3</td>\n",
       "      <td>2</td>\n",
       "      <td>7</td>\n",
       "      <td>...</td>\n",
       "      <td>1</td>\n",
       "      <td>0</td>\n",
       "      <td>0</td>\n",
       "      <td>0</td>\n",
       "      <td>0</td>\n",
       "      <td>0</td>\n",
       "      <td>0</td>\n",
       "      <td>0</td>\n",
       "      <td>0</td>\n",
       "      <td>1</td>\n",
       "    </tr>\n",
       "    <tr>\n",
       "      <th>798902</th>\n",
       "      <td>ffffd143cf6dc784876069140869d2d724080089450108...</td>\n",
       "      <td>30</td>\n",
       "      <td>1</td>\n",
       "      <td>0</td>\n",
       "      <td>0</td>\n",
       "      <td>1</td>\n",
       "      <td>2</td>\n",
       "      <td>0</td>\n",
       "      <td>2</td>\n",
       "      <td>19</td>\n",
       "      <td>...</td>\n",
       "      <td>0</td>\n",
       "      <td>0</td>\n",
       "      <td>0</td>\n",
       "      <td>0</td>\n",
       "      <td>1</td>\n",
       "      <td>0</td>\n",
       "      <td>0</td>\n",
       "      <td>1</td>\n",
       "      <td>0</td>\n",
       "      <td>0</td>\n",
       "    </tr>\n",
       "    <tr>\n",
       "      <th>798904</th>\n",
       "      <td>ffffe577251dc1cc67f2f823b595e5028427a210e2a40e...</td>\n",
       "      <td>30</td>\n",
       "      <td>1</td>\n",
       "      <td>0</td>\n",
       "      <td>0</td>\n",
       "      <td>1</td>\n",
       "      <td>1</td>\n",
       "      <td>1</td>\n",
       "      <td>2</td>\n",
       "      <td>8</td>\n",
       "      <td>...</td>\n",
       "      <td>1</td>\n",
       "      <td>0</td>\n",
       "      <td>0</td>\n",
       "      <td>0</td>\n",
       "      <td>0</td>\n",
       "      <td>0</td>\n",
       "      <td>0</td>\n",
       "      <td>1</td>\n",
       "      <td>0</td>\n",
       "      <td>0</td>\n",
       "    </tr>\n",
       "    <tr>\n",
       "      <th>798905</th>\n",
       "      <td>6aba853bb6210cc5569d6b74e00f62215b7566d1726c3a...</td>\n",
       "      <td>10</td>\n",
       "      <td>1</td>\n",
       "      <td>0</td>\n",
       "      <td>0</td>\n",
       "      <td>1</td>\n",
       "      <td>1</td>\n",
       "      <td>0</td>\n",
       "      <td>2</td>\n",
       "      <td>17</td>\n",
       "      <td>...</td>\n",
       "      <td>0</td>\n",
       "      <td>0</td>\n",
       "      <td>0</td>\n",
       "      <td>0</td>\n",
       "      <td>1</td>\n",
       "      <td>0</td>\n",
       "      <td>0</td>\n",
       "      <td>1</td>\n",
       "      <td>0</td>\n",
       "      <td>0</td>\n",
       "    </tr>\n",
       "  </tbody>\n",
       "</table>\n",
       "<p>442382 rows × 127 columns</p>\n",
       "</div>"
      ],
      "text/plain": [
       "                                          CRASH_RECORD_ID  POSTED_SPEED_LIMIT  \\\n",
       "2       5f54a59fcb087b12ae5b1acff96a3caf4f2d37e79f8db4...                  30   \n",
       "46      c107aea0fb8320ca5e7676759af9399cffe67f3ac8e429...                  30   \n",
       "56      db61137bc4bb19b84665da12c4c367592e874c623f76a1...                  30   \n",
       "63      8640aa03a86f10df7a8c1dafc03d1551c4a4c0262397f3...                  30   \n",
       "74      f1779af8b006d956f29723ac415bd54b61ef9acf84e38e...                  30   \n",
       "...                                                   ...                 ...   \n",
       "798899  ffffc0eaf9bc22a04bf318b62e0e1c5ec59a4f3c0c3493...                  30   \n",
       "798901  ffffc802346fd6f48f99117898fbc558237a3052c327b8...                  30   \n",
       "798902  ffffd143cf6dc784876069140869d2d724080089450108...                  30   \n",
       "798904  ffffe577251dc1cc67f2f823b595e5028427a210e2a40e...                  30   \n",
       "798905  6aba853bb6210cc5569d6b74e00f62215b7566d1726c3a...                  10   \n",
       "\n",
       "        CRASH_TYPE  INTERSECTION_RELATED_I  NOT_RIGHT_OF_WAY_I  HIT_AND_RUN_I  \\\n",
       "2                1                       0                   0              1   \n",
       "46               1                       0                   0              1   \n",
       "56               0                       0                   0              0   \n",
       "63               1                       0                   0              1   \n",
       "74               1                       1                   0              1   \n",
       "...            ...                     ...                 ...            ...   \n",
       "798899           1                       0                   0              1   \n",
       "798901           0                       0                   0              0   \n",
       "798902           1                       0                   0              1   \n",
       "798904           1                       0                   0              1   \n",
       "798905           1                       0                   0              1   \n",
       "\n",
       "        DAMAGE  PRIM_CONTRIBUTORY_CAUSE  NUM_UNITS  CRASH_HOUR  ...  \\\n",
       "2            2                        0          4          14  ...   \n",
       "46           2                        0          2          17  ...   \n",
       "56           2                        0          3          18  ...   \n",
       "63           2                        0          2          11  ...   \n",
       "74           2                        1          2          15  ...   \n",
       "...        ...                      ...        ...         ...  ...   \n",
       "798899       0                        0          2          12  ...   \n",
       "798901       2                        3          2           7  ...   \n",
       "798902       2                        0          2          19  ...   \n",
       "798904       1                        1          2           8  ...   \n",
       "798905       1                        0          2          17  ...   \n",
       "\n",
       "        ROAD_DEFECT_NO DEFECTS  ROAD_DEFECT_OTHER  ROAD_DEFECT_RUT, HOLES  \\\n",
       "2                            1                  0                       0   \n",
       "46                           1                  0                       0   \n",
       "56                           1                  0                       0   \n",
       "63                           1                  0                       0   \n",
       "74                           0                  0                       0   \n",
       "...                        ...                ...                     ...   \n",
       "798899                       1                  0                       0   \n",
       "798901                       1                  0                       0   \n",
       "798902                       0                  0                       0   \n",
       "798904                       1                  0                       0   \n",
       "798905                       0                  0                       0   \n",
       "\n",
       "        ROAD_DEFECT_SHOULDER DEFECT  ROAD_DEFECT_UNKNOWN  \\\n",
       "2                                 0                    0   \n",
       "46                                0                    0   \n",
       "56                                0                    0   \n",
       "63                                0                    0   \n",
       "74                                0                    1   \n",
       "...                             ...                  ...   \n",
       "798899                            0                    0   \n",
       "798901                            0                    0   \n",
       "798902                            0                    1   \n",
       "798904                            0                    0   \n",
       "798905                            0                    1   \n",
       "\n",
       "        ROAD_DEFECT_WORN SURFACE  MOST_SEVERE_INJURY_INCAPACITATING INJURY  \\\n",
       "2                              0                                         0   \n",
       "46                             0                                         0   \n",
       "56                             0                                         0   \n",
       "63                             0                                         0   \n",
       "74                             0                                         0   \n",
       "...                          ...                                       ...   \n",
       "798899                         0                                         0   \n",
       "798901                         0                                         0   \n",
       "798902                         0                                         0   \n",
       "798904                         0                                         0   \n",
       "798905                         0                                         0   \n",
       "\n",
       "        MOST_SEVERE_INJURY_NO INDICATION OF INJURY  \\\n",
       "2                                                1   \n",
       "46                                               1   \n",
       "56                                               1   \n",
       "63                                               1   \n",
       "74                                               1   \n",
       "...                                            ...   \n",
       "798899                                           1   \n",
       "798901                                           0   \n",
       "798902                                           1   \n",
       "798904                                           1   \n",
       "798905                                           1   \n",
       "\n",
       "        MOST_SEVERE_INJURY_NONINCAPACITATING INJURY  \\\n",
       "2                                                 0   \n",
       "46                                                0   \n",
       "56                                                0   \n",
       "63                                                0   \n",
       "74                                                0   \n",
       "...                                             ...   \n",
       "798899                                            0   \n",
       "798901                                            0   \n",
       "798902                                            0   \n",
       "798904                                            0   \n",
       "798905                                            0   \n",
       "\n",
       "        MOST_SEVERE_INJURY_REPORTED, NOT EVIDENT  \n",
       "2                                              0  \n",
       "46                                             0  \n",
       "56                                             0  \n",
       "63                                             0  \n",
       "74                                             0  \n",
       "...                                          ...  \n",
       "798899                                         0  \n",
       "798901                                         1  \n",
       "798902                                         0  \n",
       "798904                                         0  \n",
       "798905                                         0  \n",
       "\n",
       "[442382 rows x 127 columns]"
      ]
     },
     "execution_count": 13,
     "metadata": {},
     "output_type": "execute_result"
    }
   ],
   "source": [
    "# label encoding target variable\n",
    "from sklearn.preprocessing import LabelEncoder\n",
    "\n",
    "label = LabelEncoder()\n",
    "\n",
    "crashes_cleaned['PRIM_CONTRIBUTORY_CAUSE'] = label.fit_transform(crashes_cleaned['PRIM_CONTRIBUTORY_CAUSE'])\n",
    "crashes_cleaned"
   ]
  },
  {
   "cell_type": "markdown",
   "metadata": {},
   "source": [
    "### Perform Train Test Split "
   ]
  },
  {
   "cell_type": "code",
   "execution_count": 14,
   "metadata": {},
   "outputs": [],
   "source": [
    "# create X and y and train test split\n",
    "from sklearn.model_selection import train_test_split\n",
    "\n",
    "X = crashes_cleaned.drop(columns = ['PRIM_CONTRIBUTORY_CAUSE', 'CRASH_RECORD_ID'])\n",
    "y = crashes_cleaned['PRIM_CONTRIBUTORY_CAUSE']\n",
    "\n",
    "X_train, X_test, y_train, y_test = train_test_split(X, y, test_size = 0.30)"
   ]
  },
  {
   "cell_type": "code",
   "execution_count": 15,
   "metadata": {},
   "outputs": [
    {
     "data": {
      "text/plain": [
       "(5, 125)"
      ]
     },
     "execution_count": 15,
     "metadata": {},
     "output_type": "execute_result"
    }
   ],
   "source": [
    "X_train[0:5].shape"
   ]
  },
  {
   "cell_type": "markdown",
   "metadata": {},
   "source": [
    "### Distribution of Target Variable Across Classes"
   ]
  },
  {
   "cell_type": "code",
   "execution_count": 16,
   "metadata": {
    "scrolled": false
   },
   "outputs": [
    {
     "data": {
      "text/plain": [
       "0    0.622782\n",
       "1    0.257874\n",
       "5    0.063843\n",
       "3    0.033149\n",
       "2    0.016104\n",
       "4    0.006249\n",
       "Name: PRIM_CONTRIBUTORY_CAUSE, dtype: float64"
      ]
     },
     "execution_count": 16,
     "metadata": {},
     "output_type": "execute_result"
    }
   ],
   "source": [
    "y_train.value_counts(normalize = True)"
   ]
  },
  {
   "cell_type": "code",
   "execution_count": 7,
   "metadata": {
    "scrolled": true
   },
   "outputs": [],
   "source": [
    "# # import tree and instantiate and fit baseline model\n",
    "# from sklearn.tree import DecisionTreeClassifier\n",
    "\n",
    "# clf = DecisionTreeClassifier()\n",
    "\n",
    "# clf.fit(X_train, y_train)"
   ]
  },
  {
   "cell_type": "markdown",
   "metadata": {},
   "source": [
    "### Perform Cross Validation on Train Set"
   ]
  },
  {
   "cell_type": "code",
   "execution_count": 8,
   "metadata": {},
   "outputs": [
    {
     "name": "stdout",
     "output_type": "stream",
     "text": [
      "{'train': 0.7460422537608794, 'validation': 0.7357580725245328}\n"
     ]
    }
   ],
   "source": [
    "from sklearn.model_selection import KFold\n",
    "from sklearn.tree import DecisionTreeClassifier\n",
    "from sklearn.preprocessing import StandardScaler\n",
    "import numpy as np\n",
    "\n",
    "def cross_validation(X_train, y_train, num_split=10):\n",
    "    score_train_list = []\n",
    "    score_val_list = []\n",
    "\n",
    "    for train_index, valid_index in KFold(n_splits=num_split).split(X_train):\n",
    "        # Train and validation splitting\n",
    "        X_train_fold, X_val_fold = X_train.iloc[train_index], X_train.iloc[valid_index]\n",
    "        y_train_fold, y_val_fold = y_train.iloc[train_index], y_train.iloc[valid_index]\n",
    "\n",
    "        # Create/fit decision tree classifier\n",
    "        clf = DecisionTreeClassifier(max_depth = 15, min_samples_leaf = 39, min_samples_split = 50, random_state =10)\n",
    "        clf.fit(X_train_fold, y_train_fold)\n",
    "\n",
    "        # Evaluate performance\n",
    "        accuracy_train = clf.score(X_train_fold, y_train_fold)\n",
    "        accuracy_val = clf.score(X_val_fold, y_val_fold)\n",
    "        score_val_list.append(accuracy_val)\n",
    "        score_train_list.append(accuracy_train)\n",
    "\n",
    "    return {'train': np.mean(score_train_list), 'validation': np.mean(score_val_list)}\n",
    "\n",
    "result = cross_validation(X_train, y_train, num_split=10)\n",
    "print(result)"
   ]
  },
  {
   "cell_type": "markdown",
   "metadata": {},
   "source": [
    "### Plot Decision Tree"
   ]
  },
  {
   "cell_type": "code",
   "execution_count": null,
   "metadata": {
    "scrolled": true
   },
   "outputs": [],
   "source": [
    "import numpy as np\n",
    "import matplotlib.pyplot as plt\n",
    "from sklearn.tree import plot_tree\n",
    "\n",
    "fig, axes = plt.subplots(nrows = 1,ncols = 1, figsize = (10,10), dpi=300)\n",
    "plot_tree(clf,\n",
    "           max_depth = 3,\n",
    "           feature_names = crashes_cleaned.columns, \n",
    "           class_names=np.unique(y).astype('str'),\n",
    "           filled = True,\n",
    "           ax = axes)\n",
    "plt.show()"
   ]
  },
  {
   "cell_type": "markdown",
   "metadata": {},
   "source": [
    "### Baseline Model Accuracy Score"
   ]
  },
  {
   "cell_type": "code",
   "execution_count": null,
   "metadata": {},
   "outputs": [],
   "source": [
    "from sklearn.metrics import accuracy_score\n",
    "\n",
    "y_preds = clf.predict(X_test)\n",
    "print('Accuracy:', accuracy_score(y_test, y_preds))\n",
    "\n",
    "y_pred_proba = clf.predict_proba(X_test)\n",
    "from sklearn.metrics import roc_auc_score\n",
    "# auc_score = roc_auc_score(y_test, y_pred_proba,  multi_class='ovo')\n",
    "# print('AUC Score:', auc_score)"
   ]
  },
  {
   "cell_type": "markdown",
   "metadata": {},
   "source": [
    "### Criterion='Entropy'"
   ]
  },
  {
   "cell_type": "code",
   "execution_count": null,
   "metadata": {},
   "outputs": [],
   "source": [
    "# build a model and change purity metric to entropy \n",
    "\n",
    "clf_entropy = DecisionTreeClassifier(criterion='entropy')\n",
    "\n",
    "clf_entropy.fit(X_train, y_train)\n",
    "\n",
    "y_preds_entropy = clf_entropy.predict(X_test)\n",
    "\n",
    "print('Accuracy:', accuracy_score(y_test, y_preds_entropy))"
   ]
  },
  {
   "cell_type": "markdown",
   "metadata": {},
   "source": [
    "### Scaler"
   ]
  },
  {
   "cell_type": "code",
   "execution_count": null,
   "metadata": {},
   "outputs": [],
   "source": [
    "from sklearn.preprocessing import StandardScaler\n",
    "# scale the data lets see if it improves the score\n",
    "scaler = StandardScaler()\n",
    "\n",
    "X_train_sc = scaler.fit_transform(X_train)\n",
    "X_test_sc = scaler.transform(X_test)\n",
    "\n",
    "# try out both models on scaled data\n",
    "clf.fit(X_train_sc, y_train)\n",
    "y_preds_sc_gini = clf.predict(X_test_sc)\n",
    "print('Accuracy gini scaled:', accuracy_score(y_test, y_preds_sc_gini))\n",
    "\n",
    "clf_entropy.fit(X_train_sc, y_train)\n",
    "y_preds_sc_entropy = clf_entropy.predict(X_test_sc)\n",
    "print('Accuracy entropy scaled:', accuracy_score(y_test, y_preds_sc_entropy))"
   ]
  },
  {
   "cell_type": "markdown",
   "metadata": {},
   "source": [
    "Scaling the data made miniscule difference i will not be using the scaled data."
   ]
  },
  {
   "cell_type": "markdown",
   "metadata": {},
   "source": [
    "### Balance Weights"
   ]
  },
  {
   "cell_type": "code",
   "execution_count": null,
   "metadata": {},
   "outputs": [],
   "source": [
    "# balance the class weights\n",
    "clf_w = DecisionTreeClassifier(class_weight='balanced')\n",
    "clf_w.fit(X_train, y_train)\n",
    "y_preds_w = clf_w.predict(X_test)\n",
    "print('Accuracy weighted:', accuracy_score(y_test, y_preds_w))"
   ]
  },
  {
   "cell_type": "code",
   "execution_count": null,
   "metadata": {},
   "outputs": [],
   "source": [
    "y_pred_proba = clf.predict_proba(X_test)\n",
    "\n",
    "from sklearn.metrics import roc_auc_score\n",
    "\n",
    "auc_score = roc_auc_score(y_test, y_pred_proba,  multi_class='ovo')\n",
    "print('AUC Score:', auc_score)"
   ]
  },
  {
   "cell_type": "markdown",
   "metadata": {},
   "source": [
    "### Oversampling: SMOTE"
   ]
  },
  {
   "cell_type": "code",
   "execution_count": null,
   "metadata": {
    "scrolled": true
   },
   "outputs": [],
   "source": [
    "from imblearn.over_sampling import SMOTE\n",
    "\n",
    "print('Original class distribution: \\n')\n",
    "print(y.value_counts())\n",
    "\n",
    "smote = SMOTE()\n",
    "X_train_resampled, y_train_resampled = smote.fit_resample(X_train, y_train)\n",
    "\n",
    "print('-----------------------------------------')\n",
    "print('Synthetic sample class distribution: \\n')\n",
    "print(pd.Series(y_train_resampled).value_counts())"
   ]
  },
  {
   "cell_type": "code",
   "execution_count": null,
   "metadata": {},
   "outputs": [],
   "source": [
    "# model with resampled training data using SMOTE\n",
    "clf_resamp = DecisionTreeClassifier()\n",
    "\n",
    "clf_resamp.fit(X_train_resampled, y_train_resampled)\n",
    "\n",
    "y_preds_resamp = clf_resamp.predict(X_test)\n",
    "print('Accuracy weighted:', accuracy_score(y_test, y_preds_resamp))\n",
    "\n",
    "y_pred_proba_resamp = clf_resamp.predict_proba(X_test)\n",
    "auc_score = roc_auc_score(y_test, y_pred_proba_resamp,  multi_class='ovo')\n",
    "print('AUC Score:', auc_score)"
   ]
  },
  {
   "cell_type": "markdown",
   "metadata": {},
   "source": [
    "## Tuning Hyperparameters"
   ]
  },
  {
   "cell_type": "markdown",
   "metadata": {},
   "source": [
    "### Max_depth"
   ]
  },
  {
   "cell_type": "code",
   "execution_count": null,
   "metadata": {
    "scrolled": true
   },
   "outputs": [],
   "source": [
    "# ok this is bad lets do something else \n",
    "# find best depth\n",
    "depth_list = [3, 5, 7, 9, 11, 13, 15, 17, 19, 21]\n",
    "\n",
    "for depth in depth_list:\n",
    "    \n",
    "    clf_hyper = DecisionTreeClassifier(max_depth = depth, min_samples_split = 10)\n",
    "    clf_hyper.fit(X_train, y_train)\n",
    "    y_preds = clf_hyper.predict(X_test)\n",
    "    print('Accuracy depth', depth,':', accuracy_score(y_test, y_preds))\n",
    "    \n",
    "    y_pred_proba = clf.predict_proba(X_test)\n",
    "    auc_score = roc_auc_score(y_test, y_pred_proba,  multi_class='ovo')\n",
    "    print('AUC Score', depth, ':', auc_score)"
   ]
  },
  {
   "cell_type": "markdown",
   "metadata": {},
   "source": [
    "### min_samples_split"
   ]
  },
  {
   "cell_type": "code",
   "execution_count": null,
   "metadata": {},
   "outputs": [],
   "source": [
    "# find best min samples split\n",
    "minsamp_list = [15, 17, 19, 21, 23, 25, 27, 35]\n",
    "\n",
    "for minsamp in minsamp_list:\n",
    "    \n",
    "    clf_hyper = DecisionTreeClassifier(max_depth = 15, min_samples_split = minsamp)\n",
    "    clf_hyper.fit(X_train, y_train)\n",
    "    y_preds = clf_hyper.predict(X_test)\n",
    "    print('Accuracy ', minsamp,':', accuracy_score(y_test, y_preds))\n",
    "    \n",
    "y_pred_proba = clf.predict_proba(X_test)\n",
    "auc_score = roc_auc_score(y_test, y_pred_proba,  multi_class='ovo')\n",
    "print('AUC Score', minsamp, ':', auc_score)"
   ]
  },
  {
   "cell_type": "code",
   "execution_count": null,
   "metadata": {},
   "outputs": [],
   "source": [
    "# iteration for best minimum samples split\n",
    "minsamp_list = [37, 39, 41, 43, 45, 50]\n",
    "\n",
    "for minsamp in minsamp_list:\n",
    "    \n",
    "    clf_hyper = DecisionTreeClassifier(max_depth = 15, min_samples_split = minsamp)\n",
    "    clf_hyper.fit(X_train, y_train)\n",
    "    y_preds = clf_hyper.predict(X_test)\n",
    "    print('Accuracy ', minsamp,':', accuracy_score(y_test, y_preds))\n",
    "    \n",
    "y_pred_proba = clf.predict_proba(X_test)\n",
    "auc_score = roc_auc_score(y_test, y_pred_proba,  multi_class='ovo')\n",
    "print('AUC Test Score:', auc_score)"
   ]
  },
  {
   "cell_type": "markdown",
   "metadata": {},
   "source": [
    "### min_samples_leaf"
   ]
  },
  {
   "cell_type": "code",
   "execution_count": null,
   "metadata": {
    "scrolled": false
   },
   "outputs": [],
   "source": [
    "# iteration for best minimum samples leaf \n",
    "minsamp_list = [37, 39, 41, 43, 45, 50, 100]\n",
    "\n",
    "for minsamp in minsamp_list:\n",
    "    \n",
    "    clf_hyper = DecisionTreeClassifier(max_depth = 15, min_samples_leaf = minsamp, min_samples_split = 50)\n",
    "    clf_hyper.fit(X_train, y_train)\n",
    "    y_preds = clf_hyper.predict(X_test)\n",
    "    print('Accuracy ', minsamp,':', accuracy_score(y_test, y_preds))\n",
    "    \n",
    "y_pred_proba = clf.predict_proba(X_test)\n",
    "auc_score = roc_auc_score(y_test, y_pred_proba,  multi_class='ovo')"
   ]
  },
  {
   "cell_type": "markdown",
   "metadata": {},
   "source": [
    "### Combination of Best Hyperparameters"
   ]
  },
  {
   "cell_type": "code",
   "execution_count": null,
   "metadata": {},
   "outputs": [],
   "source": [
    "# best model \n",
    "clf_hyper = DecisionTreeClassifier(max_depth = 15, min_samples_leaf = 39, min_samples_split = 50)\n",
    "clf_hyper.fit(X_train, y_train)\n",
    "y_preds = clf_hyper.predict(X_test)\n",
    "print('Accuracy:', accuracy_score(y_test, y_preds))"
   ]
  },
  {
   "cell_type": "markdown",
   "metadata": {},
   "source": [
    "### Final Model Scores:"
   ]
  },
  {
   "cell_type": "code",
   "execution_count": null,
   "metadata": {},
   "outputs": [],
   "source": [
    "from sklearn.metrics import classification_report, f1_score, precision_score, recall_score\n",
    "\n",
    "print('Accuracy:', accuracy_score(y_test, y_preds))\n",
    "print('Precision:', precision_score(y_test, y_preds, average=None))\n",
    "print('Recall:', recall_score(y_test, y_preds, average=None))\n",
    "print('f1 score:', f1_score(y_test, y_preds, average=None))"
   ]
  },
  {
   "cell_type": "code",
   "execution_count": null,
   "metadata": {},
   "outputs": [],
   "source": [
    "print(classification_report(y_test, y_pred))"
   ]
  },
  {
   "cell_type": "code",
   "execution_count": null,
   "metadata": {
    "scrolled": true
   },
   "outputs": [],
   "source": [
    "print('Accuracy:', accuracy_score(y_test, y_preds))\n",
    "print('Precision:', precision_score(y_test, y_preds, average='weighted'))\n",
    "print('Recall:', recall_score(y_test, y_preds, average='weighted'))\n",
    "print('f1 score:', f1_score(y_test, y_preds, average='weighted'))"
   ]
  },
  {
   "cell_type": "markdown",
   "metadata": {},
   "source": [
    "### Resampled and Final Model Hyperparameters Scores:"
   ]
  },
  {
   "cell_type": "code",
   "execution_count": null,
   "metadata": {
    "scrolled": true
   },
   "outputs": [],
   "source": [
    "clf_resamp = DecisionTreeClassifier(max_depth = 15, min_samples_leaf = 39, min_samples_split = 50)\n",
    "\n",
    "clf_resamp.fit(X_train_resampled, y_train_resampled)\n",
    "\n",
    "y_preds_resamp = clf_resamp.predict(X_test)\n",
    "\n",
    "print('Accuracy weighted:', accuracy_score(y_test, y_preds_resamp))\n",
    "print('Precision:', precision_score(y_test, y_preds_resamp, average='weighted'))\n",
    "print('Recall:', recall_score(y_test, y_preds_resamp, average='weighted'))\n",
    "print('f1 score:', f1_score(y_test, y_preds_resamp, average='weighted'))"
   ]
  },
  {
   "cell_type": "code",
   "execution_count": null,
   "metadata": {
    "scrolled": false
   },
   "outputs": [],
   "source": [
    "print(classification_report(y_test, y_preds_resamp))"
   ]
  },
  {
   "cell_type": "markdown",
   "metadata": {},
   "source": [
    "### Bagging Classifier"
   ]
  },
  {
   "cell_type": "code",
   "execution_count": null,
   "metadata": {},
   "outputs": [],
   "source": [
    "from sklearn.ensemble import BaggingClassifier\n",
    "bagging = BaggingClassifier(base_estimator=DecisionTreeClassifier(),n_estimators=10, max_samples=0.5, max_features=0.5)\n",
    "bagging.fit(X_train, y_train)\n",
    "bagging.score(X_test,y_test)\n",
    "\n",
    "y_pred = bagging.predict(X_test)\n",
    "\n",
    "print('Accuracy weighted:', accuracy_score(y_test, y_pred))\n",
    "print('Precision:', precision_score(y_test, y_pred, average=None))\n",
    "print('Recall:', recall_score(y_test, y_pred, average=None))\n",
    "print('f1 score:', f1_score(y_test, y_pred, average=None))"
   ]
  },
  {
   "cell_type": "code",
   "execution_count": null,
   "metadata": {},
   "outputs": [],
   "source": [
    "bagging = BaggingClassifier(base_estimator=DecisionTreeClassifier(max_depth = 15, min_samples_leaf = 39, min_samples_split = 50, random_state= 15),\n",
    "                            n_estimators=20, max_samples=0.5, max_features=0.5)\n",
    "bagging.fit(X_train, y_train)\n",
    "bagging.score(X_test,y_test)\n",
    "\n",
    "y_pred = bagging.predict(X_test)\n",
    "\n",
    "print('Accuracy:', accuracy_score(y_test, y_pred))\n",
    "print('Precision:', precision_score(y_test, y_pred, average=None,zero_division=0))\n",
    "print('Precision weighted:', precision_score(y_test, y_pred, average='weighted',zero_division=0))\n",
    "print('Recall:', recall_score(y_test, y_pred, average=None, zero_division=0))\n",
    "print('Recall weighted:', recall_score(y_test, y_pred, average='weighted', zero_division=0))\n",
    "print('f1 score:', f1_score(y_test, y_pred, average=None,zero_division=0))\n",
    "print('f1 score weighted:', f1_score(y_test, y_pred, average='weighted', zero_division=0))"
   ]
  },
  {
   "cell_type": "code",
   "execution_count": null,
   "metadata": {},
   "outputs": [],
   "source": [
    "bag_list = [20, 30, 40, 50]\n",
    "\n",
    "for bag in bag_list:\n",
    "    bagging = BaggingClassifier(base_estimator=DecisionTreeClassifier(max_depth = 15, min_samples_leaf = 39, min_samples_split = 50, random_state= 15),\n",
    "                            n_estimators=bag, max_samples=0.5, max_features=0.5)\n",
    "    bagging.fit(X_train, y_train)\n",
    "    bagging.score(X_test,y_test)\n",
    "\n",
    "    y_pred = bagging.predict(X_test)\n",
    "\n",
    "    print('Accuracy:', accuracy_score(y_test, y_pred))\n",
    "    print('Precision:', precision_score(y_test, y_pred, average=None,zero_division=0))\n",
    "    print('Precision weighted:', precision_score(y_test, y_pred, average='weighted',zero_division=0))\n",
    "    print('Recall:', recall_score(y_test, y_pred, average=None, zero_division=0))\n",
    "    print('Recall weighted:', recall_score(y_test, y_pred, average='weighted', zero_division=0))\n",
    "    print('f1 score:', f1_score(y_test, y_pred, average=None,zero_division=0))\n",
    "    print('f1 score weighted:', f1_score(y_test, y_pred, average='weighted', zero_division=0))"
   ]
  },
  {
   "cell_type": "code",
   "execution_count": null,
   "metadata": {},
   "outputs": [],
   "source": [
    "bagging = BaggingClassifier(base_estimator=DecisionTreeClassifier(),n_estimators=10, max_samples=0.5, max_features=0.5)\n",
    "bagging.fit(X_train_resampled, y_train_resampled)\n",
    "bagging.score(X_test,y_test)\n",
    "\n",
    "y_pred = bagging.predict(X_test)\n",
    "\n",
    "print('Accuracy weighted:', accuracy_score(y_test, y_pred))\n",
    "print('Precision:', precision_score(y_test, y_pred, average=None))\n",
    "print('Recall:', recall_score(y_test, y_pred, average=None))\n",
    "print('f1 score:', f1_score(y_test, y_pred, average=None))"
   ]
  },
  {
   "cell_type": "markdown",
   "metadata": {},
   "source": [
    "### Random Forests"
   ]
  },
  {
   "cell_type": "code",
   "execution_count": null,
   "metadata": {
    "scrolled": false
   },
   "outputs": [],
   "source": [
    "from sklearn.ensemble import RandomForestClassifier\n",
    "forest_list = [20, 30, 40, 50]\n",
    "\n",
    "for forest_not_tree in forest_list:\n",
    "\n",
    "    clf = RandomForestClassifier(n_estimators=forest_not_tree, max_depth=None,  min_samples_split=2, random_state=0)\n",
    "    clf.fit(X_train, y_train)\n",
    "    clf.score(X_test,y_test)\n",
    "    y_pred = clf.predict(X_test)\n",
    "    \n",
    "    print('-----------------------------------------')\n",
    "    print('n_estimators', forest_not_tree)\n",
    "    print('Accuracy:', accuracy_score(y_test, y_pred))\n",
    "    print('Precision:', precision_score(y_test, y_pred, average=None,zero_division=0))\n",
    "    print('Precision weighted:', precision_score(y_test, y_pred, average='weighted',zero_division=0))\n",
    "    print('Recall:', recall_score(y_test, y_pred, average=None, zero_division=0))\n",
    "    print('Recall weighted:', recall_score(y_test, y_pred, average='weighted', zero_division=0))\n",
    "    print('f1 score:', f1_score(y_test, y_pred, average=None,zero_division=0))\n",
    "    print('f1 score weighted:', f1_score(y_test, y_pred, average='weighted', zero_division=0))"
   ]
  },
  {
   "cell_type": "code",
   "execution_count": null,
   "metadata": {
    "scrolled": false
   },
   "outputs": [],
   "source": [
    "forest_list = [60,70,80]\n",
    "\n",
    "for forest_not_tree in forest_list:\n",
    "\n",
    "    clf = RandomForestClassifier(n_estimators=forest_not_tree, max_depth=None,  min_samples_split=2, random_state=0)\n",
    "    clf.fit(X_train, y_train)\n",
    "    clf.score(X_test,y_test)\n",
    "    y_pred = clf.predict(X_test)\n",
    "    \n",
    "    print('-----------------------------------------')\n",
    "    print('n_estimators', forest_not_tree)\n",
    "    print('Accuracy:', accuracy_score(y_test, y_pred))\n",
    "    print('Precision:', precision_score(y_test, y_pred, average=None,zero_division=0))\n",
    "    print('Precision weighted:', precision_score(y_test, y_pred, average='weighted',zero_division=0))\n",
    "    print('Recall:', recall_score(y_test, y_pred, average=None, zero_division=0))\n",
    "    print('Recall weighted:', recall_score(y_test, y_pred, average='weighted', zero_division=0))\n",
    "    print('f1 score:', f1_score(y_test, y_pred, average=None,zero_division=0))\n",
    "    print('f1 score weighted:', f1_score(y_test, y_pred, average='weighted', zero_division=0))"
   ]
  },
  {
   "cell_type": "code",
   "execution_count": null,
   "metadata": {
    "scrolled": false
   },
   "outputs": [],
   "source": [
    "forest_list = [90, 100, 110, 120]\n",
    "\n",
    "for forest_not_tree in forest_list:\n",
    "\n",
    "    clf = RandomForestClassifier(n_estimators=forest_not_tree, max_depth=None,  min_samples_split=2, random_state=0)\n",
    "    clf.fit(X_train, y_train)\n",
    "    clf.score(X_test,y_test)\n",
    "    y_pred = clf.predict(X_test)\n",
    "    \n",
    "    print('-----------------------------------------')\n",
    "    print('n_estimators', forest_not_tree)\n",
    "    print('Accuracy:', accuracy_score(y_test, y_pred))\n",
    "    print('Precision:', precision_score(y_test, y_pred, average=None,zero_division=0))\n",
    "    print('Precision weighted:', precision_score(y_test, y_pred, average='weighted',zero_division=0))\n",
    "    print('Recall:', recall_score(y_test, y_pred, average=None, zero_division=0))\n",
    "    print('Recall weighted:', recall_score(y_test, y_pred, average='weighted', zero_division=0))\n",
    "    print('f1 score:', f1_score(y_test, y_pred, average=None,zero_division=0))\n",
    "    print('f1 score weighted:', f1_score(y_test, y_pred, average='weighted', zero_division=0))"
   ]
  },
  {
   "cell_type": "markdown",
   "metadata": {},
   "source": [
    "### Best number of estimators model"
   ]
  },
  {
   "cell_type": "code",
   "execution_count": 17,
   "metadata": {},
   "outputs": [
    {
     "name": "stdout",
     "output_type": "stream",
     "text": [
      "-----------------------------------------\n",
      "n_estimators\n",
      "Accuracy: 0.7416870738047696\n",
      "Precision: [0.7623517  0.68872138 0.44827586 0.60266667 0.84126984 0.66438579]\n",
      "Precision weighted: 0.7270818320540627\n",
      "Recall: [0.8940893  0.64902075 0.01169065 0.05128205 0.12426729 0.24153044]\n",
      "Recall weighted: 0.7416870738047696\n",
      "f1 score: [0.82298192 0.66828196 0.02278703 0.09452112 0.2165475  0.35426983]\n",
      "f1 score weighted: 0.7117932702284568\n"
     ]
    }
   ],
   "source": [
    "from sklearn.ensemble import RandomForestClassifier\n",
    "clf_final = RandomForestClassifier(n_estimators=120, max_depth=None,  min_samples_split=2, random_state=0)\n",
    "clf_final.fit(X_train, y_train)\n",
    "clf_final.score(X_test,y_test)\n",
    "y_pred = clf_final.predict(X_test)\n",
    "\n",
    "print('-----------------------------------------')\n",
    "print('n_estimators')\n",
    "print('Accuracy:', accuracy_score(y_test, y_pred))\n",
    "print('Precision:', precision_score(y_test, y_pred, average=None,zero_division=0))\n",
    "print('Precision weighted:', precision_score(y_test, y_pred, average='weighted',zero_division=0))\n",
    "print('Recall:', recall_score(y_test, y_pred, average=None, zero_division=0))\n",
    "print('Recall weighted:', recall_score(y_test, y_pred, average='weighted', zero_division=0))\n",
    "print('f1 score:', f1_score(y_test, y_pred, average=None,zero_division=0))\n",
    "print('f1 score weighted:', f1_score(y_test, y_pred, average='weighted', zero_division=0))"
   ]
  },
  {
   "cell_type": "markdown",
   "metadata": {},
   "source": [
    "### Confusion Matrix"
   ]
  },
  {
   "cell_type": "code",
   "execution_count": 19,
   "metadata": {},
   "outputs": [],
   "source": [
    "# confusion matrix\n",
    "from sklearn.metrics import ConfusionMatrixDisplay"
   ]
  },
  {
   "cell_type": "code",
   "execution_count": 27,
   "metadata": {},
   "outputs": [
    {
     "data": {
      "image/png": "[encoded data removed]",
      "text/plain": [
       "<Figure size 432x288 with 2 Axes>"
      ]
     },
     "metadata": {
      "needs_background": "light"
     },
     "output_type": "display_data"
    }
   ],
   "source": [
    "cm_ = confusion_matrix(y_test, y_pred)\n",
    "cm_display = ConfusionMatrixDisplay(cm_)\n",
    "cm_display.plot()\n",
    "plt.title('Confusion Matrix')\n",
    "# plt.savefig('../images/cm_randomforest.png', facecolor='w', transparent=False)\n",
    "plt.show()"
   ]
  },
  {
   "cell_type": "code",
   "execution_count": 45,
   "metadata": {},
   "outputs": [
    {
     "data": {
      "image/png": "[encoded data removed]",
      "text/plain": [
       "<Figure size 1008x864 with 2 Axes>"
      ]
     },
     "metadata": {
      "needs_background": "light"
     },
     "output_type": "display_data"
    }
   ],
   "source": [
    "import seaborn as sns\n",
    "from sklearn.metrics import confusion_matrix\n",
    "import matplotlib.pyplot as plt\n",
    "\n",
    "class_names = ['Bad Driving', 'Breaking Law', 'Outside Factors', 'Drinking/Drugs', 'Distract. In. Vehicle', 'Other']\n",
    "\n",
    "cm_ = confusion_matrix(y_test, y_pred)\n",
    "plt.figure(figsize=(14, 12))\n",
    "sns.heatmap(cm_, annot=True, cmap='Blues', fmt='d')\n",
    "\n",
    "tick_marks = np.arange(len(class_names))\n",
    "plt.xticks(tick_marks, class_names, rotation=45)\n",
    "plt.yticks(tick_marks, class_names, rotation=0)\n",
    "\n",
    "plt.title('Confusion Matrix')\n",
    "plt.xlabel('Predicted')\n",
    "plt.ylabel('Actual')\n",
    "plt.savefig('../images/cm_randomforest.png', facecolor='w', transparent=False)\n",
    "plt.show()"
   ]
  },
  {
   "cell_type": "markdown",
   "metadata": {},
   "source": [
    "- Class 0 (Bad Driving) and Class 1 (Breaking Laws) have most true positive predictions, although they do often get confused with one another. \n",
    "- With Class 2 (Ouutside Factors) and Class 4 (Distraction inside vehicle) on the other hand, the classifer only got confused between them once. "
   ]
  },
  {
   "cell_type": "markdown",
   "metadata": {},
   "source": [
    "### Roc Curve and AUC"
   ]
  },
  {
   "cell_type": "code",
   "execution_count": 46,
   "metadata": {
    "scrolled": false
   },
   "outputs": [
    {
     "data": {
      "image/png": "[encoded data removed]",
      "text/plain": [
       "<Figure size 432x288 with 1 Axes>"
      ]
     },
     "metadata": {
      "needs_background": "light"
     },
     "output_type": "display_data"
    }
   ],
   "source": [
    "# roc curve and auc score\n",
    "from sklearn.metrics import roc_curve, auc\n",
    "import matplotlib.pyplot as plt\n",
    "from sklearn.preprocessing import label_binarize\n",
    "\n",
    "y_scores = clf_final.predict_proba(X_test)\n",
    "n_classes = len(clf_final.classes_)\n",
    "\n",
    "# Binarize the labels\n",
    "y_test_bin = label_binarize(y_test, classes=clf_final.classes_)\n",
    "\n",
    "# Calculate the false positive rate, true positive rate, and AUC for each class\n",
    "fpr = dict()\n",
    "tpr = dict()\n",
    "roc_auc = dict()\n",
    "for i in range(n_classes):\n",
    "    fpr[i], tpr[i], _ = roc_curve(y_test_bin[:, i], y_scores[:, i])\n",
    "    roc_auc[i] = auc(fpr[i], tpr[i])\n",
    "\n",
    "# Class names \n",
    "class_names = ['Bad Driving', 'Breaking Law', 'Outside Factors', 'Drinking/Drugs', 'Distraction Inside Vehicle', 'Other']\n",
    "\n",
    "# Plot the ROC curves\n",
    "plt.figure()\n",
    "colors = ['b', 'g', 'r', 'c', 'm', 'orange']  # List of colors for each class\n",
    "linestyles = ['-.', '-', ':', '--', '-', ':']  # List of line styles for each class\n",
    "\n",
    "for class_name, i in zip(class_names, range(n_classes)):\n",
    "    color = colors[i % len(colors)]  # Cycle through the colors for each class\n",
    "    linestyle = linestyles[i % len(linestyles)]  # Cycle through the line styles for each class\n",
    "    plt.plot(fpr[i], tpr[i], color=color, linestyle=linestyle, label=f'{class_name} (AUC = {roc_auc[i]:.2f})')\n",
    "\n",
    "plt.plot([0, 1], [0, 1], 'r--')\n",
    "plt.xlim([0, 1])\n",
    "plt.ylim([0, 1.05])\n",
    "plt.xlabel('False Positive Rate')\n",
    "plt.ylabel('True Positive Rate')\n",
    "plt.title('Receiver Operating Characteristic')\n",
    "plt.legend(loc=\"lower right\")\n",
    "plt.savefig('../images/roc_randomforest.png', facecolor='w', transparent=False)\n",
    "plt.show()\n"
   ]
  },
  {
   "cell_type": "markdown",
   "metadata": {},
   "source": [
    "- The higher the AUC (Area Under the Curve), the better the model performance. In this case it separates the performance by each class and we see that Class 1 (Breaking Laws) is predicted with the highest accuracy. "
   ]
  },
  {
   "cell_type": "markdown",
   "metadata": {},
   "source": [
    "### Evaluation\n",
    "\n",
    "- The classifier that performed the best was the Random Forest Classifier, with 120 estimators it reached 74% accuracy."
   ]
  },
  {
   "cell_type": "code",
   "execution_count": 47,
   "metadata": {
    "scrolled": false
   },
   "outputs": [
    {
     "data": {
      "image/png": "[encoded data removed]",
      "text/plain": [
       "<Figure size 1080x720 with 6 Axes>"
      ]
     },
     "metadata": {
      "needs_background": "light"
     },
     "output_type": "display_data"
    }
   ],
   "source": [
    "import seaborn as sns\n",
    "import matplotlib.pyplot as plt\n",
    "\n",
    "# Define class names\n",
    "class_names = ['Bad Driving', 'Breaking Law', 'Outside Factors', 'Drinking/Drugs', 'Distraction Inside Vehicle', 'Other']\n",
    "\n",
    "# Print the feature importances\n",
    "feature_importances = clf_final.feature_importances_\n",
    "\n",
    "# Sort the feature importances from greatest to least using the sorted indices\n",
    "sorted_indices = feature_importances.argsort()[::-1]\n",
    "sorted_feature_names = X_train.columns[sorted_indices]\n",
    "sorted_importances = feature_importances[sorted_indices]\n",
    "\n",
    "# Create a figure with three columns and two rows\n",
    "fig, axes = plt.subplots(2, 3, figsize=(15, 10))\n",
    "fig.suptitle(\"Top 2 Feature Importances for Each Class\")\n",
    "\n",
    "# Iterate over each class\n",
    "for class_label, ax in zip(range(6), axes.flatten()):\n",
    "    # Filter the sorted feature importances and names for the current class\n",
    "    class_sorted_importances = sorted_importances[class_label*2 : (class_label+1)*2]\n",
    "    class_sorted_feature_names = sorted_feature_names[class_label*2 : (class_label+1)*2]\n",
    "\n",
    "    if class_label == 0:\n",
    "        # For class 0, select the 3rd and 4th feature instead\n",
    "        class_sorted_importances = sorted_importances[class_label*2 + 2 : (class_label+1)*2 + 2]\n",
    "        class_sorted_feature_names = sorted_feature_names[class_label*2 + 2 : (class_label+1)*2 + 2]\n",
    "\n",
    "    # Create the bar plot for the current class\n",
    "    sns.barplot(x=class_sorted_feature_names, y=class_sorted_importances, ax=ax )\n",
    "    ax.set_title(class_names[class_label])  # Set the title using class_names\n",
    "#     ax.set_xlabel(\"Feature Name\")\n",
    "    ax.set_ylabel(\"Feature Importance\")\n",
    "\n",
    "    # Rotate x-axis labels for better readability\n",
    "    ax.tick_params(axis='x', rotation=45)\n",
    "\n",
    "# Adjust the spacing between subplots\n",
    "plt.tight_layout()\n",
    "plt.savefig('../images/feature_importance.png', facecolor='w', transparent=False)\n",
    "plt.show()"
   ]
  }
 ],
 "metadata": {
  "kernelspec": {
   "display_name": "Python (learn-env)",
   "language": "python",
   "name": "learn-env"
  },
  "language_info": {
   "codemirror_mode": {
    "name": "ipython",
    "version": 3
   },
   "file_extension": ".py",
   "mimetype": "text/x-python",
   "name": "python",
   "nbconvert_exporter": "python",
   "pygments_lexer": "ipython3",
   "version": "3.8.5"
  }
 },
 "nbformat": 4,
 "nbformat_minor": 4
}
