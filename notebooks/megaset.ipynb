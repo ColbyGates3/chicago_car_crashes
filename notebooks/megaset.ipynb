{
 "cells": [
  {
   "cell_type": "code",
   "execution_count": 26,
   "id": "5d932bd3",
   "metadata": {},
   "outputs": [],
   "source": [
    "import pandas as pd\n",
    "import os"
   ]
  },
  {
   "cell_type": "code",
   "execution_count": 27,
   "id": "51044a45",
   "metadata": {},
   "outputs": [
    {
     "data": {
      "text/plain": [
       "'/Users/colbygates/Desktop/Flatiron/Phase_3/Project/chicago_car_crashes/notebooks'"
      ]
     },
     "execution_count": 27,
     "metadata": {},
     "output_type": "execute_result"
    }
   ],
   "source": [
    "os.getcwd()"
   ]
  },
  {
   "cell_type": "code",
   "execution_count": 28,
   "id": "9c00593f",
   "metadata": {},
   "outputs": [
    {
     "data": {
      "text/plain": [
       "['crashes_vehicles.csv',\n",
       " 'crashes_crashes.csv',\n",
       " '.DS_Store',\n",
       " 'crashes_people.csv',\n",
       " 'people_cleaned.csv',\n",
       " 'vehicles_cleaned.csv',\n",
       " 'crashes_cleaned.csv']"
      ]
     },
     "execution_count": 28,
     "metadata": {},
     "output_type": "execute_result"
    }
   ],
   "source": [
    "os.listdir('../data')"
   ]
  },
  {
   "cell_type": "code",
   "execution_count": 29,
   "id": "678b2888",
   "metadata": {},
   "outputs": [],
   "source": [
    "vehicles_cleaned = pd.read_csv('../data/vehicles_cleaned.csv')\n",
    "crashes_cleaned = pd.read_csv('../data/crashes_cleaned.csv')\n",
    "people_cleaned = pd.read_csv('../data/people_cleaned.csv')\n"
   ]
  },
  {
   "cell_type": "code",
   "execution_count": 30,
   "id": "8dd1eff3",
   "metadata": {},
   "outputs": [],
   "source": [
    "megaset = crashes_cleaned.merge(people_cleaned, left_on = 'CRASH_RECORD_ID', right_on = 'CRASH_RECORD_ID', how = 'left')\n",
    "megaset = megaset.merge(vehicles_cleaned, left_on = 'CRASH_RECORD_ID', right_on = 'CRASH_RECORD_ID', how = 'left')"
   ]
  },
  {
   "cell_type": "code",
   "execution_count": 31,
   "id": "c73052cd-8b18-4b0f-8634-6167866a6d4d",
   "metadata": {},
   "outputs": [
    {
     "name": "stdout",
     "output_type": "stream",
     "text": [
      "<class 'pandas.core.frame.DataFrame'>\n",
      "RangeIndex: 2240923 entries, 0 to 2240922\n",
      "Columns: 191 entries, Unnamed: 0_x to FIRST_CONTACT_POINT\n",
      "dtypes: float64(51), int64(127), object(13)\n",
      "memory usage: 3.2+ GB\n"
     ]
    }
   ],
   "source": [
    "megaset.info()"
   ]
  },
  {
   "cell_type": "code",
   "execution_count": null,
   "id": "0401c133-7a4e-40ec-9701-540c01fcc80d",
   "metadata": {},
   "outputs": [],
   "source": []
  }
 ],
 "metadata": {
  "kernelspec": {
   "display_name": "Python 3 (ipykernel)",
   "language": "python",
   "name": "python3"
  },
  "language_info": {
   "codemirror_mode": {
    "name": "ipython",
    "version": 3
   },
   "file_extension": ".py",
   "mimetype": "text/x-python",
   "name": "python",
   "nbconvert_exporter": "python",
   "pygments_lexer": "ipython3",
   "version": "3.11.4"
  }
 },
 "nbformat": 4,
 "nbformat_minor": 5
}
