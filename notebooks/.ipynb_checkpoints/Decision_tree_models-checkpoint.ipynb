{
 "cells": [
  {
   "cell_type": "markdown",
   "metadata": {
    "slideshow": {
     "slide_type": "slide"
    }
   },
   "source": [
    "## Decision Tree Baseline Model"
   ]
  },
  {
   "cell_type": "code",
   "execution_count": 263,
   "metadata": {
    "scrolled": true,
    "slideshow": {
     "slide_type": "subslide"
    }
   },
   "outputs": [
    {
     "data": {
      "text/html": [
       "<div>\n",
       "<style scoped>\n",
       "    .dataframe tbody tr th:only-of-type {\n",
       "        vertical-align: middle;\n",
       "    }\n",
       "\n",
       "    .dataframe tbody tr th {\n",
       "        vertical-align: top;\n",
       "    }\n",
       "\n",
       "    .dataframe thead th {\n",
       "        text-align: right;\n",
       "    }\n",
       "</style>\n",
       "<table border=\"1\" class=\"dataframe\">\n",
       "  <thead>\n",
       "    <tr style=\"text-align: right;\">\n",
       "      <th></th>\n",
       "      <th>CRASH_RECORD_ID</th>\n",
       "      <th>POSTED_SPEED_LIMIT</th>\n",
       "      <th>CRASH_TYPE</th>\n",
       "      <th>INTERSECTION_RELATED_I</th>\n",
       "      <th>NOT_RIGHT_OF_WAY_I</th>\n",
       "      <th>HIT_AND_RUN_I</th>\n",
       "      <th>DAMAGE</th>\n",
       "      <th>PRIM_CONTRIBUTORY_CAUSE</th>\n",
       "      <th>NUM_UNITS</th>\n",
       "      <th>CRASH_HOUR</th>\n",
       "      <th>...</th>\n",
       "      <th>ROAD_DEFECT_NO DEFECTS</th>\n",
       "      <th>ROAD_DEFECT_OTHER</th>\n",
       "      <th>ROAD_DEFECT_RUT, HOLES</th>\n",
       "      <th>ROAD_DEFECT_SHOULDER DEFECT</th>\n",
       "      <th>ROAD_DEFECT_UNKNOWN</th>\n",
       "      <th>ROAD_DEFECT_WORN SURFACE</th>\n",
       "      <th>MOST_SEVERE_INJURY_INCAPACITATING INJURY</th>\n",
       "      <th>MOST_SEVERE_INJURY_NO INDICATION OF INJURY</th>\n",
       "      <th>MOST_SEVERE_INJURY_NONINCAPACITATING INJURY</th>\n",
       "      <th>MOST_SEVERE_INJURY_REPORTED, NOT EVIDENT</th>\n",
       "    </tr>\n",
       "  </thead>\n",
       "  <tbody>\n",
       "    <tr>\n",
       "      <th>2</th>\n",
       "      <td>5f54a59fcb087b12ae5b1acff96a3caf4f2d37e79f8db4...</td>\n",
       "      <td>30</td>\n",
       "      <td>1</td>\n",
       "      <td>0</td>\n",
       "      <td>0</td>\n",
       "      <td>1</td>\n",
       "      <td>2</td>\n",
       "      <td>BAD DRIVING</td>\n",
       "      <td>4</td>\n",
       "      <td>14</td>\n",
       "      <td>...</td>\n",
       "      <td>1</td>\n",
       "      <td>0</td>\n",
       "      <td>0</td>\n",
       "      <td>0</td>\n",
       "      <td>0</td>\n",
       "      <td>0</td>\n",
       "      <td>0</td>\n",
       "      <td>1</td>\n",
       "      <td>0</td>\n",
       "      <td>0</td>\n",
       "    </tr>\n",
       "    <tr>\n",
       "      <th>46</th>\n",
       "      <td>c107aea0fb8320ca5e7676759af9399cffe67f3ac8e429...</td>\n",
       "      <td>30</td>\n",
       "      <td>1</td>\n",
       "      <td>0</td>\n",
       "      <td>0</td>\n",
       "      <td>1</td>\n",
       "      <td>2</td>\n",
       "      <td>BAD DRIVING</td>\n",
       "      <td>2</td>\n",
       "      <td>17</td>\n",
       "      <td>...</td>\n",
       "      <td>1</td>\n",
       "      <td>0</td>\n",
       "      <td>0</td>\n",
       "      <td>0</td>\n",
       "      <td>0</td>\n",
       "      <td>0</td>\n",
       "      <td>0</td>\n",
       "      <td>1</td>\n",
       "      <td>0</td>\n",
       "      <td>0</td>\n",
       "    </tr>\n",
       "    <tr>\n",
       "      <th>56</th>\n",
       "      <td>db61137bc4bb19b84665da12c4c367592e874c623f76a1...</td>\n",
       "      <td>30</td>\n",
       "      <td>0</td>\n",
       "      <td>0</td>\n",
       "      <td>0</td>\n",
       "      <td>0</td>\n",
       "      <td>2</td>\n",
       "      <td>BAD DRIVING</td>\n",
       "      <td>3</td>\n",
       "      <td>18</td>\n",
       "      <td>...</td>\n",
       "      <td>1</td>\n",
       "      <td>0</td>\n",
       "      <td>0</td>\n",
       "      <td>0</td>\n",
       "      <td>0</td>\n",
       "      <td>0</td>\n",
       "      <td>0</td>\n",
       "      <td>1</td>\n",
       "      <td>0</td>\n",
       "      <td>0</td>\n",
       "    </tr>\n",
       "    <tr>\n",
       "      <th>63</th>\n",
       "      <td>8640aa03a86f10df7a8c1dafc03d1551c4a4c0262397f3...</td>\n",
       "      <td>30</td>\n",
       "      <td>1</td>\n",
       "      <td>0</td>\n",
       "      <td>0</td>\n",
       "      <td>1</td>\n",
       "      <td>2</td>\n",
       "      <td>BAD DRIVING</td>\n",
       "      <td>2</td>\n",
       "      <td>11</td>\n",
       "      <td>...</td>\n",
       "      <td>1</td>\n",
       "      <td>0</td>\n",
       "      <td>0</td>\n",
       "      <td>0</td>\n",
       "      <td>0</td>\n",
       "      <td>0</td>\n",
       "      <td>0</td>\n",
       "      <td>1</td>\n",
       "      <td>0</td>\n",
       "      <td>0</td>\n",
       "    </tr>\n",
       "    <tr>\n",
       "      <th>74</th>\n",
       "      <td>f1779af8b006d956f29723ac415bd54b61ef9acf84e38e...</td>\n",
       "      <td>30</td>\n",
       "      <td>1</td>\n",
       "      <td>1</td>\n",
       "      <td>0</td>\n",
       "      <td>1</td>\n",
       "      <td>2</td>\n",
       "      <td>BREAKING LAW</td>\n",
       "      <td>2</td>\n",
       "      <td>15</td>\n",
       "      <td>...</td>\n",
       "      <td>0</td>\n",
       "      <td>0</td>\n",
       "      <td>0</td>\n",
       "      <td>0</td>\n",
       "      <td>1</td>\n",
       "      <td>0</td>\n",
       "      <td>0</td>\n",
       "      <td>1</td>\n",
       "      <td>0</td>\n",
       "      <td>0</td>\n",
       "    </tr>\n",
       "  </tbody>\n",
       "</table>\n",
       "<p>5 rows × 127 columns</p>\n",
       "</div>"
      ],
      "text/plain": [
       "                                      CRASH_RECORD_ID  POSTED_SPEED_LIMIT  \\\n",
       "2   5f54a59fcb087b12ae5b1acff96a3caf4f2d37e79f8db4...                  30   \n",
       "46  c107aea0fb8320ca5e7676759af9399cffe67f3ac8e429...                  30   \n",
       "56  db61137bc4bb19b84665da12c4c367592e874c623f76a1...                  30   \n",
       "63  8640aa03a86f10df7a8c1dafc03d1551c4a4c0262397f3...                  30   \n",
       "74  f1779af8b006d956f29723ac415bd54b61ef9acf84e38e...                  30   \n",
       "\n",
       "    CRASH_TYPE  INTERSECTION_RELATED_I  NOT_RIGHT_OF_WAY_I  HIT_AND_RUN_I  \\\n",
       "2            1                       0                   0              1   \n",
       "46           1                       0                   0              1   \n",
       "56           0                       0                   0              0   \n",
       "63           1                       0                   0              1   \n",
       "74           1                       1                   0              1   \n",
       "\n",
       "    DAMAGE PRIM_CONTRIBUTORY_CAUSE  NUM_UNITS  CRASH_HOUR  ...  \\\n",
       "2        2             BAD DRIVING          4          14  ...   \n",
       "46       2             BAD DRIVING          2          17  ...   \n",
       "56       2             BAD DRIVING          3          18  ...   \n",
       "63       2             BAD DRIVING          2          11  ...   \n",
       "74       2            BREAKING LAW          2          15  ...   \n",
       "\n",
       "    ROAD_DEFECT_NO DEFECTS  ROAD_DEFECT_OTHER  ROAD_DEFECT_RUT, HOLES  \\\n",
       "2                        1                  0                       0   \n",
       "46                       1                  0                       0   \n",
       "56                       1                  0                       0   \n",
       "63                       1                  0                       0   \n",
       "74                       0                  0                       0   \n",
       "\n",
       "    ROAD_DEFECT_SHOULDER DEFECT  ROAD_DEFECT_UNKNOWN  \\\n",
       "2                             0                    0   \n",
       "46                            0                    0   \n",
       "56                            0                    0   \n",
       "63                            0                    0   \n",
       "74                            0                    1   \n",
       "\n",
       "    ROAD_DEFECT_WORN SURFACE  MOST_SEVERE_INJURY_INCAPACITATING INJURY  \\\n",
       "2                          0                                         0   \n",
       "46                         0                                         0   \n",
       "56                         0                                         0   \n",
       "63                         0                                         0   \n",
       "74                         0                                         0   \n",
       "\n",
       "    MOST_SEVERE_INJURY_NO INDICATION OF INJURY  \\\n",
       "2                                            1   \n",
       "46                                           1   \n",
       "56                                           1   \n",
       "63                                           1   \n",
       "74                                           1   \n",
       "\n",
       "    MOST_SEVERE_INJURY_NONINCAPACITATING INJURY  \\\n",
       "2                                             0   \n",
       "46                                            0   \n",
       "56                                            0   \n",
       "63                                            0   \n",
       "74                                            0   \n",
       "\n",
       "    MOST_SEVERE_INJURY_REPORTED, NOT EVIDENT  \n",
       "2                                          0  \n",
       "46                                         0  \n",
       "56                                         0  \n",
       "63                                         0  \n",
       "74                                         0  \n",
       "\n",
       "[5 rows x 127 columns]"
      ]
     },
     "execution_count": 263,
     "metadata": {},
     "output_type": "execute_result"
    }
   ],
   "source": [
    "import pandas as pd\n",
    "\n",
    "crashes_cleaned = pd.read_csv('../data/crashes_cleaned.csv', index_col = 0)\n",
    "crashes_cleaned.head()"
   ]
  },
  {
   "cell_type": "markdown",
   "metadata": {},
   "source": [
    "### Primary Contributory Causes "
   ]
  },
  {
   "cell_type": "code",
   "execution_count": 264,
   "metadata": {
    "scrolled": true,
    "slideshow": {
     "slide_type": "slide"
    }
   },
   "outputs": [
    {
     "data": {
      "text/plain": [
       "BAD DRIVING                   0.622616\n",
       "BREAKING LAW                  0.257843\n",
       "OUTSIDE FACTORS               0.063773\n",
       "DRINKING/DRUGS                0.033166\n",
       "DISTRACTION INSIDE VEHICLE    0.016300\n",
       "OTHER                         0.006302\n",
       "Name: PRIM_CONTRIBUTORY_CAUSE, dtype: float64"
      ]
     },
     "execution_count": 264,
     "metadata": {},
     "output_type": "execute_result"
    }
   ],
   "source": [
    "crashes_cleaned['PRIM_CONTRIBUTORY_CAUSE'].value_counts(normalize=True)"
   ]
  },
  {
   "cell_type": "markdown",
   "metadata": {},
   "source": [
    "### Label Encoding Target Variable"
   ]
  },
  {
   "cell_type": "code",
   "execution_count": 265,
   "metadata": {},
   "outputs": [
    {
     "data": {
      "text/html": [
       "<div>\n",
       "<style scoped>\n",
       "    .dataframe tbody tr th:only-of-type {\n",
       "        vertical-align: middle;\n",
       "    }\n",
       "\n",
       "    .dataframe tbody tr th {\n",
       "        vertical-align: top;\n",
       "    }\n",
       "\n",
       "    .dataframe thead th {\n",
       "        text-align: right;\n",
       "    }\n",
       "</style>\n",
       "<table border=\"1\" class=\"dataframe\">\n",
       "  <thead>\n",
       "    <tr style=\"text-align: right;\">\n",
       "      <th></th>\n",
       "      <th>CRASH_RECORD_ID</th>\n",
       "      <th>POSTED_SPEED_LIMIT</th>\n",
       "      <th>CRASH_TYPE</th>\n",
       "      <th>INTERSECTION_RELATED_I</th>\n",
       "      <th>NOT_RIGHT_OF_WAY_I</th>\n",
       "      <th>HIT_AND_RUN_I</th>\n",
       "      <th>DAMAGE</th>\n",
       "      <th>PRIM_CONTRIBUTORY_CAUSE</th>\n",
       "      <th>NUM_UNITS</th>\n",
       "      <th>CRASH_HOUR</th>\n",
       "      <th>...</th>\n",
       "      <th>ROAD_DEFECT_NO DEFECTS</th>\n",
       "      <th>ROAD_DEFECT_OTHER</th>\n",
       "      <th>ROAD_DEFECT_RUT, HOLES</th>\n",
       "      <th>ROAD_DEFECT_SHOULDER DEFECT</th>\n",
       "      <th>ROAD_DEFECT_UNKNOWN</th>\n",
       "      <th>ROAD_DEFECT_WORN SURFACE</th>\n",
       "      <th>MOST_SEVERE_INJURY_INCAPACITATING INJURY</th>\n",
       "      <th>MOST_SEVERE_INJURY_NO INDICATION OF INJURY</th>\n",
       "      <th>MOST_SEVERE_INJURY_NONINCAPACITATING INJURY</th>\n",
       "      <th>MOST_SEVERE_INJURY_REPORTED, NOT EVIDENT</th>\n",
       "    </tr>\n",
       "  </thead>\n",
       "  <tbody>\n",
       "    <tr>\n",
       "      <th>2</th>\n",
       "      <td>5f54a59fcb087b12ae5b1acff96a3caf4f2d37e79f8db4...</td>\n",
       "      <td>30</td>\n",
       "      <td>1</td>\n",
       "      <td>0</td>\n",
       "      <td>0</td>\n",
       "      <td>1</td>\n",
       "      <td>2</td>\n",
       "      <td>0</td>\n",
       "      <td>4</td>\n",
       "      <td>14</td>\n",
       "      <td>...</td>\n",
       "      <td>1</td>\n",
       "      <td>0</td>\n",
       "      <td>0</td>\n",
       "      <td>0</td>\n",
       "      <td>0</td>\n",
       "      <td>0</td>\n",
       "      <td>0</td>\n",
       "      <td>1</td>\n",
       "      <td>0</td>\n",
       "      <td>0</td>\n",
       "    </tr>\n",
       "    <tr>\n",
       "      <th>46</th>\n",
       "      <td>c107aea0fb8320ca5e7676759af9399cffe67f3ac8e429...</td>\n",
       "      <td>30</td>\n",
       "      <td>1</td>\n",
       "      <td>0</td>\n",
       "      <td>0</td>\n",
       "      <td>1</td>\n",
       "      <td>2</td>\n",
       "      <td>0</td>\n",
       "      <td>2</td>\n",
       "      <td>17</td>\n",
       "      <td>...</td>\n",
       "      <td>1</td>\n",
       "      <td>0</td>\n",
       "      <td>0</td>\n",
       "      <td>0</td>\n",
       "      <td>0</td>\n",
       "      <td>0</td>\n",
       "      <td>0</td>\n",
       "      <td>1</td>\n",
       "      <td>0</td>\n",
       "      <td>0</td>\n",
       "    </tr>\n",
       "    <tr>\n",
       "      <th>56</th>\n",
       "      <td>db61137bc4bb19b84665da12c4c367592e874c623f76a1...</td>\n",
       "      <td>30</td>\n",
       "      <td>0</td>\n",
       "      <td>0</td>\n",
       "      <td>0</td>\n",
       "      <td>0</td>\n",
       "      <td>2</td>\n",
       "      <td>0</td>\n",
       "      <td>3</td>\n",
       "      <td>18</td>\n",
       "      <td>...</td>\n",
       "      <td>1</td>\n",
       "      <td>0</td>\n",
       "      <td>0</td>\n",
       "      <td>0</td>\n",
       "      <td>0</td>\n",
       "      <td>0</td>\n",
       "      <td>0</td>\n",
       "      <td>1</td>\n",
       "      <td>0</td>\n",
       "      <td>0</td>\n",
       "    </tr>\n",
       "    <tr>\n",
       "      <th>63</th>\n",
       "      <td>8640aa03a86f10df7a8c1dafc03d1551c4a4c0262397f3...</td>\n",
       "      <td>30</td>\n",
       "      <td>1</td>\n",
       "      <td>0</td>\n",
       "      <td>0</td>\n",
       "      <td>1</td>\n",
       "      <td>2</td>\n",
       "      <td>0</td>\n",
       "      <td>2</td>\n",
       "      <td>11</td>\n",
       "      <td>...</td>\n",
       "      <td>1</td>\n",
       "      <td>0</td>\n",
       "      <td>0</td>\n",
       "      <td>0</td>\n",
       "      <td>0</td>\n",
       "      <td>0</td>\n",
       "      <td>0</td>\n",
       "      <td>1</td>\n",
       "      <td>0</td>\n",
       "      <td>0</td>\n",
       "    </tr>\n",
       "    <tr>\n",
       "      <th>74</th>\n",
       "      <td>f1779af8b006d956f29723ac415bd54b61ef9acf84e38e...</td>\n",
       "      <td>30</td>\n",
       "      <td>1</td>\n",
       "      <td>1</td>\n",
       "      <td>0</td>\n",
       "      <td>1</td>\n",
       "      <td>2</td>\n",
       "      <td>1</td>\n",
       "      <td>2</td>\n",
       "      <td>15</td>\n",
       "      <td>...</td>\n",
       "      <td>0</td>\n",
       "      <td>0</td>\n",
       "      <td>0</td>\n",
       "      <td>0</td>\n",
       "      <td>1</td>\n",
       "      <td>0</td>\n",
       "      <td>0</td>\n",
       "      <td>1</td>\n",
       "      <td>0</td>\n",
       "      <td>0</td>\n",
       "    </tr>\n",
       "    <tr>\n",
       "      <th>...</th>\n",
       "      <td>...</td>\n",
       "      <td>...</td>\n",
       "      <td>...</td>\n",
       "      <td>...</td>\n",
       "      <td>...</td>\n",
       "      <td>...</td>\n",
       "      <td>...</td>\n",
       "      <td>...</td>\n",
       "      <td>...</td>\n",
       "      <td>...</td>\n",
       "      <td>...</td>\n",
       "      <td>...</td>\n",
       "      <td>...</td>\n",
       "      <td>...</td>\n",
       "      <td>...</td>\n",
       "      <td>...</td>\n",
       "      <td>...</td>\n",
       "      <td>...</td>\n",
       "      <td>...</td>\n",
       "      <td>...</td>\n",
       "      <td>...</td>\n",
       "    </tr>\n",
       "    <tr>\n",
       "      <th>798899</th>\n",
       "      <td>ffffc0eaf9bc22a04bf318b62e0e1c5ec59a4f3c0c3493...</td>\n",
       "      <td>30</td>\n",
       "      <td>1</td>\n",
       "      <td>0</td>\n",
       "      <td>0</td>\n",
       "      <td>1</td>\n",
       "      <td>0</td>\n",
       "      <td>0</td>\n",
       "      <td>2</td>\n",
       "      <td>12</td>\n",
       "      <td>...</td>\n",
       "      <td>1</td>\n",
       "      <td>0</td>\n",
       "      <td>0</td>\n",
       "      <td>0</td>\n",
       "      <td>0</td>\n",
       "      <td>0</td>\n",
       "      <td>0</td>\n",
       "      <td>1</td>\n",
       "      <td>0</td>\n",
       "      <td>0</td>\n",
       "    </tr>\n",
       "    <tr>\n",
       "      <th>798901</th>\n",
       "      <td>ffffc802346fd6f48f99117898fbc558237a3052c327b8...</td>\n",
       "      <td>30</td>\n",
       "      <td>0</td>\n",
       "      <td>0</td>\n",
       "      <td>0</td>\n",
       "      <td>0</td>\n",
       "      <td>2</td>\n",
       "      <td>3</td>\n",
       "      <td>2</td>\n",
       "      <td>7</td>\n",
       "      <td>...</td>\n",
       "      <td>1</td>\n",
       "      <td>0</td>\n",
       "      <td>0</td>\n",
       "      <td>0</td>\n",
       "      <td>0</td>\n",
       "      <td>0</td>\n",
       "      <td>0</td>\n",
       "      <td>0</td>\n",
       "      <td>0</td>\n",
       "      <td>1</td>\n",
       "    </tr>\n",
       "    <tr>\n",
       "      <th>798902</th>\n",
       "      <td>ffffd143cf6dc784876069140869d2d724080089450108...</td>\n",
       "      <td>30</td>\n",
       "      <td>1</td>\n",
       "      <td>0</td>\n",
       "      <td>0</td>\n",
       "      <td>1</td>\n",
       "      <td>2</td>\n",
       "      <td>0</td>\n",
       "      <td>2</td>\n",
       "      <td>19</td>\n",
       "      <td>...</td>\n",
       "      <td>0</td>\n",
       "      <td>0</td>\n",
       "      <td>0</td>\n",
       "      <td>0</td>\n",
       "      <td>1</td>\n",
       "      <td>0</td>\n",
       "      <td>0</td>\n",
       "      <td>1</td>\n",
       "      <td>0</td>\n",
       "      <td>0</td>\n",
       "    </tr>\n",
       "    <tr>\n",
       "      <th>798904</th>\n",
       "      <td>ffffe577251dc1cc67f2f823b595e5028427a210e2a40e...</td>\n",
       "      <td>30</td>\n",
       "      <td>1</td>\n",
       "      <td>0</td>\n",
       "      <td>0</td>\n",
       "      <td>1</td>\n",
       "      <td>1</td>\n",
       "      <td>1</td>\n",
       "      <td>2</td>\n",
       "      <td>8</td>\n",
       "      <td>...</td>\n",
       "      <td>1</td>\n",
       "      <td>0</td>\n",
       "      <td>0</td>\n",
       "      <td>0</td>\n",
       "      <td>0</td>\n",
       "      <td>0</td>\n",
       "      <td>0</td>\n",
       "      <td>1</td>\n",
       "      <td>0</td>\n",
       "      <td>0</td>\n",
       "    </tr>\n",
       "    <tr>\n",
       "      <th>798905</th>\n",
       "      <td>6aba853bb6210cc5569d6b74e00f62215b7566d1726c3a...</td>\n",
       "      <td>10</td>\n",
       "      <td>1</td>\n",
       "      <td>0</td>\n",
       "      <td>0</td>\n",
       "      <td>1</td>\n",
       "      <td>1</td>\n",
       "      <td>0</td>\n",
       "      <td>2</td>\n",
       "      <td>17</td>\n",
       "      <td>...</td>\n",
       "      <td>0</td>\n",
       "      <td>0</td>\n",
       "      <td>0</td>\n",
       "      <td>0</td>\n",
       "      <td>1</td>\n",
       "      <td>0</td>\n",
       "      <td>0</td>\n",
       "      <td>1</td>\n",
       "      <td>0</td>\n",
       "      <td>0</td>\n",
       "    </tr>\n",
       "  </tbody>\n",
       "</table>\n",
       "<p>442382 rows × 127 columns</p>\n",
       "</div>"
      ],
      "text/plain": [
       "                                          CRASH_RECORD_ID  POSTED_SPEED_LIMIT  \\\n",
       "2       5f54a59fcb087b12ae5b1acff96a3caf4f2d37e79f8db4...                  30   \n",
       "46      c107aea0fb8320ca5e7676759af9399cffe67f3ac8e429...                  30   \n",
       "56      db61137bc4bb19b84665da12c4c367592e874c623f76a1...                  30   \n",
       "63      8640aa03a86f10df7a8c1dafc03d1551c4a4c0262397f3...                  30   \n",
       "74      f1779af8b006d956f29723ac415bd54b61ef9acf84e38e...                  30   \n",
       "...                                                   ...                 ...   \n",
       "798899  ffffc0eaf9bc22a04bf318b62e0e1c5ec59a4f3c0c3493...                  30   \n",
       "798901  ffffc802346fd6f48f99117898fbc558237a3052c327b8...                  30   \n",
       "798902  ffffd143cf6dc784876069140869d2d724080089450108...                  30   \n",
       "798904  ffffe577251dc1cc67f2f823b595e5028427a210e2a40e...                  30   \n",
       "798905  6aba853bb6210cc5569d6b74e00f62215b7566d1726c3a...                  10   \n",
       "\n",
       "        CRASH_TYPE  INTERSECTION_RELATED_I  NOT_RIGHT_OF_WAY_I  HIT_AND_RUN_I  \\\n",
       "2                1                       0                   0              1   \n",
       "46               1                       0                   0              1   \n",
       "56               0                       0                   0              0   \n",
       "63               1                       0                   0              1   \n",
       "74               1                       1                   0              1   \n",
       "...            ...                     ...                 ...            ...   \n",
       "798899           1                       0                   0              1   \n",
       "798901           0                       0                   0              0   \n",
       "798902           1                       0                   0              1   \n",
       "798904           1                       0                   0              1   \n",
       "798905           1                       0                   0              1   \n",
       "\n",
       "        DAMAGE  PRIM_CONTRIBUTORY_CAUSE  NUM_UNITS  CRASH_HOUR  ...  \\\n",
       "2            2                        0          4          14  ...   \n",
       "46           2                        0          2          17  ...   \n",
       "56           2                        0          3          18  ...   \n",
       "63           2                        0          2          11  ...   \n",
       "74           2                        1          2          15  ...   \n",
       "...        ...                      ...        ...         ...  ...   \n",
       "798899       0                        0          2          12  ...   \n",
       "798901       2                        3          2           7  ...   \n",
       "798902       2                        0          2          19  ...   \n",
       "798904       1                        1          2           8  ...   \n",
       "798905       1                        0          2          17  ...   \n",
       "\n",
       "        ROAD_DEFECT_NO DEFECTS  ROAD_DEFECT_OTHER  ROAD_DEFECT_RUT, HOLES  \\\n",
       "2                            1                  0                       0   \n",
       "46                           1                  0                       0   \n",
       "56                           1                  0                       0   \n",
       "63                           1                  0                       0   \n",
       "74                           0                  0                       0   \n",
       "...                        ...                ...                     ...   \n",
       "798899                       1                  0                       0   \n",
       "798901                       1                  0                       0   \n",
       "798902                       0                  0                       0   \n",
       "798904                       1                  0                       0   \n",
       "798905                       0                  0                       0   \n",
       "\n",
       "        ROAD_DEFECT_SHOULDER DEFECT  ROAD_DEFECT_UNKNOWN  \\\n",
       "2                                 0                    0   \n",
       "46                                0                    0   \n",
       "56                                0                    0   \n",
       "63                                0                    0   \n",
       "74                                0                    1   \n",
       "...                             ...                  ...   \n",
       "798899                            0                    0   \n",
       "798901                            0                    0   \n",
       "798902                            0                    1   \n",
       "798904                            0                    0   \n",
       "798905                            0                    1   \n",
       "\n",
       "        ROAD_DEFECT_WORN SURFACE  MOST_SEVERE_INJURY_INCAPACITATING INJURY  \\\n",
       "2                              0                                         0   \n",
       "46                             0                                         0   \n",
       "56                             0                                         0   \n",
       "63                             0                                         0   \n",
       "74                             0                                         0   \n",
       "...                          ...                                       ...   \n",
       "798899                         0                                         0   \n",
       "798901                         0                                         0   \n",
       "798902                         0                                         0   \n",
       "798904                         0                                         0   \n",
       "798905                         0                                         0   \n",
       "\n",
       "        MOST_SEVERE_INJURY_NO INDICATION OF INJURY  \\\n",
       "2                                                1   \n",
       "46                                               1   \n",
       "56                                               1   \n",
       "63                                               1   \n",
       "74                                               1   \n",
       "...                                            ...   \n",
       "798899                                           1   \n",
       "798901                                           0   \n",
       "798902                                           1   \n",
       "798904                                           1   \n",
       "798905                                           1   \n",
       "\n",
       "        MOST_SEVERE_INJURY_NONINCAPACITATING INJURY  \\\n",
       "2                                                 0   \n",
       "46                                                0   \n",
       "56                                                0   \n",
       "63                                                0   \n",
       "74                                                0   \n",
       "...                                             ...   \n",
       "798899                                            0   \n",
       "798901                                            0   \n",
       "798902                                            0   \n",
       "798904                                            0   \n",
       "798905                                            0   \n",
       "\n",
       "        MOST_SEVERE_INJURY_REPORTED, NOT EVIDENT  \n",
       "2                                              0  \n",
       "46                                             0  \n",
       "56                                             0  \n",
       "63                                             0  \n",
       "74                                             0  \n",
       "...                                          ...  \n",
       "798899                                         0  \n",
       "798901                                         1  \n",
       "798902                                         0  \n",
       "798904                                         0  \n",
       "798905                                         0  \n",
       "\n",
       "[442382 rows x 127 columns]"
      ]
     },
     "execution_count": 265,
     "metadata": {},
     "output_type": "execute_result"
    }
   ],
   "source": [
    "# label encoding target variable\n",
    "from sklearn.preprocessing import LabelEncoder\n",
    "\n",
    "label = LabelEncoder()\n",
    "\n",
    "crashes_cleaned['PRIM_CONTRIBUTORY_CAUSE'] = label.fit_transform(crashes_cleaned['PRIM_CONTRIBUTORY_CAUSE'])\n",
    "crashes_cleaned"
   ]
  },
  {
   "cell_type": "markdown",
   "metadata": {},
   "source": [
    "### Perform Train Test Split "
   ]
  },
  {
   "cell_type": "code",
   "execution_count": 219,
   "metadata": {},
   "outputs": [],
   "source": [
    "# create X and y and train test split\n",
    "from sklearn.model_selection import train_test_split\n",
    "\n",
    "X = crashes_cleaned.drop(columns = ['PRIM_CONTRIBUTORY_CAUSE', 'CRASH_RECORD_ID'])\n",
    "y = crashes_cleaned['PRIM_CONTRIBUTORY_CAUSE']\n",
    "\n",
    "X_train, X_test, y_train, y_test = train_test_split(X, y, test_size = 0.30)"
   ]
  },
  {
   "cell_type": "code",
   "execution_count": 221,
   "metadata": {},
   "outputs": [
    {
     "data": {
      "text/plain": [
       "(5, 125)"
      ]
     },
     "execution_count": 221,
     "metadata": {},
     "output_type": "execute_result"
    }
   ],
   "source": [
    "X_train[0:5].shape"
   ]
  },
  {
   "cell_type": "markdown",
   "metadata": {},
   "source": [
    "### Distribution of Target Variable Across Classes"
   ]
  },
  {
   "cell_type": "code",
   "execution_count": 266,
   "metadata": {
    "scrolled": false
   },
   "outputs": [
    {
     "data": {
      "text/plain": [
       "0    0.622578\n",
       "1    0.257867\n",
       "5    0.064101\n",
       "3    0.032961\n",
       "2    0.016234\n",
       "4    0.006258\n",
       "Name: PRIM_CONTRIBUTORY_CAUSE, dtype: float64"
      ]
     },
     "execution_count": 266,
     "metadata": {},
     "output_type": "execute_result"
    }
   ],
   "source": [
    "y_train.value_counts(normalize = True)"
   ]
  },
  {
   "cell_type": "code",
   "execution_count": 267,
   "metadata": {
    "scrolled": true
   },
   "outputs": [],
   "source": [
    "# # import tree and instantiate and fit baseline model\n",
    "# from sklearn.tree import DecisionTreeClassifier\n",
    "\n",
    "# clf = DecisionTreeClassifier()\n",
    "\n",
    "# clf.fit(X_train, y_train)"
   ]
  },
  {
   "cell_type": "markdown",
   "metadata": {},
   "source": [
    "### Perform Cross Validation on Train Set"
   ]
  },
  {
   "cell_type": "code",
   "execution_count": 268,
   "metadata": {},
   "outputs": [
    {
     "name": "stdout",
     "output_type": "stream",
     "text": [
      "{'train': 0.7460863874141145, 'validation': 0.7360971620234202}\n"
     ]
    }
   ],
   "source": [
    "from sklearn.model_selection import KFold\n",
    "from sklearn.tree import DecisionTreeClassifier\n",
    "from sklearn.preprocessing import StandardScaler\n",
    "import numpy as np\n",
    "\n",
    "def cross_validation(X_train, y_train, num_split=10):\n",
    "    score_train_list = []\n",
    "    score_val_list = []\n",
    "\n",
    "    for train_index, valid_index in KFold(n_splits=num_split).split(X_train):\n",
    "        # Train and validation splitting\n",
    "        X_train_fold, X_val_fold = X_train.iloc[train_index], X_train.iloc[valid_index]\n",
    "        y_train_fold, y_val_fold = y_train.iloc[train_index], y_train.iloc[valid_index]\n",
    "\n",
    "        # Create/fit decision tree classifier\n",
    "        clf = DecisionTreeClassifier(max_depth = 15, min_samples_leaf = 39, min_samples_split = 50, random_state =10)\n",
    "        clf.fit(X_train_fold, y_train_fold)\n",
    "\n",
    "        # Evaluate performance\n",
    "        accuracy_train = clf.score(X_train_fold, y_train_fold)\n",
    "        accuracy_val = clf.score(X_val_fold, y_val_fold)\n",
    "        score_val_list.append(accuracy_val)\n",
    "        score_train_list.append(accuracy_train)\n",
    "\n",
    "    return {'train': np.mean(score_train_list), 'validation': np.mean(score_val_list)}\n",
    "\n",
    "result = cross_validation(X_train, y_train, num_split=10)\n",
    "print(result)"
   ]
  },
  {
   "cell_type": "markdown",
   "metadata": {},
   "source": [
    "### Plot Decision Tree"
   ]
  },
  {
   "cell_type": "code",
   "execution_count": 269,
   "metadata": {
    "scrolled": true
   },
   "outputs": [
    {
     "data": {
      "image/png": "[encoded data removed]",
      "text/plain": [
       "<Figure size 3000x3000 with 1 Axes>"
      ]
     },
     "metadata": {
      "needs_background": "light"
     },
     "output_type": "display_data"
    }
   ],
   "source": [
    "import numpy as np\n",
    "import matplotlib.pyplot as plt\n",
    "from sklearn.tree import plot_tree\n",
    "\n",
    "fig, axes = plt.subplots(nrows = 1,ncols = 1, figsize = (10,10), dpi=300)\n",
    "plot_tree(clf,\n",
    "           max_depth = 3,\n",
    "           feature_names = crashes_cleaned.columns, \n",
    "           class_names=np.unique(y).astype('str'),\n",
    "           filled = True,\n",
    "           ax = axes)\n",
    "plt.show()"
   ]
  },
  {
   "cell_type": "markdown",
   "metadata": {},
   "source": [
    "### Baseline Model Accuracy Score"
   ]
  },
  {
   "cell_type": "code",
   "execution_count": 270,
   "metadata": {},
   "outputs": [
    {
     "name": "stdout",
     "output_type": "stream",
     "text": [
      "Accuracy: 0.28219116151150964\n"
     ]
    }
   ],
   "source": [
    "from sklearn.metrics import accuracy_score\n",
    "\n",
    "y_preds = clf.predict(X_test)\n",
    "print('Accuracy:', accuracy_score(y_test, y_preds))\n",
    "\n",
    "y_pred_proba = clf.predict_proba(X_test)\n",
    "from sklearn.metrics import roc_auc_score\n",
    "# auc_score = roc_auc_score(y_test, y_pred_proba,  multi_class='ovo')\n",
    "# print('AUC Score:', auc_score)"
   ]
  },
  {
   "cell_type": "markdown",
   "metadata": {},
   "source": [
    "### Criterion='Entropy'"
   ]
  },
  {
   "cell_type": "code",
   "execution_count": 271,
   "metadata": {},
   "outputs": [
    {
     "name": "stdout",
     "output_type": "stream",
     "text": [
      "Accuracy: 0.6245865199864371\n"
     ]
    }
   ],
   "source": [
    "# build a model and change purity metric to entropy \n",
    "\n",
    "clf_entropy = DecisionTreeClassifier(criterion='entropy')\n",
    "\n",
    "clf_entropy.fit(X_train, y_train)\n",
    "\n",
    "y_preds_entropy = clf_entropy.predict(X_test)\n",
    "\n",
    "print('Accuracy:', accuracy_score(y_test, y_preds_entropy))"
   ]
  },
  {
   "cell_type": "markdown",
   "metadata": {},
   "source": [
    "### Scaler"
   ]
  },
  {
   "cell_type": "code",
   "execution_count": 272,
   "metadata": {},
   "outputs": [
    {
     "name": "stdout",
     "output_type": "stream",
     "text": [
      "Accuracy gini scaled: 0.6257996458576649\n",
      "Accuracy entropy scaled: 0.6262592773989376\n"
     ]
    }
   ],
   "source": [
    "from sklearn.preprocessing import StandardScaler\n",
    "# scale the data lets see if it improves the score\n",
    "scaler = StandardScaler()\n",
    "\n",
    "X_train_sc = scaler.fit_transform(X_train)\n",
    "X_test_sc = scaler.transform(X_test)\n",
    "\n",
    "# try out both models on scaled data\n",
    "clf.fit(X_train_sc, y_train)\n",
    "y_preds_sc_gini = clf.predict(X_test_sc)\n",
    "print('Accuracy gini scaled:', accuracy_score(y_test, y_preds_sc_gini))\n",
    "\n",
    "clf_entropy.fit(X_train_sc, y_train)\n",
    "y_preds_sc_entropy = clf_entropy.predict(X_test_sc)\n",
    "print('Accuracy entropy scaled:', accuracy_score(y_test, y_preds_sc_entropy))"
   ]
  },
  {
   "cell_type": "markdown",
   "metadata": {},
   "source": [
    "Scaling the data made miniscule difference i will not be using the scaled data."
   ]
  },
  {
   "cell_type": "markdown",
   "metadata": {},
   "source": [
    "### Balance Weights"
   ]
  },
  {
   "cell_type": "code",
   "execution_count": 273,
   "metadata": {},
   "outputs": [
    {
     "name": "stdout",
     "output_type": "stream",
     "text": [
      "Accuracy weighted: 0.6218061259089025\n"
     ]
    }
   ],
   "source": [
    "# balance the class weights\n",
    "clf_w = DecisionTreeClassifier(class_weight='balanced')\n",
    "clf_w.fit(X_train, y_train)\n",
    "y_preds_w = clf_w.predict(X_test)\n",
    "print('Accuracy weighted:', accuracy_score(y_test, y_preds_w))"
   ]
  },
  {
   "cell_type": "code",
   "execution_count": 274,
   "metadata": {},
   "outputs": [
    {
     "name": "stdout",
     "output_type": "stream",
     "text": [
      "AUC Score: 0.5048639322647681\n"
     ]
    }
   ],
   "source": [
    "y_pred_proba = clf.predict_proba(X_test)\n",
    "\n",
    "from sklearn.metrics import roc_auc_score\n",
    "\n",
    "auc_score = roc_auc_score(y_test, y_pred_proba,  multi_class='ovo')\n",
    "print('AUC Score:', auc_score)"
   ]
  },
  {
   "cell_type": "markdown",
   "metadata": {},
   "source": [
    "### Oversampling: SMOTE"
   ]
  },
  {
   "cell_type": "code",
   "execution_count": 275,
   "metadata": {
    "scrolled": true
   },
   "outputs": [
    {
     "name": "stdout",
     "output_type": "stream",
     "text": [
      "Original class distribution: \n",
      "\n",
      "0    275434\n",
      "1    114065\n",
      "5     28212\n",
      "3     14672\n",
      "2      7211\n",
      "4      2788\n",
      "Name: PRIM_CONTRIBUTORY_CAUSE, dtype: int64\n",
      "-----------------------------------------\n",
      "Synthetic sample class distribution: \n",
      "\n",
      "5    192792\n",
      "4    192792\n",
      "3    192792\n",
      "2    192792\n",
      "1    192792\n",
      "0    192792\n",
      "Name: PRIM_CONTRIBUTORY_CAUSE, dtype: int64\n"
     ]
    }
   ],
   "source": [
    "from imblearn.over_sampling import SMOTE\n",
    "\n",
    "print('Original class distribution: \\n')\n",
    "print(y.value_counts())\n",
    "\n",
    "smote = SMOTE()\n",
    "X_train_resampled, y_train_resampled = smote.fit_resample(X_train, y_train)\n",
    "\n",
    "print('-----------------------------------------')\n",
    "print('Synthetic sample class distribution: \\n')\n",
    "print(pd.Series(y_train_resampled).value_counts())"
   ]
  },
  {
   "cell_type": "code",
   "execution_count": 276,
   "metadata": {},
   "outputs": [
    {
     "name": "stdout",
     "output_type": "stream",
     "text": [
      "Accuracy weighted: 0.6004897713144709\n",
      "AUC Score: 0.5958807609628882\n"
     ]
    }
   ],
   "source": [
    "# model with resampled training data using SMOTE\n",
    "clf_resamp = DecisionTreeClassifier()\n",
    "\n",
    "clf_resamp.fit(X_train_resampled, y_train_resampled)\n",
    "\n",
    "y_preds_resamp = clf_resamp.predict(X_test)\n",
    "print('Accuracy weighted:', accuracy_score(y_test, y_preds_resamp))\n",
    "\n",
    "y_pred_proba_resamp = clf_resamp.predict_proba(X_test)\n",
    "auc_score = roc_auc_score(y_test, y_pred_proba_resamp,  multi_class='ovo')\n",
    "print('AUC Score:', auc_score)"
   ]
  },
  {
   "cell_type": "markdown",
   "metadata": {},
   "source": [
    "## Tuning Hyperparameters"
   ]
  },
  {
   "cell_type": "markdown",
   "metadata": {},
   "source": [
    "### Max_depth"
   ]
  },
  {
   "cell_type": "code",
   "execution_count": 277,
   "metadata": {
    "scrolled": true
   },
   "outputs": [
    {
     "name": "stdout",
     "output_type": "stream",
     "text": [
      "Accuracy depth 3 : 0.6795388614700675\n",
      "AUC Score 3 : 0.5048639322647681\n",
      "Accuracy depth 5 : 0.6951135892702407\n",
      "AUC Score 5 : 0.5048639322647681\n",
      "Accuracy depth 7 : 0.7104471988848284\n",
      "AUC Score 7 : 0.5048639322647681\n",
      "Accuracy depth 9 : 0.7260520664581999\n",
      "AUC Score 9 : 0.5048639322647681\n",
      "Accuracy depth 11 : 0.7333835662886636\n",
      "AUC Score 11 : 0.5048639322647681\n",
      "Accuracy depth 13 : 0.7344912029536977\n",
      "AUC Score 13 : 0.5048639322647681\n",
      "Accuracy depth 15 : 0.7331349131597785\n",
      "AUC Score 15 : 0.5048639322647681\n",
      "Accuracy depth 17 : 0.7310703386957013\n",
      "AUC Score 17 : 0.5048639322647681\n",
      "Accuracy depth 19 : 0.7268130957314546\n",
      "AUC Score 19 : 0.5048639322647681\n",
      "Accuracy depth 21 : 0.7230456240816788\n",
      "AUC Score 21 : 0.5048639322647681\n"
     ]
    }
   ],
   "source": [
    "# ok this is bad lets do something else \n",
    "# find best depth\n",
    "depth_list = [3, 5, 7, 9, 11, 13, 15, 17, 19, 21]\n",
    "\n",
    "for depth in depth_list:\n",
    "    \n",
    "    clf_hyper = DecisionTreeClassifier(max_depth = depth, min_samples_split = 10)\n",
    "    clf_hyper.fit(X_train, y_train)\n",
    "    y_preds = clf_hyper.predict(X_test)\n",
    "    print('Accuracy depth', depth,':', accuracy_score(y_test, y_preds))\n",
    "    \n",
    "    y_pred_proba = clf.predict_proba(X_test)\n",
    "    auc_score = roc_auc_score(y_test, y_pred_proba,  multi_class='ovo')\n",
    "    print('AUC Score', depth, ':', auc_score)"
   ]
  },
  {
   "cell_type": "markdown",
   "metadata": {},
   "source": [
    "### min_samples_split"
   ]
  },
  {
   "cell_type": "code",
   "execution_count": 278,
   "metadata": {},
   "outputs": [
    {
     "name": "stdout",
     "output_type": "stream",
     "text": [
      "Accuracy  15 : 0.7334438458350601\n",
      "Accuracy  17 : 0.7337377086237427\n",
      "Accuracy  19 : 0.7337753833402404\n",
      "Accuracy  21 : 0.7337527785103417\n",
      "Accuracy  23 : 0.7339411520928305\n",
      "Accuracy  25 : 0.7339637569227292\n",
      "Accuracy  27 : 0.7339863617526278\n",
      "Accuracy  35 : 0.7343103643145086\n",
      "AUC Score 35 : 0.5048639322647681\n"
     ]
    }
   ],
   "source": [
    "# find best min samples split\n",
    "minsamp_list = [15, 17, 19, 21, 23, 25, 27, 35]\n",
    "\n",
    "for minsamp in minsamp_list:\n",
    "    \n",
    "    clf_hyper = DecisionTreeClassifier(max_depth = 15, min_samples_split = minsamp)\n",
    "    clf_hyper.fit(X_train, y_train)\n",
    "    y_preds = clf_hyper.predict(X_test)\n",
    "    print('Accuracy ', minsamp,':', accuracy_score(y_test, y_preds))\n",
    "    \n",
    "y_pred_proba = clf.predict_proba(X_test)\n",
    "auc_score = roc_auc_score(y_test, y_pred_proba,  multi_class='ovo')\n",
    "print('AUC Score', minsamp, ':', auc_score)"
   ]
  },
  {
   "cell_type": "code",
   "execution_count": 279,
   "metadata": {},
   "outputs": [
    {
     "name": "stdout",
     "output_type": "stream",
     "text": [
      "Accuracy  37 : 0.7343631089176054\n",
      "Accuracy  39 : 0.7345288776701955\n",
      "Accuracy  41 : 0.7344912029536977\n",
      "Accuracy  43 : 0.7345665523866933\n",
      "Accuracy  45 : 0.7347473910258825\n",
      "Accuracy  50 : 0.7348830200052745\n",
      "AUC Test Score: 0.5048639322647681\n"
     ]
    }
   ],
   "source": [
    "# iteration for best minimum samples split\n",
    "minsamp_list = [37, 39, 41, 43, 45, 50]\n",
    "\n",
    "for minsamp in minsamp_list:\n",
    "    \n",
    "    clf_hyper = DecisionTreeClassifier(max_depth = 15, min_samples_split = minsamp)\n",
    "    clf_hyper.fit(X_train, y_train)\n",
    "    y_preds = clf_hyper.predict(X_test)\n",
    "    print('Accuracy ', minsamp,':', accuracy_score(y_test, y_preds))\n",
    "    \n",
    "y_pred_proba = clf.predict_proba(X_test)\n",
    "auc_score = roc_auc_score(y_test, y_pred_proba,  multi_class='ovo')\n",
    "print('AUC Test Score:', auc_score)"
   ]
  },
  {
   "cell_type": "markdown",
   "metadata": {},
   "source": [
    "### min_samples_leaf"
   ]
  },
  {
   "cell_type": "code",
   "execution_count": 280,
   "metadata": {
    "scrolled": false
   },
   "outputs": [
    {
     "name": "stdout",
     "output_type": "stream",
     "text": [
      "Accuracy  37 : 0.7366612666239687\n",
      "Accuracy  39 : 0.7369551294126512\n",
      "Accuracy  41 : 0.7370982933353426\n",
      "Accuracy  43 : 0.7373017368044306\n",
      "Accuracy  45 : 0.7370907583920431\n",
      "Accuracy  50 : 0.73663866179407\n",
      "Accuracy  100 : 0.7367140112270655\n"
     ]
    }
   ],
   "source": [
    "# iteration for best minimum samples leaf \n",
    "minsamp_list = [37, 39, 41, 43, 45, 50, 100]\n",
    "\n",
    "for minsamp in minsamp_list:\n",
    "    \n",
    "    clf_hyper = DecisionTreeClassifier(max_depth = 15, min_samples_leaf = minsamp, min_samples_split = 50)\n",
    "    clf_hyper.fit(X_train, y_train)\n",
    "    y_preds = clf_hyper.predict(X_test)\n",
    "    print('Accuracy ', minsamp,':', accuracy_score(y_test, y_preds))\n",
    "    \n",
    "y_pred_proba = clf.predict_proba(X_test)\n",
    "auc_score = roc_auc_score(y_test, y_pred_proba,  multi_class='ovo')"
   ]
  },
  {
   "cell_type": "markdown",
   "metadata": {},
   "source": [
    "### Combination of Best Hyperparameters"
   ]
  },
  {
   "cell_type": "code",
   "execution_count": 281,
   "metadata": {},
   "outputs": [
    {
     "name": "stdout",
     "output_type": "stream",
     "text": [
      "Accuracy: 0.7369551294126512\n"
     ]
    }
   ],
   "source": [
    "# best model \n",
    "clf_hyper = DecisionTreeClassifier(max_depth = 15, min_samples_leaf = 39, min_samples_split = 50)\n",
    "clf_hyper.fit(X_train, y_train)\n",
    "y_preds = clf_hyper.predict(X_test)\n",
    "print('Accuracy:', accuracy_score(y_test, y_preds))"
   ]
  },
  {
   "cell_type": "markdown",
   "metadata": {},
   "source": [
    "### Final Model Scores:"
   ]
  },
  {
   "cell_type": "code",
   "execution_count": 282,
   "metadata": {},
   "outputs": [
    {
     "name": "stdout",
     "output_type": "stream",
     "text": [
      "Accuracy: 0.7369551294126512\n",
      "Precision: [0.7618553  0.6784968  0.47619048 0.49911817 0.87755102 0.62460667]\n",
      "Recall: [0.88744222 0.64541681 0.01373626 0.06338186 0.10117647 0.2373834 ]\n",
      "f1 score: [0.81986731 0.66154353 0.02670227 0.11248013 0.1814346  0.3440208 ]\n"
     ]
    }
   ],
   "source": [
    "from sklearn.metrics import classification_report, f1_score, precision_score, recall_score\n",
    "\n",
    "print('Accuracy:', accuracy_score(y_test, y_preds))\n",
    "print('Precision:', precision_score(y_test, y_preds, average=None))\n",
    "print('Recall:', recall_score(y_test, y_preds, average=None))\n",
    "print('f1 score:', f1_score(y_test, y_preds, average=None))"
   ]
  },
  {
   "cell_type": "code",
   "execution_count": 283,
   "metadata": {},
   "outputs": [
    {
     "name": "stdout",
     "output_type": "stream",
     "text": [
      "              precision    recall  f1-score   support\n",
      "\n",
      "           0       0.61      0.02      0.03     82642\n",
      "           1       0.25      0.04      0.06     34212\n",
      "           2       0.02      0.89      0.03      2184\n",
      "           3       0.03      0.01      0.01      4465\n",
      "           4       0.01      0.07      0.01       850\n",
      "           5       0.00      0.00      0.00      8362\n",
      "\n",
      "    accuracy                           0.04    132715\n",
      "   macro avg       0.15      0.17      0.03    132715\n",
      "weighted avg       0.44      0.04      0.04    132715\n",
      "\n"
     ]
    },
    {
     "name": "stderr",
     "output_type": "stream",
     "text": [
      "/Users/nechamaborisute/anaconda3/envs/learn-env/lib/python3.8/site-packages/sklearn/metrics/_classification.py:1221: UndefinedMetricWarning: Precision and F-score are ill-defined and being set to 0.0 in labels with no predicted samples. Use `zero_division` parameter to control this behavior.\n",
      "  _warn_prf(average, modifier, msg_start, len(result))\n"
     ]
    }
   ],
   "source": [
    "print(classification_report(y_test, y_pred))"
   ]
  },
  {
   "cell_type": "code",
   "execution_count": 284,
   "metadata": {
    "scrolled": true
   },
   "outputs": [
    {
     "name": "stdout",
     "output_type": "stream",
     "text": [
      "Accuracy: 0.7369551294126512\n",
      "Precision: 0.7189196393878695\n",
      "Recall: 0.7369551294126512\n",
      "f1 score: 0.7081314395173322\n"
     ]
    }
   ],
   "source": [
    "print('Accuracy:', accuracy_score(y_test, y_preds))\n",
    "print('Precision:', precision_score(y_test, y_preds, average='weighted'))\n",
    "print('Recall:', recall_score(y_test, y_preds, average='weighted'))\n",
    "print('f1 score:', f1_score(y_test, y_preds, average='weighted'))"
   ]
  },
  {
   "cell_type": "markdown",
   "metadata": {},
   "source": [
    "### Resampled and Final Model Hyperparameters Scores:"
   ]
  },
  {
   "cell_type": "code",
   "execution_count": 285,
   "metadata": {
    "scrolled": true
   },
   "outputs": [
    {
     "name": "stdout",
     "output_type": "stream",
     "text": [
      "Accuracy weighted: 0.6294917680744453\n",
      "Precision: 0.6870530498532503\n",
      "Recall: 0.6294917680744453\n",
      "f1 score: 0.6550525891287002\n"
     ]
    }
   ],
   "source": [
    "clf_resamp = DecisionTreeClassifier(max_depth = 15, min_samples_leaf = 39, min_samples_split = 50)\n",
    "\n",
    "clf_resamp.fit(X_train_resampled, y_train_resampled)\n",
    "\n",
    "y_preds_resamp = clf_resamp.predict(X_test)\n",
    "\n",
    "print('Accuracy weighted:', accuracy_score(y_test, y_preds_resamp))\n",
    "print('Precision:', precision_score(y_test, y_preds_resamp, average='weighted'))\n",
    "print('Recall:', recall_score(y_test, y_preds_resamp, average='weighted'))\n",
    "print('f1 score:', f1_score(y_test, y_preds_resamp, average='weighted'))"
   ]
  },
  {
   "cell_type": "code",
   "execution_count": 286,
   "metadata": {
    "scrolled": false
   },
   "outputs": [
    {
     "name": "stdout",
     "output_type": "stream",
     "text": [
      "              precision    recall  f1-score   support\n",
      "\n",
      "           0       0.80      0.71      0.75     82642\n",
      "           1       0.62      0.61      0.61     34212\n",
      "           2       0.05      0.16      0.08      2184\n",
      "           3       0.16      0.24      0.19      4465\n",
      "           4       0.03      0.23      0.06       850\n",
      "           5       0.39      0.29      0.33      8362\n",
      "\n",
      "    accuracy                           0.63    132715\n",
      "   macro avg       0.34      0.37      0.34    132715\n",
      "weighted avg       0.69      0.63      0.66    132715\n",
      "\n"
     ]
    }
   ],
   "source": [
    "print(classification_report(y_test, y_preds_resamp))"
   ]
  },
  {
   "cell_type": "markdown",
   "metadata": {},
   "source": [
    "### Bagging Classifier"
   ]
  },
  {
   "cell_type": "code",
   "execution_count": 288,
   "metadata": {},
   "outputs": [
    {
     "name": "stdout",
     "output_type": "stream",
     "text": [
      "Accuracy weighted: 0.6820856723053159\n",
      "Precision: [0.69667093 0.6218869  0.28070175 0.39095745 0.86734694 0.61912823]\n",
      "Recall: [0.91059026 0.39632293 0.00732601 0.03292273 0.1        0.17495814]\n",
      "f1 score: [0.78939473 0.48412032 0.01427934 0.06073125 0.17932489 0.27282051]\n"
     ]
    }
   ],
   "source": [
    "from sklearn.ensemble import BaggingClassifier\n",
    "bagging = BaggingClassifier(base_estimator=DecisionTreeClassifier(),n_estimators=10, max_samples=0.5, max_features=0.5)\n",
    "bagging.fit(X_train, y_train)\n",
    "bagging.score(X_test,y_test)\n",
    "\n",
    "y_pred = bagging.predict(X_test)\n",
    "\n",
    "print('Accuracy weighted:', accuracy_score(y_test, y_pred))\n",
    "print('Precision:', precision_score(y_test, y_pred, average=None))\n",
    "print('Recall:', recall_score(y_test, y_pred, average=None))\n",
    "print('f1 score:', f1_score(y_test, y_pred, average=None))"
   ]
  },
  {
   "cell_type": "code",
   "execution_count": 299,
   "metadata": {},
   "outputs": [
    {
     "name": "stdout",
     "output_type": "stream",
     "text": [
      "Accuracy: 0.7026937422295897\n",
      "Precision: [0.70260667 0.69463476 0.         0.         0.88349515 0.82632399]\n",
      "Precision weighted: 0.674304762831465\n",
      "Recall: [0.9403088  0.42081726 0.         0.         0.10705882 0.12688352]\n",
      "Recall weighted: 0.7026937422295897\n",
      "f1 score: [0.80426199 0.5241181  0.         0.         0.19097587 0.21998756]\n",
      "f1 score weighted: 0.6510101591929539\n"
     ]
    }
   ],
   "source": [
    "bagging = BaggingClassifier(base_estimator=DecisionTreeClassifier(max_depth = 15, min_samples_leaf = 39, min_samples_split = 50, random_state= 15),\n",
    "                            n_estimators=20, max_samples=0.5, max_features=0.5)\n",
    "bagging.fit(X_train, y_train)\n",
    "bagging.score(X_test,y_test)\n",
    "\n",
    "y_pred = bagging.predict(X_test)\n",
    "\n",
    "print('Accuracy:', accuracy_score(y_test, y_pred))\n",
    "print('Precision:', precision_score(y_test, y_pred, average=None,zero_division=0))\n",
    "print('Precision weighted:', precision_score(y_test, y_pred, average='weighted',zero_division=0))\n",
    "print('Recall:', recall_score(y_test, y_pred, average=None, zero_division=0))\n",
    "print('Recall weighted:', recall_score(y_test, y_pred, average='weighted', zero_division=0))\n",
    "print('f1 score:', f1_score(y_test, y_pred, average=None,zero_division=0))\n",
    "print('f1 score weighted:', f1_score(y_test, y_pred, average='weighted', zero_division=0))"
   ]
  },
  {
   "cell_type": "code",
   "execution_count": 300,
   "metadata": {},
   "outputs": [
    {
     "name": "stdout",
     "output_type": "stream",
     "text": [
      "Accuracy: 0.7076140602041969\n",
      "Precision: [0.70640419 0.70649965 0.         0.         0.95833333 0.81245474]\n",
      "Precision weighted: 0.6793335414091984\n",
      "Recall: [0.94137364 0.43686426 0.         0.         0.05411765 0.13417843]\n",
      "Recall weighted: 0.7076140602041969\n",
      "f1 score: [0.80713585 0.53988838 0.         0.         0.10244989 0.2303192 ]\n",
      "f1 score weighted: 0.6569490572671093\n",
      "Accuracy: 0.698639942734431\n",
      "Precision: [0.69814534 0.69247224 0.         1.         0.91891892 0.80856945]\n",
      "Precision weighted: 0.7037209555421237\n",
      "Recall: [9.42414269e-01 3.97404420e-01 0.00000000e+00 6.71892497e-04\n",
      " 8.00000000e-02 1.39918680e-01]\n",
      "Recall weighted: 0.698639942734431\n",
      "f1 score: [0.80209476 0.50499573 0.         0.00134288 0.14718615 0.23855643]\n",
      "f1 score weighted: 0.6456658398852657\n",
      "Accuracy: 0.7061974908638813\n",
      "Precision: [0.70484968 0.70563613 0.         0.72727273 0.89411765 0.80185553]\n",
      "Precision weighted: 0.7015318489939539\n",
      "Recall: [0.94299509 0.42376944 0.         0.00179171 0.08941176 0.14470222]\n",
      "Recall weighted: 0.7061974908638813\n",
      "f1 score: [0.80671408 0.52952993 0.         0.00357462 0.16256684 0.2451626 ]\n",
      "f1 score weighted: 0.6554566923798949\n",
      "Accuracy: 0.7024375541574049\n",
      "Precision: [0.70116171 0.70039573 0.         0.76470588 0.88297872 0.82537313]\n",
      "Precision weighted: 0.7005542631657026\n",
      "Recall: [0.94431403 0.40868701 0.         0.00291153 0.09764706 0.13226501]\n",
      "Recall weighted: 0.7024375541574049\n",
      "f1 score: [0.80477254 0.51617905 0.         0.00580098 0.17584746 0.22799423]\n",
      "f1 score weighted: 0.6498842560051339\n"
     ]
    }
   ],
   "source": [
    "bag_list = [20, 30, 40, 50]\n",
    "\n",
    "for bag in bag_list:\n",
    "    bagging = BaggingClassifier(base_estimator=DecisionTreeClassifier(max_depth = 15, min_samples_leaf = 39, min_samples_split = 50, random_state= 15),\n",
    "                            n_estimators=bag, max_samples=0.5, max_features=0.5)\n",
    "    bagging.fit(X_train, y_train)\n",
    "    bagging.score(X_test,y_test)\n",
    "\n",
    "    y_pred = bagging.predict(X_test)\n",
    "\n",
    "    print('Accuracy:', accuracy_score(y_test, y_pred))\n",
    "    print('Precision:', precision_score(y_test, y_pred, average=None,zero_division=0))\n",
    "    print('Precision weighted:', precision_score(y_test, y_pred, average='weighted',zero_division=0))\n",
    "    print('Recall:', recall_score(y_test, y_pred, average=None, zero_division=0))\n",
    "    print('Recall weighted:', recall_score(y_test, y_pred, average='weighted', zero_division=0))\n",
    "    print('f1 score:', f1_score(y_test, y_pred, average=None,zero_division=0))\n",
    "    print('f1 score weighted:', f1_score(y_test, y_pred, average='weighted', zero_division=0))"
   ]
  },
  {
   "cell_type": "code",
   "execution_count": 289,
   "metadata": {},
   "outputs": [
    {
     "name": "stdout",
     "output_type": "stream",
     "text": [
      "Accuracy weighted: 0.6383980710545153\n",
      "Precision: [0.76249634 0.54740374 0.06939338 0.18707483 0.14570552 0.34124773]\n",
      "Recall: [0.72412333 0.61042909 0.06913919 0.20940649 0.11176471 0.33688113]\n",
      "f1 score: [0.74281458 0.57720106 0.06926606 0.19761175 0.126498   0.33905037]\n"
     ]
    }
   ],
   "source": [
    "bagging = BaggingClassifier(base_estimator=DecisionTreeClassifier(),n_estimators=10, max_samples=0.5, max_features=0.5)\n",
    "bagging.fit(X_train_resampled, y_train_resampled)\n",
    "bagging.score(X_test,y_test)\n",
    "\n",
    "y_pred = bagging.predict(X_test)\n",
    "\n",
    "print('Accuracy weighted:', accuracy_score(y_test, y_pred))\n",
    "print('Precision:', precision_score(y_test, y_pred, average=None))\n",
    "print('Recall:', recall_score(y_test, y_pred, average=None))\n",
    "print('f1 score:', f1_score(y_test, y_pred, average=None))"
   ]
  },
  {
   "cell_type": "markdown",
   "metadata": {},
   "source": [
    "### Random Forests"
   ]
  },
  {
   "cell_type": "code",
   "execution_count": 301,
   "metadata": {
    "scrolled": false
   },
   "outputs": [
    {
     "name": "stdout",
     "output_type": "stream",
     "text": [
      "-----------------------------------------\n",
      "n_estimators 20\n",
      "Accuracy: 0.7335342651546547\n",
      "Precision: [0.75521559 0.68046617 0.33333333 0.49183303 0.8203125  0.64084279]\n",
      "Precision weighted: 0.7133531487582512\n",
      "Recall: [0.89183466 0.62121478 0.01923077 0.06069429 0.12352941 0.23642669]\n",
      "Recall weighted: 0.7335342651546547\n",
      "f1 score: [0.81785901 0.64949194 0.03636364 0.10805423 0.21472393 0.34541801]\n",
      "f1 score weighted: 0.7040854707233731\n",
      "-----------------------------------------\n",
      "n_estimators 30\n",
      "Accuracy: 0.7365331725878763\n",
      "Precision: [0.75788716 0.6831561  0.37254902 0.52559055 0.8559322  0.65173645]\n",
      "Precision weighted: 0.7184057479943771\n",
      "Recall: [0.89240338 0.63091898 0.01739927 0.05979843 0.11882353 0.24013394]\n",
      "Recall weighted: 0.7365331725878763\n",
      "f1 score: [0.81966302 0.65599927 0.03324584 0.10737985 0.20867769 0.35095692]\n",
      "f1 score weighted: 0.7071226024164001\n",
      "-----------------------------------------\n",
      "n_estimators 40\n",
      "Accuracy: 0.7388690050107373\n",
      "Precision: [0.75983458 0.68508913 0.40816327 0.55555556 0.86206897 0.66446281]\n",
      "Precision weighted: 0.7225520809173405\n",
      "Recall: [0.89375862 0.63696948 0.01831502 0.05711086 0.11764706 0.24037312]\n",
      "Recall weighted: 0.7388690050107373\n",
      "f1 score: [0.82137337 0.66015359 0.03505697 0.10357433 0.20703934 0.35303416]\n",
      "f1 score weighted: 0.7092807233775508\n",
      "-----------------------------------------\n",
      "n_estimators 50\n",
      "Accuracy: 0.7393211016087103\n",
      "Precision: [0.75977177 0.68634128 0.42696629 0.58888889 0.84166667 0.66579805]\n",
      "Precision weighted: 0.7242200925710528\n",
      "Recall: [0.89425474 0.63626798 0.01739927 0.0593505  0.11882353 0.24443913]\n",
      "Recall weighted: 0.7393211016087103\n",
      "f1 score: [0.82154609 0.66035675 0.03343599 0.10783316 0.20824742 0.35759272]\n",
      "f1 score weighted: 0.7098522175842003\n"
     ]
    }
   ],
   "source": [
    "from sklearn.ensemble import RandomForestClassifier\n",
    "forest_list = [20, 30, 40, 50]\n",
    "\n",
    "for forest_not_tree in forest_list:\n",
    "\n",
    "    clf = RandomForestClassifier(n_estimators=forest_not_tree, max_depth=None,  min_samples_split=2, random_state=0)\n",
    "    clf.fit(X_train, y_train)\n",
    "    clf.score(X_test,y_test)\n",
    "    y_pred = clf.predict(X_test)\n",
    "    \n",
    "    print('-----------------------------------------')\n",
    "    print('n_estimators', forest_not_tree)\n",
    "    print('Accuracy:', accuracy_score(y_test, y_pred))\n",
    "    print('Precision:', precision_score(y_test, y_pred, average=None,zero_division=0))\n",
    "    print('Precision weighted:', precision_score(y_test, y_pred, average='weighted',zero_division=0))\n",
    "    print('Recall:', recall_score(y_test, y_pred, average=None, zero_division=0))\n",
    "    print('Recall weighted:', recall_score(y_test, y_pred, average='weighted', zero_division=0))\n",
    "    print('f1 score:', f1_score(y_test, y_pred, average=None,zero_division=0))\n",
    "    print('f1 score weighted:', f1_score(y_test, y_pred, average='weighted', zero_division=0))"
   ]
  },
  {
   "cell_type": "code",
   "execution_count": 302,
   "metadata": {
    "scrolled": false
   },
   "outputs": [
    {
     "name": "stdout",
     "output_type": "stream",
     "text": [
      "-----------------------------------------\n",
      "n_estimators 60\n",
      "Accuracy: 0.7397053837169876\n",
      "Precision: [0.7605135  0.68553341 0.42528736 0.59330144 0.85470085 0.66830709]\n",
      "Precision weighted: 0.7248361063060056\n",
      "Recall: [0.89390383 0.6393663  0.01694139 0.05554311 0.11764706 0.24360201]\n",
      "Recall weighted: 0.7397053837169876\n",
      "f1 score: [0.82183125 0.66164549 0.03258476 0.1015769  0.20682523 0.35705521]\n",
      "f1 score weighted: 0.7100945392026309\n",
      "-----------------------------------------\n",
      "n_estimators 70\n",
      "Accuracy: 0.7410390686810082\n",
      "Precision: [0.76136913 0.68780365 0.4556962  0.59330144 0.85964912 0.67293729]\n",
      "Precision weighted: 0.7267779929097239\n",
      "Recall: [0.89522277 0.64138314 0.01648352 0.05554311 0.11529412 0.24384119]\n",
      "Recall weighted: 0.7410390686810082\n",
      "f1 score: [0.82288822 0.6637828  0.03181617 0.1015769  0.2033195  0.35797051]\n",
      "f1 score weighted: 0.711326256071441\n",
      "-----------------------------------------\n",
      "n_estimators 80\n",
      "Accuracy: 0.7410692084542064\n",
      "Precision: [0.76115963 0.68868398 0.44871795 0.58880779 0.85964912 0.67140496]\n",
      "Precision weighted: 0.7265119062791847\n",
      "Recall: [0.89527117 0.64182158 0.01602564 0.05419933 0.11529412 0.24288448]\n",
      "Recall weighted: 0.7410692084542064\n",
      "f1 score: [0.82278629 0.6644275  0.03094607 0.09926169 0.2033195  0.35672258]\n",
      "f1 score weighted: 0.7112581356110489\n"
     ]
    }
   ],
   "source": [
    "forest_list = [60,70,80]\n",
    "\n",
    "for forest_not_tree in forest_list:\n",
    "\n",
    "    clf = RandomForestClassifier(n_estimators=forest_not_tree, max_depth=None,  min_samples_split=2, random_state=0)\n",
    "    clf.fit(X_train, y_train)\n",
    "    clf.score(X_test,y_test)\n",
    "    y_pred = clf.predict(X_test)\n",
    "    \n",
    "    print('-----------------------------------------')\n",
    "    print('n_estimators', forest_not_tree)\n",
    "    print('Accuracy:', accuracy_score(y_test, y_pred))\n",
    "    print('Precision:', precision_score(y_test, y_pred, average=None,zero_division=0))\n",
    "    print('Precision weighted:', precision_score(y_test, y_pred, average='weighted',zero_division=0))\n",
    "    print('Recall:', recall_score(y_test, y_pred, average=None, zero_division=0))\n",
    "    print('Recall weighted:', recall_score(y_test, y_pred, average='weighted', zero_division=0))\n",
    "    print('f1 score:', f1_score(y_test, y_pred, average=None,zero_division=0))\n",
    "    print('f1 score weighted:', f1_score(y_test, y_pred, average='weighted', zero_division=0))"
   ]
  },
  {
   "cell_type": "code",
   "execution_count": 303,
   "metadata": {
    "scrolled": false
   },
   "outputs": [
    {
     "name": "stdout",
     "output_type": "stream",
     "text": [
      "-----------------------------------------\n",
      "n_estimators 90\n",
      "Accuracy: 0.7417398184078665\n",
      "Precision: [0.76171071 0.689599   0.44578313 0.58711217 0.86607143 0.67487521]\n",
      "Precision weighted: 0.7272453818223323\n",
      "Recall: [0.89567048 0.64339998 0.01694139 0.05509518 0.11411765 0.24252571]\n",
      "Recall weighted: 0.7417398184078665\n",
      "f1 score: [0.82327687 0.66569891 0.03264226 0.1007371  0.2016632  0.35682238]\n",
      "f1 score weighted: 0.7119646027554243\n",
      "-----------------------------------------\n",
      "n_estimators 100\n",
      "Accuracy: 0.7416644689748709\n",
      "Precision: [0.76162557 0.6892409  0.44871795 0.60635697 0.87387387 0.67340849]\n",
      "Precision weighted: 0.7277533735138986\n",
      "Recall: [0.89598509 0.64226003 0.01602564 0.05554311 0.11411765 0.24288448]\n",
      "Recall weighted: 0.7416644689748709\n",
      "f1 score: [0.82336    0.66492162 0.03094607 0.10176446 0.20187305 0.35700475]\n",
      "f1 score weighted: 0.7118354835521986\n",
      "-----------------------------------------\n",
      "n_estimators 110\n",
      "Accuracy: 0.7417850280676638\n",
      "Precision: [0.76181949 0.68895012 0.43243243 0.60391198 0.85087719 0.67784789]\n",
      "Precision weighted: 0.727581336354818\n",
      "Recall: [0.89574308 0.64313691 0.01465201 0.05531915 0.11411765 0.24408036]\n",
      "Recall weighted: 0.7417850280676638\n",
      "f1 score: [0.82337108 0.66525571 0.02834367 0.10135412 0.20124481 0.35892025]\n",
      "f1 score weighted: 0.7119885380158092\n",
      "-----------------------------------------\n",
      "n_estimators 120\n",
      "Accuracy: 0.7419357269336548\n",
      "Precision: [0.76193172 0.68865799 0.47761194 0.61298077 0.85087719 0.6816218 ]\n",
      "Precision weighted: 0.7288622904805947\n",
      "Recall: [0.89575519 0.64316614 0.01465201 0.05711086 0.11411765 0.24527625]\n",
      "Recall weighted: 0.7419357269336548\n",
      "f1 score: [0.82344173 0.66513512 0.02843181 0.10448679 0.20124481 0.36074224]\n",
      "f1 score weighted: 0.7122230913857046\n"
     ]
    }
   ],
   "source": [
    "forest_list = [90, 100, 110, 120]\n",
    "\n",
    "for forest_not_tree in forest_list:\n",
    "\n",
    "    clf = RandomForestClassifier(n_estimators=forest_not_tree, max_depth=None,  min_samples_split=2, random_state=0)\n",
    "    clf.fit(X_train, y_train)\n",
    "    clf.score(X_test,y_test)\n",
    "    y_pred = clf.predict(X_test)\n",
    "    \n",
    "    print('-----------------------------------------')\n",
    "    print('n_estimators', forest_not_tree)\n",
    "    print('Accuracy:', accuracy_score(y_test, y_pred))\n",
    "    print('Precision:', precision_score(y_test, y_pred, average=None,zero_division=0))\n",
    "    print('Precision weighted:', precision_score(y_test, y_pred, average='weighted',zero_division=0))\n",
    "    print('Recall:', recall_score(y_test, y_pred, average=None, zero_division=0))\n",
    "    print('Recall weighted:', recall_score(y_test, y_pred, average='weighted', zero_division=0))\n",
    "    print('f1 score:', f1_score(y_test, y_pred, average=None,zero_division=0))\n",
    "    print('f1 score weighted:', f1_score(y_test, y_pred, average='weighted', zero_division=0))"
   ]
  },
  {
   "cell_type": "markdown",
   "metadata": {},
   "source": [
    "### Best number of estimators model"
   ]
  },
  {
   "cell_type": "code",
   "execution_count": 317,
   "metadata": {},
   "outputs": [
    {
     "name": "stdout",
     "output_type": "stream",
     "text": [
      "-----------------------------------------\n",
      "n_estimators\n",
      "Accuracy: 0.7419357269336548\n",
      "Precision: [0.76193172 0.68865799 0.47761194 0.61298077 0.85087719 0.6816218 ]\n",
      "Precision weighted: 0.7288622904805947\n",
      "Recall: [0.89575519 0.64316614 0.01465201 0.05711086 0.11411765 0.24527625]\n",
      "Recall weighted: 0.7419357269336548\n",
      "f1 score: [0.82344173 0.66513512 0.02843181 0.10448679 0.20124481 0.36074224]\n",
      "f1 score weighted: 0.7122230913857046\n"
     ]
    }
   ],
   "source": [
    "clf_final = RandomForestClassifier(n_estimators=120, max_depth=None,  min_samples_split=2, random_state=0)\n",
    "clf_final.fit(X_train, y_train)\n",
    "clf_final.score(X_test,y_test)\n",
    "y_pred = clf_final.predict(X_test)\n",
    "\n",
    "print('-----------------------------------------')\n",
    "print('n_estimators')\n",
    "print('Accuracy:', accuracy_score(y_test, y_pred))\n",
    "print('Precision:', precision_score(y_test, y_pred, average=None,zero_division=0))\n",
    "print('Precision weighted:', precision_score(y_test, y_pred, average='weighted',zero_division=0))\n",
    "print('Recall:', recall_score(y_test, y_pred, average=None, zero_division=0))\n",
    "print('Recall weighted:', recall_score(y_test, y_pred, average='weighted', zero_division=0))\n",
    "print('f1 score:', f1_score(y_test, y_pred, average=None,zero_division=0))\n",
    "print('f1 score weighted:', f1_score(y_test, y_pred, average='weighted', zero_division=0))"
   ]
  },
  {
   "cell_type": "markdown",
   "metadata": {},
   "source": [
    "### Confusion Matrix"
   ]
  },
  {
   "cell_type": "code",
   "execution_count": 323,
   "metadata": {},
   "outputs": [
    {
     "data": {
      "image/png": "[encoded data removed]",
      "text/plain": [
       "<Figure size 432x288 with 2 Axes>"
      ]
     },
     "metadata": {
      "needs_background": "light"
     },
     "output_type": "display_data"
    }
   ],
   "source": [
    "# confusion matrix\n",
    "from sklearn.metrics import ConfusionMatrixDisplay\n",
    "cm = confusion_matrix(y_test, y_pred)\n",
    "cm_display = ConfusionMatrixDisplay(cm)\n",
    "cm_display.plot()\n",
    "plt.title('Confusion Matrix')\n",
    "plt.savefig('../images/cm_randomforest.png')\n",
    "plt.show()"
   ]
  },
  {
   "cell_type": "markdown",
   "metadata": {},
   "source": [
    "- Class 0 (Bad Driving) and Class 1 (Breaking Laws) have most true positive predictions, although they do often get confused with one another. \n",
    "- With Class 2 (Ouutside Factors) and Class 4 (Distraction inside vehicle) on the other hand, the classifer only got confused between them once. "
   ]
  },
  {
   "cell_type": "markdown",
   "metadata": {},
   "source": [
    "### Roc Curve and AUC"
   ]
  },
  {
   "cell_type": "code",
   "execution_count": 322,
   "metadata": {
    "scrolled": false
   },
   "outputs": [
    {
     "data": {
      "image/png": "[encoded data removed]",
      "text/plain": [
       "<Figure size 432x288 with 1 Axes>"
      ]
     },
     "metadata": {
      "needs_background": "light"
     },
     "output_type": "display_data"
    }
   ],
   "source": [
    "# roc curve and auc score\n",
    "from sklearn.metrics import roc_curve, auc\n",
    "import matplotlib.pyplot as plt\n",
    "from sklearn.preprocessing import label_binarize\n",
    "\n",
    "y_scores = clf_final.predict_proba(X_test)\n",
    "n_classes = len(clf_final.classes_)\n",
    "\n",
    "# Binarize the labels\n",
    "y_test_bin = label_binarize(y_test, classes=clf_final.classes_)\n",
    "\n",
    "# Calculate the false positive rate, true positive rate, and AUC for each class\n",
    "fpr = dict()\n",
    "tpr = dict()\n",
    "roc_auc = dict()\n",
    "for i in range(n_classes):\n",
    "    fpr[i], tpr[i], _ = roc_curve(y_test_bin[:, i], y_scores[:, i])\n",
    "    roc_auc[i] = auc(fpr[i], tpr[i])\n",
    "\n",
    "# Plot the ROC curves\n",
    "plt.figure()\n",
    "for i in range(n_classes):\n",
    "    plt.plot(fpr[i], tpr[i], label=f'Class {i} (AUC = {roc_auc[i]:.2f})')\n",
    "plt.plot([0, 1], [0, 1], 'r--')\n",
    "plt.xlim([0, 1])\n",
    "plt.ylim([0, 1.05])\n",
    "plt.xlabel('False Positive Rate')\n",
    "plt.ylabel('True Positive Rate')\n",
    "plt.title('Receiver Operating Characteristic')\n",
    "plt.legend(loc=\"lower right\")\n",
    "plt.savefig('../images/roc_randomforest.png')\n",
    "plt.show()"
   ]
  },
  {
   "cell_type": "markdown",
   "metadata": {},
   "source": [
    "- The higher the AUC (Area Under the Curve), the better the model performance. In this case it separates the performance by each class and we see that Class 1 (Breaking Laws) is predicted with the highest accuracy. "
   ]
  },
  {
   "cell_type": "markdown",
   "metadata": {},
   "source": [
    "### Evaluation\n",
    "\n",
    "- The classifier that performed the best was the Random Forest Classifier, with 120 estimators it reached 74% accuracy."
   ]
  }
 ],
 "metadata": {
  "kernelspec": {
   "display_name": "Python (learn-env)",
   "language": "python",
   "name": "learn-env"
  },
  "language_info": {
   "codemirror_mode": {
    "name": "ipython",
    "version": 3
   },
   "file_extension": ".py",
   "mimetype": "text/x-python",
   "name": "python",
   "nbconvert_exporter": "python",
   "pygments_lexer": "ipython3",
   "version": "3.8.5"
  }
 },
 "nbformat": 4,
 "nbformat_minor": 4
}
