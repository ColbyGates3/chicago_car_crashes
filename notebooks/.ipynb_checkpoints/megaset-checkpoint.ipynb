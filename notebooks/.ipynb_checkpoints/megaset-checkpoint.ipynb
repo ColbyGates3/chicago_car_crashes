{
 "cells": [
  {
   "cell_type": "code",
   "execution_count": 2,
   "id": "5d932bd3",
   "metadata": {},
   "outputs": [],
   "source": [
    "import pandas as pd\n",
    "import os"
   ]
  },
  {
   "cell_type": "code",
   "execution_count": 3,
   "id": "51044a45",
   "metadata": {},
   "outputs": [
    {
     "data": {
      "text/plain": [
       "'/Users/juank/Documents/Flatiron/phase_3/chicago_car_crashes/notebooks'"
      ]
     },
     "execution_count": 3,
     "metadata": {},
     "output_type": "execute_result"
    }
   ],
   "source": [
    "os.getcwd()"
   ]
  },
  {
   "cell_type": "code",
   "execution_count": 4,
   "id": "9c00593f",
   "metadata": {},
   "outputs": [
    {
     "data": {
      "text/plain": [
       "['.vehicles_cleaned.csv.icloud',\n",
       " '.DS_Store',\n",
       " '.crashes_cleaned.csv.icloud',\n",
       " 'people_cleaned.csv',\n",
       " '.crashes_people.csv.icloud',\n",
       " '.crashes_crashes.csv.icloud',\n",
       " '.crashes_vehicles.csv.icloud']"
      ]
     },
     "execution_count": 4,
     "metadata": {},
     "output_type": "execute_result"
    }
   ],
   "source": [
    "os.listdir('../data')"
   ]
  },
  {
   "cell_type": "code",
   "execution_count": null,
   "id": "678b2888",
   "metadata": {},
   "outputs": [],
   "source": [
    "vehicles_cleaned = '../data/vehicles_cleaned.csv'\n",
    "crashes_cleaned = '../data/crashes_cleaned.csv'\n",
    "people_cleaned = '../data/people_cleaned.csv'"
   ]
  },
  {
   "cell_type": "code",
   "execution_count": null,
   "id": "8dd1eff3",
   "metadata": {},
   "outputs": [],
   "source": [
    "megaset = crashes_cleaned.merge(people_cleaned, left_on = 'CRASH_RECORD_ID', right_on = 'CRASH_RECORD_ID' )\n",
    "megaset = megaset.merge(vehicles_cleaned, left_on = 'CRASH_RECORD_ID', right_on = 'CRASH_RECORD_ID')"
   ]
  }
 ],
 "metadata": {
  "kernelspec": {
   "display_name": "learn-env",
   "language": "python",
   "name": "myenv"
  },
  "language_info": {
   "codemirror_mode": {
    "name": "ipython",
    "version": 3
   },
   "file_extension": ".py",
   "mimetype": "text/x-python",
   "name": "python",
   "nbconvert_exporter": "python",
   "pygments_lexer": "ipython3",
   "version": "3.11.5"
  }
 },
 "nbformat": 4,
 "nbformat_minor": 5
}
