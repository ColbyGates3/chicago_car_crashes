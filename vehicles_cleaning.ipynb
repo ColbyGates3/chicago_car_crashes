{
 "cells": [
  {
   "cell_type": "code",
   "execution_count": 114,
   "id": "32a09133",
   "metadata": {},
   "outputs": [],
   "source": [
    "import pandas as pd\n",
    "import numpy as np\n",
    "import matplotlib.pyplot as plt\n",
    "import seaborn as sns\n",
    "import os \n",
    "import warnings\n",
    "warnings.filterwarnings('ignore')\n",
    "%matplotlib inline"
   ]
  },
  {
   "cell_type": "code",
   "execution_count": 115,
   "id": "7e81d6e1",
   "metadata": {},
   "outputs": [
    {
     "data": {
      "text/plain": [
       "'/Users/juank/Documents/Flatiron/phase_3/chicago_car_crashes'"
      ]
     },
     "execution_count": 115,
     "metadata": {},
     "output_type": "execute_result"
    }
   ],
   "source": [
    "os.getcwd()"
   ]
  },
  {
   "cell_type": "code",
   "execution_count": 116,
   "id": "efb5e437",
   "metadata": {},
   "outputs": [
    {
     "data": {
      "text/plain": [
       "['crashes_vehicles.csv',\n",
       " '.crashes_people.csv.icloud',\n",
       " '.crashes_crashes.csv.icloud']"
      ]
     },
     "execution_count": 116,
     "metadata": {},
     "output_type": "execute_result"
    }
   ],
   "source": [
    "os.listdir('data')"
   ]
  },
  {
   "cell_type": "code",
   "execution_count": 117,
   "id": "ed08a2e0",
   "metadata": {},
   "outputs": [],
   "source": [
    "# crashes = pd.read_csv('data/crashes_crashes.csv')\n",
    "vehicles = pd.read_csv('data/crashes_vehicles.csv')\n",
    "# people = pd.read_csv('data/crashes_people.csv')"
   ]
  },
  {
   "cell_type": "code",
   "execution_count": 118,
   "id": "a666903f",
   "metadata": {},
   "outputs": [
    {
     "name": "stdout",
     "output_type": "stream",
     "text": [
      "<class 'pandas.core.frame.DataFrame'>\n",
      "RangeIndex: 1629817 entries, 0 to 1629816\n",
      "Data columns (total 71 columns):\n",
      " #   Column                    Non-Null Count    Dtype  \n",
      "---  ------                    --------------    -----  \n",
      " 0   CRASH_UNIT_ID             1629817 non-null  int64  \n",
      " 1   CRASH_RECORD_ID           1629817 non-null  object \n",
      " 2   CRASH_DATE                1629817 non-null  object \n",
      " 3   UNIT_NO                   1629817 non-null  int64  \n",
      " 4   UNIT_TYPE                 1627714 non-null  object \n",
      " 5   NUM_PASSENGERS            241187 non-null   float64\n",
      " 6   VEHICLE_ID                1592521 non-null  float64\n",
      " 7   CMRC_VEH_I                30341 non-null    object \n",
      " 8   MAKE                      1592516 non-null  object \n",
      " 9   MODEL                     1592371 non-null  object \n",
      " 10  LIC_PLATE_STATE           1446619 non-null  object \n",
      " 11  VEHICLE_YEAR              1336168 non-null  float64\n",
      " 12  VEHICLE_DEFECT            1592521 non-null  object \n",
      " 13  VEHICLE_TYPE              1592521 non-null  object \n",
      " 14  VEHICLE_USE               1592521 non-null  object \n",
      " 15  TRAVEL_DIRECTION          1592521 non-null  object \n",
      " 16  MANEUVER                  1592521 non-null  object \n",
      " 17  TOWED_I                   201736 non-null   object \n",
      " 18  FIRE_I                    1335 non-null     object \n",
      " 19  OCCUPANT_CNT              1592521 non-null  float64\n",
      " 20  EXCEED_SPEED_LIMIT_I      2397 non-null     object \n",
      " 21  TOWED_BY                  151569 non-null   object \n",
      " 22  TOWED_TO                  93138 non-null    object \n",
      " 23  AREA_00_I                 56241 non-null    object \n",
      " 24  AREA_01_I                 435129 non-null   object \n",
      " 25  AREA_02_I                 259046 non-null   object \n",
      " 26  AREA_03_I                 155986 non-null   object \n",
      " 27  AREA_04_I                 155761 non-null   object \n",
      " 28  AREA_05_I                 241965 non-null   object \n",
      " 29  AREA_06_I                 254551 non-null   object \n",
      " 30  AREA_07_I                 234923 non-null   object \n",
      " 31  AREA_08_I                 233409 non-null   object \n",
      " 32  AREA_09_I                 108041 non-null   object \n",
      " 33  AREA_10_I                 157118 non-null   object \n",
      " 34  AREA_11_I                 304825 non-null   object \n",
      " 35  AREA_12_I                 298541 non-null   object \n",
      " 36  AREA_99_I                 183342 non-null   object \n",
      " 37  FIRST_CONTACT_POINT       1589408 non-null  object \n",
      " 38  CMV_ID                    16649 non-null    float64\n",
      " 39  USDOT_NO                  9379 non-null     object \n",
      " 40  CCMC_NO                   2003 non-null     object \n",
      " 41  ILCC_NO                   1387 non-null     object \n",
      " 42  COMMERCIAL_SRC            11086 non-null    object \n",
      " 43  GVWR                      9306 non-null     object \n",
      " 44  CARRIER_NAME              15914 non-null    object \n",
      " 45  CARRIER_STATE             14940 non-null    object \n",
      " 46  CARRIER_CITY              14654 non-null    object \n",
      " 47  HAZMAT_PLACARDS_I         323 non-null      object \n",
      " 48  HAZMAT_NAME               59 non-null       object \n",
      " 49  UN_NO                     565 non-null      object \n",
      " 50  HAZMAT_PRESENT_I          12140 non-null    object \n",
      " 51  HAZMAT_REPORT_I           11800 non-null    object \n",
      " 52  HAZMAT_REPORT_NO          1 non-null        object \n",
      " 53  MCS_REPORT_I              11847 non-null    object \n",
      " 54  MCS_REPORT_NO             7 non-null        object \n",
      " 55  HAZMAT_VIO_CAUSE_CRASH_I  11962 non-null    object \n",
      " 56  MCS_VIO_CAUSE_CRASH_I     11757 non-null    object \n",
      " 57  IDOT_PERMIT_NO            906 non-null      object \n",
      " 58  WIDE_LOAD_I               144 non-null      object \n",
      " 59  TRAILER1_WIDTH            2866 non-null     object \n",
      " 60  TRAILER2_WIDTH            341 non-null      object \n",
      " 61  TRAILER1_LENGTH           2317 non-null     float64\n",
      " 62  TRAILER2_LENGTH           67 non-null       float64\n",
      " 63  TOTAL_VEHICLE_LENGTH      2824 non-null     float64\n",
      " 64  AXLE_CNT                  4224 non-null     float64\n",
      " 65  VEHICLE_CONFIG            13801 non-null    object \n",
      " 66  CARGO_BODY_TYPE           13184 non-null    object \n",
      " 67  LOAD_TYPE                 12607 non-null    object \n",
      " 68  HAZMAT_OUT_OF_SERVICE_I   11450 non-null    object \n",
      " 69  MCS_OUT_OF_SERVICE_I      11701 non-null    object \n",
      " 70  HAZMAT_CLASS              1077 non-null     object \n",
      "dtypes: float64(9), int64(2), object(60)\n",
      "memory usage: 882.9+ MB\n"
     ]
    }
   ],
   "source": [
    "vehicles.info()"
   ]
  },
  {
   "cell_type": "markdown",
   "id": "05f0071b",
   "metadata": {},
   "source": [
    "## Drop columns with over a million NaNs"
   ]
  },
  {
   "cell_type": "code",
   "execution_count": 119,
   "id": "e0d7b299",
   "metadata": {},
   "outputs": [
    {
     "data": {
      "text/plain": [
       "Index(['CRASH_UNIT_ID', 'CRASH_RECORD_ID', 'CRASH_DATE', 'UNIT_NO',\n",
       "       'UNIT_TYPE', 'VEHICLE_ID', 'MAKE', 'MODEL', 'LIC_PLATE_STATE',\n",
       "       'VEHICLE_YEAR', 'VEHICLE_DEFECT', 'VEHICLE_TYPE', 'VEHICLE_USE',\n",
       "       'TRAVEL_DIRECTION', 'MANEUVER', 'OCCUPANT_CNT', 'FIRST_CONTACT_POINT'],\n",
       "      dtype='object')"
      ]
     },
     "execution_count": 119,
     "metadata": {},
     "output_type": "execute_result"
    }
   ],
   "source": [
    "nan_count = vehicles.isna().sum()\n",
    "\n",
    "useful_columns = nan_count[nan_count < 1_000_000].index\n",
    "useful_columns"
   ]
  },
  {
   "cell_type": "code",
   "execution_count": 120,
   "id": "392fc243",
   "metadata": {},
   "outputs": [
    {
     "data": {
      "text/html": [
       "<div>\n",
       "<style scoped>\n",
       "    .dataframe tbody tr th:only-of-type {\n",
       "        vertical-align: middle;\n",
       "    }\n",
       "\n",
       "    .dataframe tbody tr th {\n",
       "        vertical-align: top;\n",
       "    }\n",
       "\n",
       "    .dataframe thead th {\n",
       "        text-align: right;\n",
       "    }\n",
       "</style>\n",
       "<table border=\"1\" class=\"dataframe\">\n",
       "  <thead>\n",
       "    <tr style=\"text-align: right;\">\n",
       "      <th></th>\n",
       "      <th>CRASH_UNIT_ID</th>\n",
       "      <th>CRASH_RECORD_ID</th>\n",
       "      <th>CRASH_DATE</th>\n",
       "      <th>UNIT_NO</th>\n",
       "      <th>UNIT_TYPE</th>\n",
       "      <th>VEHICLE_ID</th>\n",
       "      <th>MAKE</th>\n",
       "      <th>MODEL</th>\n",
       "      <th>LIC_PLATE_STATE</th>\n",
       "      <th>VEHICLE_YEAR</th>\n",
       "      <th>VEHICLE_DEFECT</th>\n",
       "      <th>VEHICLE_TYPE</th>\n",
       "      <th>VEHICLE_USE</th>\n",
       "      <th>TRAVEL_DIRECTION</th>\n",
       "      <th>MANEUVER</th>\n",
       "      <th>OCCUPANT_CNT</th>\n",
       "      <th>FIRST_CONTACT_POINT</th>\n",
       "    </tr>\n",
       "  </thead>\n",
       "  <tbody>\n",
       "    <tr>\n",
       "      <th>312623</th>\n",
       "      <td>1282028</td>\n",
       "      <td>9cd7f3d754b1e2ff23bb1492ec9f7a56cbdca298353913...</td>\n",
       "      <td>02/15/2022 12:50:00 PM</td>\n",
       "      <td>1</td>\n",
       "      <td>DRIVER</td>\n",
       "      <td>1217277.0</td>\n",
       "      <td>FORD</td>\n",
       "      <td>OTHER (EXPLAIN IN NARRATIVE)</td>\n",
       "      <td>IL</td>\n",
       "      <td>2014.0</td>\n",
       "      <td>UNKNOWN</td>\n",
       "      <td>PICKUP</td>\n",
       "      <td>PERSONAL</td>\n",
       "      <td>W</td>\n",
       "      <td>BACKING</td>\n",
       "      <td>1.0</td>\n",
       "      <td>UNKNOWN</td>\n",
       "    </tr>\n",
       "    <tr>\n",
       "      <th>621264</th>\n",
       "      <td>1579868</td>\n",
       "      <td>1f9ed8daeeced062e3a60afcb01a3f1627dcfe36c27ee7...</td>\n",
       "      <td>05/17/2023 03:00:00 PM</td>\n",
       "      <td>1</td>\n",
       "      <td>DRIVER</td>\n",
       "      <td>1503088.0</td>\n",
       "      <td>CHEVROLET</td>\n",
       "      <td>SILVERADO</td>\n",
       "      <td>IL</td>\n",
       "      <td>2017.0</td>\n",
       "      <td>UNKNOWN</td>\n",
       "      <td>TRUCK - SINGLE UNIT</td>\n",
       "      <td>UNKNOWN/NA</td>\n",
       "      <td>W</td>\n",
       "      <td>PASSING/OVERTAKING</td>\n",
       "      <td>1.0</td>\n",
       "      <td>UNKNOWN</td>\n",
       "    </tr>\n",
       "    <tr>\n",
       "      <th>202899</th>\n",
       "      <td>1176969</td>\n",
       "      <td>3cd01fa18cea17f89fff105624036ab459f46b81b63e68...</td>\n",
       "      <td>09/05/2021 03:55:00 AM</td>\n",
       "      <td>1</td>\n",
       "      <td>DRIVER</td>\n",
       "      <td>1116541.0</td>\n",
       "      <td>CHEVROLET</td>\n",
       "      <td>MALIBU</td>\n",
       "      <td>IL</td>\n",
       "      <td>2013.0</td>\n",
       "      <td>NONE</td>\n",
       "      <td>PASSENGER</td>\n",
       "      <td>PERSONAL</td>\n",
       "      <td>E</td>\n",
       "      <td>STRAIGHT AHEAD</td>\n",
       "      <td>1.0</td>\n",
       "      <td>FRONT-LEFT-CORNER</td>\n",
       "    </tr>\n",
       "    <tr>\n",
       "      <th>827519</th>\n",
       "      <td>22014</td>\n",
       "      <td>0dfb5e84dd2f1b107e39da5656792c8861cba41f434995...</td>\n",
       "      <td>01/09/2016 02:10:00 PM</td>\n",
       "      <td>1</td>\n",
       "      <td>DRIVER</td>\n",
       "      <td>21198.0</td>\n",
       "      <td>DODGE</td>\n",
       "      <td>CARAVAN</td>\n",
       "      <td>IL</td>\n",
       "      <td>2005.0</td>\n",
       "      <td>UNKNOWN</td>\n",
       "      <td>VAN/MINI-VAN</td>\n",
       "      <td>UNKNOWN/NA</td>\n",
       "      <td>E</td>\n",
       "      <td>BACKING</td>\n",
       "      <td>2.0</td>\n",
       "      <td>REAR-RIGHT</td>\n",
       "    </tr>\n",
       "    <tr>\n",
       "      <th>889391</th>\n",
       "      <td>28022</td>\n",
       "      <td>08e4960ec978f3fbef25a1561e7d228cda66d67829fd95...</td>\n",
       "      <td>02/01/2016 04:00:00 AM</td>\n",
       "      <td>1</td>\n",
       "      <td>DRIVER</td>\n",
       "      <td>27057.0</td>\n",
       "      <td>DODGE</td>\n",
       "      <td>DURANGO</td>\n",
       "      <td>XX</td>\n",
       "      <td>NaN</td>\n",
       "      <td>UNKNOWN</td>\n",
       "      <td>SPORT UTILITY VEHICLE (SUV)</td>\n",
       "      <td>PERSONAL</td>\n",
       "      <td>S</td>\n",
       "      <td>STRAIGHT AHEAD</td>\n",
       "      <td>1.0</td>\n",
       "      <td>FRONT</td>\n",
       "    </tr>\n",
       "    <tr>\n",
       "      <th>470402</th>\n",
       "      <td>1434274</td>\n",
       "      <td>214b85e9f081b893ff7bf0a1a55c52afbf528908c8a84a...</td>\n",
       "      <td>10/05/2022 03:50:00 PM</td>\n",
       "      <td>2</td>\n",
       "      <td>DRIVER</td>\n",
       "      <td>1363061.0</td>\n",
       "      <td>TOYOTA</td>\n",
       "      <td>OTHER (EXPLAIN IN NARRATIVE)</td>\n",
       "      <td>IL</td>\n",
       "      <td>2021.0</td>\n",
       "      <td>NONE</td>\n",
       "      <td>PASSENGER</td>\n",
       "      <td>PERSONAL</td>\n",
       "      <td>W</td>\n",
       "      <td>STRAIGHT AHEAD</td>\n",
       "      <td>1.0</td>\n",
       "      <td>SIDE-LEFT</td>\n",
       "    </tr>\n",
       "    <tr>\n",
       "      <th>1185068</th>\n",
       "      <td>568301</td>\n",
       "      <td>227c25758c44dfcf6b23ffcb73ac6aca3f43ac09959aa5...</td>\n",
       "      <td>01/22/2019 12:30:00 AM</td>\n",
       "      <td>1</td>\n",
       "      <td>DRIVER</td>\n",
       "      <td>541965.0</td>\n",
       "      <td>UNKNOWN</td>\n",
       "      <td>UNKNOWN</td>\n",
       "      <td>NaN</td>\n",
       "      <td>NaN</td>\n",
       "      <td>UNKNOWN</td>\n",
       "      <td>UNKNOWN/NA</td>\n",
       "      <td>UNKNOWN/NA</td>\n",
       "      <td>UNKNOWN</td>\n",
       "      <td>UNKNOWN/NA</td>\n",
       "      <td>1.0</td>\n",
       "      <td>UNKNOWN</td>\n",
       "    </tr>\n",
       "    <tr>\n",
       "      <th>156799</th>\n",
       "      <td>1132351</td>\n",
       "      <td>c179571e0772940bd7246d5f14bedc27a412ba1ac4430d...</td>\n",
       "      <td>07/03/2021 10:40:00 PM</td>\n",
       "      <td>2</td>\n",
       "      <td>DRIVER</td>\n",
       "      <td>1074107.0</td>\n",
       "      <td>HONDA</td>\n",
       "      <td>CIVIC</td>\n",
       "      <td>IL</td>\n",
       "      <td>2015.0</td>\n",
       "      <td>NONE</td>\n",
       "      <td>PASSENGER</td>\n",
       "      <td>PERSONAL</td>\n",
       "      <td>W</td>\n",
       "      <td>TURNING LEFT</td>\n",
       "      <td>2.0</td>\n",
       "      <td>REAR-RIGHT-CORNER</td>\n",
       "    </tr>\n",
       "    <tr>\n",
       "      <th>1116007</th>\n",
       "      <td>500665</td>\n",
       "      <td>90689b668af032db024f1948c9c32ea26ff3b94f26f153...</td>\n",
       "      <td>10/15/2018 10:45:00 PM</td>\n",
       "      <td>2</td>\n",
       "      <td>DRIVER</td>\n",
       "      <td>478723.0</td>\n",
       "      <td>LINCOLN-CONTINENTAL</td>\n",
       "      <td>MKX</td>\n",
       "      <td>IL</td>\n",
       "      <td>2013.0</td>\n",
       "      <td>NONE</td>\n",
       "      <td>PASSENGER</td>\n",
       "      <td>PERSONAL</td>\n",
       "      <td>W</td>\n",
       "      <td>STRAIGHT AHEAD</td>\n",
       "      <td>1.0</td>\n",
       "      <td>SIDE-RIGHT</td>\n",
       "    </tr>\n",
       "    <tr>\n",
       "      <th>860396</th>\n",
       "      <td>252168</td>\n",
       "      <td>2486de0c47b0d28cfba4370c11e6accbc5581c19d2e625...</td>\n",
       "      <td>11/02/2017 11:06:00 AM</td>\n",
       "      <td>1</td>\n",
       "      <td>DRIVER</td>\n",
       "      <td>245728.0</td>\n",
       "      <td>COOK SEMI TRAILER</td>\n",
       "      <td>COOK SEMI TRAILER</td>\n",
       "      <td>IL</td>\n",
       "      <td>2015.0</td>\n",
       "      <td>NONE</td>\n",
       "      <td>TRUCK - SINGLE UNIT</td>\n",
       "      <td>COMMERCIAL - SINGLE UNIT</td>\n",
       "      <td>W</td>\n",
       "      <td>BACKING</td>\n",
       "      <td>1.0</td>\n",
       "      <td>REAR</td>\n",
       "    </tr>\n",
       "  </tbody>\n",
       "</table>\n",
       "</div>"
      ],
      "text/plain": [
       "         CRASH_UNIT_ID                                    CRASH_RECORD_ID  \\\n",
       "312623         1282028  9cd7f3d754b1e2ff23bb1492ec9f7a56cbdca298353913...   \n",
       "621264         1579868  1f9ed8daeeced062e3a60afcb01a3f1627dcfe36c27ee7...   \n",
       "202899         1176969  3cd01fa18cea17f89fff105624036ab459f46b81b63e68...   \n",
       "827519           22014  0dfb5e84dd2f1b107e39da5656792c8861cba41f434995...   \n",
       "889391           28022  08e4960ec978f3fbef25a1561e7d228cda66d67829fd95...   \n",
       "470402         1434274  214b85e9f081b893ff7bf0a1a55c52afbf528908c8a84a...   \n",
       "1185068         568301  227c25758c44dfcf6b23ffcb73ac6aca3f43ac09959aa5...   \n",
       "156799         1132351  c179571e0772940bd7246d5f14bedc27a412ba1ac4430d...   \n",
       "1116007         500665  90689b668af032db024f1948c9c32ea26ff3b94f26f153...   \n",
       "860396          252168  2486de0c47b0d28cfba4370c11e6accbc5581c19d2e625...   \n",
       "\n",
       "                     CRASH_DATE  UNIT_NO UNIT_TYPE  VEHICLE_ID  \\\n",
       "312623   02/15/2022 12:50:00 PM        1    DRIVER   1217277.0   \n",
       "621264   05/17/2023 03:00:00 PM        1    DRIVER   1503088.0   \n",
       "202899   09/05/2021 03:55:00 AM        1    DRIVER   1116541.0   \n",
       "827519   01/09/2016 02:10:00 PM        1    DRIVER     21198.0   \n",
       "889391   02/01/2016 04:00:00 AM        1    DRIVER     27057.0   \n",
       "470402   10/05/2022 03:50:00 PM        2    DRIVER   1363061.0   \n",
       "1185068  01/22/2019 12:30:00 AM        1    DRIVER    541965.0   \n",
       "156799   07/03/2021 10:40:00 PM        2    DRIVER   1074107.0   \n",
       "1116007  10/15/2018 10:45:00 PM        2    DRIVER    478723.0   \n",
       "860396   11/02/2017 11:06:00 AM        1    DRIVER    245728.0   \n",
       "\n",
       "                        MAKE                         MODEL LIC_PLATE_STATE  \\\n",
       "312623                  FORD  OTHER (EXPLAIN IN NARRATIVE)              IL   \n",
       "621264             CHEVROLET                     SILVERADO              IL   \n",
       "202899             CHEVROLET                        MALIBU              IL   \n",
       "827519                 DODGE                       CARAVAN              IL   \n",
       "889391                 DODGE                       DURANGO              XX   \n",
       "470402                TOYOTA  OTHER (EXPLAIN IN NARRATIVE)              IL   \n",
       "1185068              UNKNOWN                       UNKNOWN             NaN   \n",
       "156799                 HONDA                         CIVIC              IL   \n",
       "1116007  LINCOLN-CONTINENTAL                           MKX              IL   \n",
       "860396     COOK SEMI TRAILER             COOK SEMI TRAILER              IL   \n",
       "\n",
       "         VEHICLE_YEAR VEHICLE_DEFECT                 VEHICLE_TYPE  \\\n",
       "312623         2014.0        UNKNOWN                       PICKUP   \n",
       "621264         2017.0        UNKNOWN          TRUCK - SINGLE UNIT   \n",
       "202899         2013.0           NONE                    PASSENGER   \n",
       "827519         2005.0        UNKNOWN                 VAN/MINI-VAN   \n",
       "889391            NaN        UNKNOWN  SPORT UTILITY VEHICLE (SUV)   \n",
       "470402         2021.0           NONE                    PASSENGER   \n",
       "1185068           NaN        UNKNOWN                   UNKNOWN/NA   \n",
       "156799         2015.0           NONE                    PASSENGER   \n",
       "1116007        2013.0           NONE                    PASSENGER   \n",
       "860396         2015.0           NONE          TRUCK - SINGLE UNIT   \n",
       "\n",
       "                      VEHICLE_USE TRAVEL_DIRECTION            MANEUVER  \\\n",
       "312623                   PERSONAL                W             BACKING   \n",
       "621264                 UNKNOWN/NA                W  PASSING/OVERTAKING   \n",
       "202899                   PERSONAL                E      STRAIGHT AHEAD   \n",
       "827519                 UNKNOWN/NA                E             BACKING   \n",
       "889391                   PERSONAL                S      STRAIGHT AHEAD   \n",
       "470402                   PERSONAL                W      STRAIGHT AHEAD   \n",
       "1185068                UNKNOWN/NA          UNKNOWN          UNKNOWN/NA   \n",
       "156799                   PERSONAL                W        TURNING LEFT   \n",
       "1116007                  PERSONAL                W      STRAIGHT AHEAD   \n",
       "860396   COMMERCIAL - SINGLE UNIT                W             BACKING   \n",
       "\n",
       "         OCCUPANT_CNT FIRST_CONTACT_POINT  \n",
       "312623            1.0             UNKNOWN  \n",
       "621264            1.0             UNKNOWN  \n",
       "202899            1.0   FRONT-LEFT-CORNER  \n",
       "827519            2.0          REAR-RIGHT  \n",
       "889391            1.0               FRONT  \n",
       "470402            1.0           SIDE-LEFT  \n",
       "1185068           1.0             UNKNOWN  \n",
       "156799            2.0   REAR-RIGHT-CORNER  \n",
       "1116007           1.0          SIDE-RIGHT  \n",
       "860396            1.0                REAR  "
      ]
     },
     "execution_count": 120,
     "metadata": {},
     "output_type": "execute_result"
    }
   ],
   "source": [
    "df = vehicles[useful_columns]\n",
    "df.sample(10)"
   ]
  },
  {
   "cell_type": "code",
   "execution_count": 121,
   "id": "791c103f",
   "metadata": {},
   "outputs": [
    {
     "name": "stdout",
     "output_type": "stream",
     "text": [
      "<class 'pandas.core.frame.DataFrame'>\n",
      "RangeIndex: 1629817 entries, 0 to 1629816\n",
      "Data columns (total 17 columns):\n",
      " #   Column               Non-Null Count    Dtype  \n",
      "---  ------               --------------    -----  \n",
      " 0   CRASH_UNIT_ID        1629817 non-null  int64  \n",
      " 1   CRASH_RECORD_ID      1629817 non-null  object \n",
      " 2   CRASH_DATE           1629817 non-null  object \n",
      " 3   UNIT_NO              1629817 non-null  int64  \n",
      " 4   UNIT_TYPE            1627714 non-null  object \n",
      " 5   VEHICLE_ID           1592521 non-null  float64\n",
      " 6   MAKE                 1592516 non-null  object \n",
      " 7   MODEL                1592371 non-null  object \n",
      " 8   LIC_PLATE_STATE      1446619 non-null  object \n",
      " 9   VEHICLE_YEAR         1336168 non-null  float64\n",
      " 10  VEHICLE_DEFECT       1592521 non-null  object \n",
      " 11  VEHICLE_TYPE         1592521 non-null  object \n",
      " 12  VEHICLE_USE          1592521 non-null  object \n",
      " 13  TRAVEL_DIRECTION     1592521 non-null  object \n",
      " 14  MANEUVER             1592521 non-null  object \n",
      " 15  OCCUPANT_CNT         1592521 non-null  float64\n",
      " 16  FIRST_CONTACT_POINT  1589408 non-null  object \n",
      "dtypes: float64(3), int64(2), object(12)\n",
      "memory usage: 211.4+ MB\n"
     ]
    }
   ],
   "source": [
    "df.info()"
   ]
  },
  {
   "cell_type": "markdown",
   "id": "b18d3163",
   "metadata": {},
   "source": [
    "## Convert crash_date to datetime"
   ]
  },
  {
   "cell_type": "code",
   "execution_count": 122,
   "id": "82279e9f",
   "metadata": {
    "scrolled": true
   },
   "outputs": [],
   "source": [
    "df['CRASH_DATE'] = pd.to_datetime(df['CRASH_DATE'])"
   ]
  },
  {
   "cell_type": "code",
   "execution_count": 123,
   "id": "6f64b02c",
   "metadata": {},
   "outputs": [
    {
     "data": {
      "image/png": "[encoded data removed]",
      "text/plain": [
       "<Figure size 640x480 with 1 Axes>"
      ]
     },
     "metadata": {},
     "output_type": "display_data"
    }
   ],
   "source": [
    "df['CRASH_DATE'].dt.hour.value_counts().plot(kind = 'bar');"
   ]
  },
  {
   "cell_type": "code",
   "execution_count": 124,
   "id": "28208ca2",
   "metadata": {
    "scrolled": true
   },
   "outputs": [
    {
     "data": {
      "image/png": "[encoded data removed]",
      "text/plain": [
       "<Figure size 640x480 with 1 Axes>"
      ]
     },
     "metadata": {},
     "output_type": "display_data"
    }
   ],
   "source": [
    "df['CRASH_DATE'].dt.month.value_counts().plot(kind = 'bar');"
   ]
  },
  {
   "cell_type": "markdown",
   "id": "e6d93535",
   "metadata": {},
   "source": [
    "## Replace NaNs in vehicle_defect with unknown"
   ]
  },
  {
   "cell_type": "code",
   "execution_count": 125,
   "id": "b5345122",
   "metadata": {},
   "outputs": [],
   "source": [
    "df['VEHICLE_DEFECT'].replace({np.nan: 'UNKNOWN', }, inplace = True)"
   ]
  },
  {
   "cell_type": "code",
   "execution_count": 147,
   "id": "7b18b90a",
   "metadata": {},
   "outputs": [
    {
     "data": {
      "text/plain": [
       "17"
      ]
     },
     "execution_count": 147,
     "metadata": {},
     "output_type": "execute_result"
    }
   ],
   "source": [
    "len(df['VEHICLE_DEFECT'].unique())"
   ]
  },
  {
   "cell_type": "markdown",
   "id": "105e79d7",
   "metadata": {},
   "source": [
    "## Replace Nans in vehicle_type with unknown"
   ]
  },
  {
   "cell_type": "code",
   "execution_count": 126,
   "id": "3fe8fe4c",
   "metadata": {
    "scrolled": true
   },
   "outputs": [],
   "source": [
    "df['VEHICLE_TYPE'].replace({np.nan: 'UNKNOWN/NA'}, inplace = True)"
   ]
  },
  {
   "cell_type": "code",
   "execution_count": 149,
   "id": "becd2057",
   "metadata": {},
   "outputs": [
    {
     "data": {
      "text/plain": [
       "22"
      ]
     },
     "execution_count": 149,
     "metadata": {},
     "output_type": "execute_result"
    }
   ],
   "source": [
    "len(df['VEHICLE_TYPE'].unique())"
   ]
  },
  {
   "cell_type": "markdown",
   "id": "31377da9",
   "metadata": {},
   "source": [
    "## Replace NaNs in vehicle_use with unknown"
   ]
  },
  {
   "cell_type": "code",
   "execution_count": 127,
   "id": "f30b9f77",
   "metadata": {},
   "outputs": [],
   "source": [
    "df['VEHICLE_USE'].replace({np.nan: 'UNKNOWN/NA'}, inplace = True)"
   ]
  },
  {
   "cell_type": "code",
   "execution_count": 128,
   "id": "143b0abd",
   "metadata": {},
   "outputs": [
    {
     "data": {
      "text/plain": [
       "<Axes: ylabel='VEHICLE_USE'>"
      ]
     },
     "execution_count": 128,
     "metadata": {},
     "output_type": "execute_result"
    },
    {
     "data": {
      "image/png": "[encoded data removed]",
      "text/plain": [
       "<Figure size 640x480 with 1 Axes>"
      ]
     },
     "metadata": {},
     "output_type": "display_data"
    }
   ],
   "source": [
    "df['VEHICLE_USE'].value_counts().plot(kind = 'barh')"
   ]
  },
  {
   "cell_type": "code",
   "execution_count": 150,
   "id": "05af6f01",
   "metadata": {},
   "outputs": [
    {
     "data": {
      "text/plain": [
       "25"
      ]
     },
     "execution_count": 150,
     "metadata": {},
     "output_type": "execute_result"
    }
   ],
   "source": [
    "len(df['VEHICLE_USE'].unique())"
   ]
  },
  {
   "cell_type": "code",
   "execution_count": 129,
   "id": "a31fa80b",
   "metadata": {},
   "outputs": [],
   "source": [
    "df['MANEUVER'].replace({np.nan: 'UNKNOWN/NA'}, inplace = True)"
   ]
  },
  {
   "cell_type": "code",
   "execution_count": 130,
   "id": "15d9f336",
   "metadata": {
    "scrolled": true
   },
   "outputs": [
    {
     "data": {
      "text/plain": [
       "<Axes: ylabel='MANEUVER'>"
      ]
     },
     "execution_count": 130,
     "metadata": {},
     "output_type": "execute_result"
    },
    {
     "data": {
      "image/png": "[encoded data removed]",
      "text/plain": [
       "<Figure size 640x480 with 1 Axes>"
      ]
     },
     "metadata": {},
     "output_type": "display_data"
    }
   ],
   "source": [
    "df['MANEUVER'].value_counts().plot(kind = 'barh')"
   ]
  },
  {
   "cell_type": "code",
   "execution_count": 151,
   "id": "5688edd8",
   "metadata": {},
   "outputs": [
    {
     "data": {
      "text/plain": [
       "28"
      ]
     },
     "execution_count": 151,
     "metadata": {},
     "output_type": "execute_result"
    }
   ],
   "source": [
    "len(df['MANEUVER'].unique())"
   ]
  },
  {
   "cell_type": "markdown",
   "id": "b059ead6",
   "metadata": {},
   "source": [
    "   ## Replaced NaNs in occupant_cnt with 999"
   ]
  },
  {
   "cell_type": "code",
   "execution_count": 131,
   "id": "d5606248",
   "metadata": {},
   "outputs": [],
   "source": [
    "df['OCCUPANT_CNT'].replace({np.nan: 999}, inplace = True)"
   ]
  },
  {
   "cell_type": "markdown",
   "id": "5a392a10",
   "metadata": {},
   "source": [
    "## Replaced NaNs in first_contact_point with unknown"
   ]
  },
  {
   "cell_type": "code",
   "execution_count": 132,
   "id": "ed585ed8",
   "metadata": {},
   "outputs": [],
   "source": [
    "df['FIRST_CONTACT_POINT'].replace({np.nan: 'UNKOWN' }, inplace = True)"
   ]
  },
  {
   "cell_type": "code",
   "execution_count": 133,
   "id": "1538522c",
   "metadata": {},
   "outputs": [
    {
     "data": {
      "text/html": [
       "<div>\n",
       "<style scoped>\n",
       "    .dataframe tbody tr th:only-of-type {\n",
       "        vertical-align: middle;\n",
       "    }\n",
       "\n",
       "    .dataframe tbody tr th {\n",
       "        vertical-align: top;\n",
       "    }\n",
       "\n",
       "    .dataframe thead th {\n",
       "        text-align: right;\n",
       "    }\n",
       "</style>\n",
       "<table border=\"1\" class=\"dataframe\">\n",
       "  <thead>\n",
       "    <tr style=\"text-align: right;\">\n",
       "      <th></th>\n",
       "      <th>CRASH_UNIT_ID</th>\n",
       "      <th>CRASH_RECORD_ID</th>\n",
       "      <th>CRASH_DATE</th>\n",
       "      <th>UNIT_NO</th>\n",
       "      <th>UNIT_TYPE</th>\n",
       "      <th>VEHICLE_ID</th>\n",
       "      <th>MAKE</th>\n",
       "      <th>MODEL</th>\n",
       "      <th>LIC_PLATE_STATE</th>\n",
       "      <th>VEHICLE_YEAR</th>\n",
       "      <th>VEHICLE_DEFECT</th>\n",
       "      <th>VEHICLE_TYPE</th>\n",
       "      <th>VEHICLE_USE</th>\n",
       "      <th>TRAVEL_DIRECTION</th>\n",
       "      <th>MANEUVER</th>\n",
       "      <th>OCCUPANT_CNT</th>\n",
       "      <th>FIRST_CONTACT_POINT</th>\n",
       "    </tr>\n",
       "  </thead>\n",
       "  <tbody>\n",
       "    <tr>\n",
       "      <th>0</th>\n",
       "      <td>1729734</td>\n",
       "      <td>8266c4c33c41836510756c5adbb9fc9780c658cbe80c7c...</td>\n",
       "      <td>2023-12-24 23:40:00</td>\n",
       "      <td>1</td>\n",
       "      <td>DRIVER</td>\n",
       "      <td>1646676.0</td>\n",
       "      <td>FORD</td>\n",
       "      <td>FLEX</td>\n",
       "      <td>NaN</td>\n",
       "      <td>NaN</td>\n",
       "      <td>UNKNOWN</td>\n",
       "      <td>PASSENGER</td>\n",
       "      <td>UNKNOWN/NA</td>\n",
       "      <td>W</td>\n",
       "      <td>BACKING</td>\n",
       "      <td>1.0</td>\n",
       "      <td>REAR</td>\n",
       "    </tr>\n",
       "    <tr>\n",
       "      <th>1</th>\n",
       "      <td>1729735</td>\n",
       "      <td>8266c4c33c41836510756c5adbb9fc9780c658cbe80c7c...</td>\n",
       "      <td>2023-12-24 23:40:00</td>\n",
       "      <td>2</td>\n",
       "      <td>PARKED</td>\n",
       "      <td>1646677.0</td>\n",
       "      <td>LINCOLN</td>\n",
       "      <td>MKX</td>\n",
       "      <td>IL</td>\n",
       "      <td>2010.0</td>\n",
       "      <td>UNKNOWN</td>\n",
       "      <td>SPORT UTILITY VEHICLE (SUV)</td>\n",
       "      <td>PERSONAL</td>\n",
       "      <td>W</td>\n",
       "      <td>PARKED</td>\n",
       "      <td>0.0</td>\n",
       "      <td>FRONT</td>\n",
       "    </tr>\n",
       "    <tr>\n",
       "      <th>2</th>\n",
       "      <td>1736580</td>\n",
       "      <td>f7c706b7ba93e1d7e6dee3f1904ac47221cf81810c3167...</td>\n",
       "      <td>2024-01-07 03:07:00</td>\n",
       "      <td>1</td>\n",
       "      <td>DRIVER</td>\n",
       "      <td>1653244.0</td>\n",
       "      <td>TOYOTA</td>\n",
       "      <td>CAMRY</td>\n",
       "      <td>IL</td>\n",
       "      <td>1995.0</td>\n",
       "      <td>UNKNOWN</td>\n",
       "      <td>PASSENGER</td>\n",
       "      <td>PERSONAL</td>\n",
       "      <td>E</td>\n",
       "      <td>STRAIGHT AHEAD</td>\n",
       "      <td>2.0</td>\n",
       "      <td>FRONT-LEFT-CORNER</td>\n",
       "    </tr>\n",
       "    <tr>\n",
       "      <th>3</th>\n",
       "      <td>1736581</td>\n",
       "      <td>f7c706b7ba93e1d7e6dee3f1904ac47221cf81810c3167...</td>\n",
       "      <td>2024-01-07 03:07:00</td>\n",
       "      <td>2</td>\n",
       "      <td>DRIVER</td>\n",
       "      <td>1653247.0</td>\n",
       "      <td>VOLKSWAGEN</td>\n",
       "      <td>TIGUAN</td>\n",
       "      <td>IL</td>\n",
       "      <td>2022.0</td>\n",
       "      <td>NONE</td>\n",
       "      <td>PASSENGER</td>\n",
       "      <td>PERSONAL</td>\n",
       "      <td>E</td>\n",
       "      <td>STRAIGHT AHEAD</td>\n",
       "      <td>1.0</td>\n",
       "      <td>REAR-RIGHT-CORNER</td>\n",
       "    </tr>\n",
       "    <tr>\n",
       "      <th>4</th>\n",
       "      <td>1736941</td>\n",
       "      <td>567e8399c28784f6ded076c975c8be0cdffa412c812a21...</td>\n",
       "      <td>2024-01-07 18:54:00</td>\n",
       "      <td>1</td>\n",
       "      <td>DRIVER</td>\n",
       "      <td>1653594.0</td>\n",
       "      <td>TESLA</td>\n",
       "      <td>MODEL Y</td>\n",
       "      <td>IL</td>\n",
       "      <td>2021.0</td>\n",
       "      <td>UNKNOWN</td>\n",
       "      <td>PASSENGER</td>\n",
       "      <td>PERSONAL</td>\n",
       "      <td>S</td>\n",
       "      <td>STRAIGHT AHEAD</td>\n",
       "      <td>1.0</td>\n",
       "      <td>FRONT</td>\n",
       "    </tr>\n",
       "  </tbody>\n",
       "</table>\n",
       "</div>"
      ],
      "text/plain": [
       "   CRASH_UNIT_ID                                    CRASH_RECORD_ID  \\\n",
       "0        1729734  8266c4c33c41836510756c5adbb9fc9780c658cbe80c7c...   \n",
       "1        1729735  8266c4c33c41836510756c5adbb9fc9780c658cbe80c7c...   \n",
       "2        1736580  f7c706b7ba93e1d7e6dee3f1904ac47221cf81810c3167...   \n",
       "3        1736581  f7c706b7ba93e1d7e6dee3f1904ac47221cf81810c3167...   \n",
       "4        1736941  567e8399c28784f6ded076c975c8be0cdffa412c812a21...   \n",
       "\n",
       "           CRASH_DATE  UNIT_NO UNIT_TYPE  VEHICLE_ID        MAKE    MODEL  \\\n",
       "0 2023-12-24 23:40:00        1    DRIVER   1646676.0        FORD     FLEX   \n",
       "1 2023-12-24 23:40:00        2    PARKED   1646677.0     LINCOLN      MKX   \n",
       "2 2024-01-07 03:07:00        1    DRIVER   1653244.0      TOYOTA    CAMRY   \n",
       "3 2024-01-07 03:07:00        2    DRIVER   1653247.0  VOLKSWAGEN   TIGUAN   \n",
       "4 2024-01-07 18:54:00        1    DRIVER   1653594.0       TESLA  MODEL Y   \n",
       "\n",
       "  LIC_PLATE_STATE  VEHICLE_YEAR VEHICLE_DEFECT                 VEHICLE_TYPE  \\\n",
       "0             NaN           NaN        UNKNOWN                    PASSENGER   \n",
       "1              IL        2010.0        UNKNOWN  SPORT UTILITY VEHICLE (SUV)   \n",
       "2              IL        1995.0        UNKNOWN                    PASSENGER   \n",
       "3              IL        2022.0           NONE                    PASSENGER   \n",
       "4              IL        2021.0        UNKNOWN                    PASSENGER   \n",
       "\n",
       "  VEHICLE_USE TRAVEL_DIRECTION        MANEUVER  OCCUPANT_CNT  \\\n",
       "0  UNKNOWN/NA                W         BACKING           1.0   \n",
       "1    PERSONAL                W          PARKED           0.0   \n",
       "2    PERSONAL                E  STRAIGHT AHEAD           2.0   \n",
       "3    PERSONAL                E  STRAIGHT AHEAD           1.0   \n",
       "4    PERSONAL                S  STRAIGHT AHEAD           1.0   \n",
       "\n",
       "  FIRST_CONTACT_POINT  \n",
       "0                REAR  \n",
       "1               FRONT  \n",
       "2   FRONT-LEFT-CORNER  \n",
       "3   REAR-RIGHT-CORNER  \n",
       "4               FRONT  "
      ]
     },
     "execution_count": 133,
     "metadata": {},
     "output_type": "execute_result"
    }
   ],
   "source": [
    "df.head()"
   ]
  },
  {
   "cell_type": "code",
   "execution_count": 152,
   "id": "8ab0310d",
   "metadata": {},
   "outputs": [
    {
     "data": {
      "text/plain": [
       "24"
      ]
     },
     "execution_count": 152,
     "metadata": {},
     "output_type": "execute_result"
    }
   ],
   "source": [
    "len(df['FIRST_CONTACT_POINT'].unique())"
   ]
  },
  {
   "cell_type": "code",
   "execution_count": 156,
   "id": "54cc9463",
   "metadata": {},
   "outputs": [],
   "source": [
    "cat_columns = ['UNIT_TYPE', 'VEHICLE_DEFECT', 'VEHICLE_TYPE', 'VEHICLE_USE', 'MANEUVER',\\\n",
    "              'FIRST_CONTACT_POINT']"
   ]
  },
  {
   "cell_type": "code",
   "execution_count": 159,
   "id": "566aa08a",
   "metadata": {},
   "outputs": [],
   "source": [
    "vehicles_dummies_df = pd.get_dummies(df, columns = cat_columns, drop_first = True, dtype = int)"
   ]
  },
  {
   "cell_type": "code",
   "execution_count": 160,
   "id": "2fad0b16",
   "metadata": {},
   "outputs": [
    {
     "data": {
      "text/html": [
       "<div>\n",
       "<style scoped>\n",
       "    .dataframe tbody tr th:only-of-type {\n",
       "        vertical-align: middle;\n",
       "    }\n",
       "\n",
       "    .dataframe tbody tr th {\n",
       "        vertical-align: top;\n",
       "    }\n",
       "\n",
       "    .dataframe thead th {\n",
       "        text-align: right;\n",
       "    }\n",
       "</style>\n",
       "<table border=\"1\" class=\"dataframe\">\n",
       "  <thead>\n",
       "    <tr style=\"text-align: right;\">\n",
       "      <th></th>\n",
       "      <th>CRASH_UNIT_ID</th>\n",
       "      <th>CRASH_RECORD_ID</th>\n",
       "      <th>CRASH_DATE</th>\n",
       "      <th>UNIT_NO</th>\n",
       "      <th>VEHICLE_ID</th>\n",
       "      <th>MAKE</th>\n",
       "      <th>MODEL</th>\n",
       "      <th>LIC_PLATE_STATE</th>\n",
       "      <th>VEHICLE_YEAR</th>\n",
       "      <th>TRAVEL_DIRECTION</th>\n",
       "      <th>...</th>\n",
       "      <th>FIRST_CONTACT_POINT_SIDE-LEFT-FRONT</th>\n",
       "      <th>FIRST_CONTACT_POINT_SIDE-LEFT-REAR</th>\n",
       "      <th>FIRST_CONTACT_POINT_SIDE-RIGHT</th>\n",
       "      <th>FIRST_CONTACT_POINT_SIDE-RIGHT-FRONT</th>\n",
       "      <th>FIRST_CONTACT_POINT_SIDE-RIGHT-REAR</th>\n",
       "      <th>FIRST_CONTACT_POINT_TOP</th>\n",
       "      <th>FIRST_CONTACT_POINT_TOTAL (ALL AREAS)</th>\n",
       "      <th>FIRST_CONTACT_POINT_UNDER CARRIAGE</th>\n",
       "      <th>FIRST_CONTACT_POINT_UNKNOWN</th>\n",
       "      <th>FIRST_CONTACT_POINT_UNKOWN</th>\n",
       "    </tr>\n",
       "  </thead>\n",
       "  <tbody>\n",
       "    <tr>\n",
       "      <th>1119423</th>\n",
       "      <td>504018</td>\n",
       "      <td>ab6447e7c40d337f4cd68429a4a2f08a50cffde7c5d6a9...</td>\n",
       "      <td>2018-10-19 20:12:00</td>\n",
       "      <td>1</td>\n",
       "      <td>481808.0</td>\n",
       "      <td>HONDA</td>\n",
       "      <td>CRV</td>\n",
       "      <td>NJ</td>\n",
       "      <td>2008.0</td>\n",
       "      <td>W</td>\n",
       "      <td>...</td>\n",
       "      <td>0</td>\n",
       "      <td>0</td>\n",
       "      <td>0</td>\n",
       "      <td>0</td>\n",
       "      <td>0</td>\n",
       "      <td>0</td>\n",
       "      <td>0</td>\n",
       "      <td>0</td>\n",
       "      <td>0</td>\n",
       "      <td>0</td>\n",
       "    </tr>\n",
       "    <tr>\n",
       "      <th>1494723</th>\n",
       "      <td>868814</td>\n",
       "      <td>cf1736bd1764d7f8c5e4a2e589a1c5b79635868449606f...</td>\n",
       "      <td>2020-04-02 13:00:00</td>\n",
       "      <td>2</td>\n",
       "      <td>824326.0</td>\n",
       "      <td>HYUNDAI</td>\n",
       "      <td>ACCENT</td>\n",
       "      <td>IL</td>\n",
       "      <td>2013.0</td>\n",
       "      <td>N</td>\n",
       "      <td>...</td>\n",
       "      <td>0</td>\n",
       "      <td>0</td>\n",
       "      <td>0</td>\n",
       "      <td>0</td>\n",
       "      <td>0</td>\n",
       "      <td>0</td>\n",
       "      <td>0</td>\n",
       "      <td>0</td>\n",
       "      <td>0</td>\n",
       "      <td>0</td>\n",
       "    </tr>\n",
       "    <tr>\n",
       "      <th>1415405</th>\n",
       "      <td>792180</td>\n",
       "      <td>eb6c92c0d838024c94f8d4fe71c53945d5a93facb2faef...</td>\n",
       "      <td>2019-11-29 15:10:00</td>\n",
       "      <td>1</td>\n",
       "      <td>752292.0</td>\n",
       "      <td>TOYOTA MOTOR COMPANY, LTD.</td>\n",
       "      <td>UNKNOWN</td>\n",
       "      <td>IL</td>\n",
       "      <td>1993.0</td>\n",
       "      <td>W</td>\n",
       "      <td>...</td>\n",
       "      <td>0</td>\n",
       "      <td>0</td>\n",
       "      <td>0</td>\n",
       "      <td>0</td>\n",
       "      <td>0</td>\n",
       "      <td>0</td>\n",
       "      <td>0</td>\n",
       "      <td>0</td>\n",
       "      <td>0</td>\n",
       "      <td>1</td>\n",
       "    </tr>\n",
       "    <tr>\n",
       "      <th>1257751</th>\n",
       "      <td>63953</td>\n",
       "      <td>26b9eb4b76c486dc2f4484012b647698b9717324a91042...</td>\n",
       "      <td>2016-08-05 09:57:00</td>\n",
       "      <td>1</td>\n",
       "      <td>61863.0</td>\n",
       "      <td>HYUNDAI</td>\n",
       "      <td>SONATA</td>\n",
       "      <td>IL</td>\n",
       "      <td>2016.0</td>\n",
       "      <td>N</td>\n",
       "      <td>...</td>\n",
       "      <td>0</td>\n",
       "      <td>0</td>\n",
       "      <td>0</td>\n",
       "      <td>0</td>\n",
       "      <td>0</td>\n",
       "      <td>0</td>\n",
       "      <td>0</td>\n",
       "      <td>0</td>\n",
       "      <td>0</td>\n",
       "      <td>0</td>\n",
       "    </tr>\n",
       "    <tr>\n",
       "      <th>1588288</th>\n",
       "      <td>959620</td>\n",
       "      <td>38b31ae36b98410180be820ddd3ca0b88bd0f4b7bebf31...</td>\n",
       "      <td>2020-09-17 01:00:00</td>\n",
       "      <td>1</td>\n",
       "      <td>909508.0</td>\n",
       "      <td>UNKNOWN</td>\n",
       "      <td>MOTORIZED</td>\n",
       "      <td>NaN</td>\n",
       "      <td>NaN</td>\n",
       "      <td>UNKNOWN</td>\n",
       "      <td>...</td>\n",
       "      <td>0</td>\n",
       "      <td>0</td>\n",
       "      <td>0</td>\n",
       "      <td>0</td>\n",
       "      <td>0</td>\n",
       "      <td>0</td>\n",
       "      <td>0</td>\n",
       "      <td>0</td>\n",
       "      <td>1</td>\n",
       "      <td>0</td>\n",
       "    </tr>\n",
       "  </tbody>\n",
       "</table>\n",
       "<p>5 rows × 130 columns</p>\n",
       "</div>"
      ],
      "text/plain": [
       "         CRASH_UNIT_ID                                    CRASH_RECORD_ID  \\\n",
       "1119423         504018  ab6447e7c40d337f4cd68429a4a2f08a50cffde7c5d6a9...   \n",
       "1494723         868814  cf1736bd1764d7f8c5e4a2e589a1c5b79635868449606f...   \n",
       "1415405         792180  eb6c92c0d838024c94f8d4fe71c53945d5a93facb2faef...   \n",
       "1257751          63953  26b9eb4b76c486dc2f4484012b647698b9717324a91042...   \n",
       "1588288         959620  38b31ae36b98410180be820ddd3ca0b88bd0f4b7bebf31...   \n",
       "\n",
       "                 CRASH_DATE  UNIT_NO  VEHICLE_ID                        MAKE  \\\n",
       "1119423 2018-10-19 20:12:00        1    481808.0                       HONDA   \n",
       "1494723 2020-04-02 13:00:00        2    824326.0                     HYUNDAI   \n",
       "1415405 2019-11-29 15:10:00        1    752292.0  TOYOTA MOTOR COMPANY, LTD.   \n",
       "1257751 2016-08-05 09:57:00        1     61863.0                     HYUNDAI   \n",
       "1588288 2020-09-17 01:00:00        1    909508.0                     UNKNOWN   \n",
       "\n",
       "             MODEL LIC_PLATE_STATE  VEHICLE_YEAR TRAVEL_DIRECTION  ...  \\\n",
       "1119423        CRV              NJ        2008.0                W  ...   \n",
       "1494723     ACCENT              IL        2013.0                N  ...   \n",
       "1415405    UNKNOWN              IL        1993.0                W  ...   \n",
       "1257751     SONATA              IL        2016.0                N  ...   \n",
       "1588288  MOTORIZED             NaN           NaN          UNKNOWN  ...   \n",
       "\n",
       "         FIRST_CONTACT_POINT_SIDE-LEFT-FRONT  \\\n",
       "1119423                                    0   \n",
       "1494723                                    0   \n",
       "1415405                                    0   \n",
       "1257751                                    0   \n",
       "1588288                                    0   \n",
       "\n",
       "         FIRST_CONTACT_POINT_SIDE-LEFT-REAR  FIRST_CONTACT_POINT_SIDE-RIGHT  \\\n",
       "1119423                                   0                               0   \n",
       "1494723                                   0                               0   \n",
       "1415405                                   0                               0   \n",
       "1257751                                   0                               0   \n",
       "1588288                                   0                               0   \n",
       "\n",
       "         FIRST_CONTACT_POINT_SIDE-RIGHT-FRONT  \\\n",
       "1119423                                     0   \n",
       "1494723                                     0   \n",
       "1415405                                     0   \n",
       "1257751                                     0   \n",
       "1588288                                     0   \n",
       "\n",
       "         FIRST_CONTACT_POINT_SIDE-RIGHT-REAR  FIRST_CONTACT_POINT_TOP  \\\n",
       "1119423                                    0                        0   \n",
       "1494723                                    0                        0   \n",
       "1415405                                    0                        0   \n",
       "1257751                                    0                        0   \n",
       "1588288                                    0                        0   \n",
       "\n",
       "         FIRST_CONTACT_POINT_TOTAL (ALL AREAS)  \\\n",
       "1119423                                      0   \n",
       "1494723                                      0   \n",
       "1415405                                      0   \n",
       "1257751                                      0   \n",
       "1588288                                      0   \n",
       "\n",
       "         FIRST_CONTACT_POINT_UNDER CARRIAGE  FIRST_CONTACT_POINT_UNKNOWN  \\\n",
       "1119423                                   0                            0   \n",
       "1494723                                   0                            0   \n",
       "1415405                                   0                            0   \n",
       "1257751                                   0                            0   \n",
       "1588288                                   0                            1   \n",
       "\n",
       "         FIRST_CONTACT_POINT_UNKOWN  \n",
       "1119423                           0  \n",
       "1494723                           0  \n",
       "1415405                           1  \n",
       "1257751                           0  \n",
       "1588288                           0  \n",
       "\n",
       "[5 rows x 130 columns]"
      ]
     },
     "execution_count": 160,
     "metadata": {},
     "output_type": "execute_result"
    }
   ],
   "source": [
    "vehicles_dummies_df.sample(5)"
   ]
  },
  {
   "cell_type": "code",
   "execution_count": null,
   "id": "e4486191",
   "metadata": {},
   "outputs": [],
   "source": []
  }
 ],
 "metadata": {
  "kernelspec": {
   "display_name": "learn-env",
   "language": "python",
   "name": "myenv"
  },
  "language_info": {
   "codemirror_mode": {
    "name": "ipython",
    "version": 3
   },
   "file_extension": ".py",
   "mimetype": "text/x-python",
   "name": "python",
   "nbconvert_exporter": "python",
   "pygments_lexer": "ipython3",
   "version": "3.11.5"
  }
 },
 "nbformat": 4,
 "nbformat_minor": 5
}
